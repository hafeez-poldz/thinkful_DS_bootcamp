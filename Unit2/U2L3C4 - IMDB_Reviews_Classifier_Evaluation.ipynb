{
 "cells": [
  {
   "cell_type": "markdown",
   "metadata": {},
   "source": [
    "#  IMDB Feedback Classifier Evaluation\n",
    "I'll apply Naive Bayes Classifier to analyze IMDB feedbacks by sentiment (either positive or negative) and will evaluate the accuracy using cross validation method. "
   ]
  },
  {
   "cell_type": "code",
   "execution_count": 1,
   "metadata": {},
   "outputs": [],
   "source": [
    "# import libraries\n",
    "import numpy as np\n",
    "import pandas as pd\n",
    "import matplotlib.pyplot as plt\n",
    "import seaborn as sns\n",
    "import scipy\n",
    "from sklearn.naive_bayes import BernoulliNB, MultinomialNB, GaussianNB\n",
    "from sklearn.metrics import accuracy_score\n",
    "from sklearn.model_selection import train_test_split\n",
    "import re\n",
    "import warnings\n",
    "warnings.filterwarnings('ignore')"
   ]
  },
  {
   "cell_type": "markdown",
   "metadata": {},
   "source": [
    "## 1. Preparing data for Classification"
   ]
  },
  {
   "cell_type": "code",
   "execution_count": 2,
   "metadata": {},
   "outputs": [
    {
     "data": {
      "text/html": [
       "<div>\n",
       "<style scoped>\n",
       "    .dataframe tbody tr th:only-of-type {\n",
       "        vertical-align: middle;\n",
       "    }\n",
       "\n",
       "    .dataframe tbody tr th {\n",
       "        vertical-align: top;\n",
       "    }\n",
       "\n",
       "    .dataframe thead th {\n",
       "        text-align: right;\n",
       "    }\n",
       "</style>\n",
       "<table border=\"1\" class=\"dataframe\">\n",
       "  <thead>\n",
       "    <tr style=\"text-align: right;\">\n",
       "      <th></th>\n",
       "      <th>reviews</th>\n",
       "      <th>sentiment</th>\n",
       "      <th>great</th>\n",
       "      <th>excellent</th>\n",
       "      <th>mindblowing</th>\n",
       "      <th>comic</th>\n",
       "      <th>imaginative</th>\n",
       "      <th>unbelivable</th>\n",
       "      <th>wonderful</th>\n",
       "    </tr>\n",
       "  </thead>\n",
       "  <tbody>\n",
       "    <tr>\n",
       "      <th>0</th>\n",
       "      <td>a very, very, very slow-moving, aimless movie ...</td>\n",
       "      <td>0</td>\n",
       "      <td>False</td>\n",
       "      <td>False</td>\n",
       "      <td>False</td>\n",
       "      <td>False</td>\n",
       "      <td>False</td>\n",
       "      <td>False</td>\n",
       "      <td>False</td>\n",
       "    </tr>\n",
       "    <tr>\n",
       "      <th>1</th>\n",
       "      <td>not sure who was more lost - the flat characte...</td>\n",
       "      <td>0</td>\n",
       "      <td>False</td>\n",
       "      <td>False</td>\n",
       "      <td>False</td>\n",
       "      <td>False</td>\n",
       "      <td>False</td>\n",
       "      <td>False</td>\n",
       "      <td>False</td>\n",
       "    </tr>\n",
       "    <tr>\n",
       "      <th>2</th>\n",
       "      <td>attempting artiness with black &amp; white and cle...</td>\n",
       "      <td>0</td>\n",
       "      <td>False</td>\n",
       "      <td>False</td>\n",
       "      <td>False</td>\n",
       "      <td>False</td>\n",
       "      <td>False</td>\n",
       "      <td>False</td>\n",
       "      <td>False</td>\n",
       "    </tr>\n",
       "    <tr>\n",
       "      <th>3</th>\n",
       "      <td>very little music or anything to speak of.</td>\n",
       "      <td>0</td>\n",
       "      <td>False</td>\n",
       "      <td>False</td>\n",
       "      <td>False</td>\n",
       "      <td>False</td>\n",
       "      <td>False</td>\n",
       "      <td>False</td>\n",
       "      <td>False</td>\n",
       "    </tr>\n",
       "    <tr>\n",
       "      <th>4</th>\n",
       "      <td>the best scene in the movie was when gerardo i...</td>\n",
       "      <td>1</td>\n",
       "      <td>True</td>\n",
       "      <td>False</td>\n",
       "      <td>False</td>\n",
       "      <td>False</td>\n",
       "      <td>False</td>\n",
       "      <td>False</td>\n",
       "      <td>False</td>\n",
       "    </tr>\n",
       "  </tbody>\n",
       "</table>\n",
       "</div>"
      ],
      "text/plain": [
       "                                             reviews  sentiment  great  \\\n",
       "0  a very, very, very slow-moving, aimless movie ...          0  False   \n",
       "1  not sure who was more lost - the flat characte...          0  False   \n",
       "2  attempting artiness with black & white and cle...          0  False   \n",
       "3       very little music or anything to speak of.            0  False   \n",
       "4  the best scene in the movie was when gerardo i...          1   True   \n",
       "\n",
       "   excellent  mindblowing  comic  imaginative  unbelivable  wonderful  \n",
       "0      False        False  False        False        False      False  \n",
       "1      False        False  False        False        False      False  \n",
       "2      False        False  False        False        False      False  \n",
       "3      False        False  False        False        False      False  \n",
       "4      False        False  False        False        False      False  "
      ]
     },
     "execution_count": 2,
     "metadata": {},
     "output_type": "execute_result"
    }
   ],
   "source": [
    "# load the data\n",
    "path = r'C:\\Users\\hafeez_poldz\\Desktop\\Thinkful\\Unit 2\\datas\\sentiment\\imdb_labelled.txt'\n",
    "df = pd.read_csv(path, delimiter = '\\t', header = None)\n",
    "df.columns = ['reviews', 'sentiment']\n",
    "\n",
    "# standartize the review columns\n",
    "df['reviews'] = df['reviews'].str.lower()\n",
    "df1 = df.copy()\n",
    "\n",
    "# I'll use regex to group similar terms rather to go with the long list of keywords\n",
    "keywords = ([r\"\\b(best|super(b)|great|worth|original|[^t] recommend(ed)?|must see|very well)\\b\", \"great\"],\n",
    "            [r\"\\b(excellent|impressive|amaz(ing|ed)|enjoy(ed|able)|fascinat(ing|ed)|legendary|perfect(ly|ed|ion)|good|nice)\\b\", \"excellent\"],\n",
    "            [r\"\\b(mindblowing|thought provoking|intriguing)\\b\", \"mindblowing\"],\n",
    "            [r\"\\bcomical\\b\", \"comic\"],\n",
    "            [r\"\\b(remarkable|interesting|imaginative)\\b\", \"imaginative\"],\n",
    "            [r\"\\b(incredib(le|ly)|unbelivab(le|ly))\\b\", \"unbelivable\"],\n",
    "            [r\"\\b(unpretentious|outstanding|adorable|wonderful|surpris(ing|ed))\\b\", \"wonderful\"])\n",
    "\n",
    "# see if the keyword/s are in the review\n",
    "for pattern, word in keywords:\n",
    "    df1[str(word)] = df1['reviews'].str.contains(pattern, case = False)\n",
    "df1.head()"
   ]
  },
  {
   "cell_type": "markdown",
   "metadata": {},
   "source": [
    "## 2. Naive Bayes Classicification. \n",
    "This data is binary / boolean, so I'll apply Bernoulli classifier."
   ]
  },
  {
   "cell_type": "code",
   "execution_count": 3,
   "metadata": {},
   "outputs": [
    {
     "name": "stdout",
     "output_type": "stream",
     "text": [
      " Number of mislabeled points out of a total 748 points : 278\n"
     ]
    }
   ],
   "source": [
    "# define data and target variables\n",
    "data = df1.loc[:, 'great':]\n",
    "y_true = df['sentiment']\n",
    "\n",
    "# instantiate Bernoulli model\n",
    "bnb = BernoulliNB()\n",
    "\n",
    "# fit the model to the data\n",
    "bnb.fit(data, y_true)\n",
    "\n",
    "# classify, storing the predictions in a new variable\n",
    "y_pred = bnb.predict(data)\n",
    "\n",
    "# print the results\n",
    "print(\" Number of mislabeled points out of a total {} points : {}\".format(data.shape[0], \n",
    "                                                                                     (y_true != y_pred).sum()))"
   ]
  },
  {
   "cell_type": "markdown",
   "metadata": {},
   "source": [
    "## 3. Evaluation of Classifier\n",
    "I already have model. Let see the accuracy. I doubt that is want I wanted.\n"
   ]
  },
  {
   "cell_type": "code",
   "execution_count": 4,
   "metadata": {},
   "outputs": [
    {
     "name": "stdout",
     "output_type": "stream",
     "text": [
      "accuracy score: 63.0%\n"
     ]
    }
   ],
   "source": [
    "# check the accyracy\n",
    "print(\"accuracy score: {}%\".format(round(accuracy_score(y_true, y_pred)*100)))"
   ]
  },
  {
   "cell_type": "code",
   "execution_count": 5,
   "metadata": {},
   "outputs": [
    {
     "name": "stdout",
     "output_type": "stream",
     "text": [
      "332 true negatives, and 248 false negatives\n",
      "138 true positives, and 30 false positives\n",
      "correcly identified positives: 36.0%\n",
      "correctly identified negatives: 92.0%\n"
     ]
    }
   ],
   "source": [
    "# confusion matrix\n",
    "from sklearn.metrics import confusion_matrix\n",
    "cm = confusion_matrix(y_true, y_pred)\n",
    "\n",
    "print(f\"{cm[0,0]} true negatives, and {cm[1,0]} false negatives\")\n",
    "print(f\"{cm[1,1]} true positives, and {cm[0,1]} false positives\")\n",
    "\n",
    "print('correcly identified positives: {}%'.format(round(np.divide(cm[1,1], (cm[1,0]+cm[1,1]))*100)))\n",
    "print('correctly identified negatives: {}%'.format(round(np.divide(cm[0,0], (cm[0,0]+cm[0,1]))*100)))"
   ]
  },
  {
   "cell_type": "markdown",
   "metadata": {},
   "source": [
    "Th accuracy is not really good. The confusion matrix shows that my classification defined 248 positive reviews as negatives and 30 actual negative reviews as positives which is not good. In total, I have 278 false alarms. Only 36% of the true positive reviews were predicted by the classifier correctly. Let's test the data with houldout groups"
   ]
  },
  {
   "cell_type": "code",
   "execution_count": 6,
   "metadata": {},
   "outputs": [
    {
     "name": "stdout",
     "output_type": "stream",
     "text": [
      "Accouracy with 20% Holdout: 0.6066666666666667\n",
      "Testing on Sample: 0.6283422459893048\n"
     ]
    }
   ],
   "source": [
    "# Use train_test_split to create the necessary training and test groups\n",
    "X_train, X_test, y_train, y_test = train_test_split(data, y_true, test_size=0.2, random_state=42)\n",
    "print('Accouracy with 20% Holdout: ' + str(bnb.fit(X_train, y_train).score(X_test, y_test)))\n",
    "print('Testing on Sample: ' + str(bnb.fit(data, y_true).score(data, y_true)))"
   ]
  },
  {
   "cell_type": "markdown",
   "metadata": {},
   "source": [
    "I trained 80% and tested 20% of the data, and received an accuracy of 60%. This is even less than the accuracy of the test on the entire sample. \n",
    "Cross validation is a more robust version of holdout groups. I'll calculate cross validation score for 9 folds "
   ]
  },
  {
   "cell_type": "code",
   "execution_count": 24,
   "metadata": {},
   "outputs": [
    {
     "name": "stdout",
     "output_type": "stream",
     "text": [
      "[0.58333333 0.61904762 0.68674699 0.61445783 0.62650602 0.6626506\n",
      " 0.60240964 0.63855422 0.63414634]\n",
      "mean: 0.6297613994499095, std: 0.029228722986511226\n"
     ]
    }
   ],
   "source": [
    "from sklearn.model_selection import cross_val_score\n",
    "cvs = cross_val_score(bnb, data, y_true, cv = 9)\n",
    "print(cvs)\n",
    "print('mean: {}, std: {}'.format(np.mean(cvs), np.std(cvs)))"
   ]
  },
  {
   "cell_type": "markdown",
   "metadata": {},
   "source": [
    "The array of scores has low standard deviation, and the average accuracy is still around 63%"
   ]
  },
  {
   "cell_type": "markdown",
   "metadata": {},
   "source": [
    "## 3.1 Model 1: Feature improvement\n",
    "I'll try to identify which keywords don't exist in my keywords list and drop them. I'll plot the correlation matrix of these keywords and group moderately correlated keyword using regex."
   ]
  },
  {
   "cell_type": "code",
   "execution_count": 79,
   "metadata": {},
   "outputs": [
    {
     "name": "stdout",
     "output_type": "stream",
     "text": [
      "first rate\n",
      "insightful\n",
      "dazzling\n",
      "intriguing\n",
      "legendary\n",
      "ubelievable\n",
      "outstanding\n",
      "unpretetious\n",
      "comical\n"
     ]
    }
   ],
   "source": [
    "# copy the dataframe\n",
    "df2 = df.copy()\n",
    "\n",
    "df2.columns = ['reviews', 'sentiment']\n",
    "\n",
    "keywords1 = ['best', 'super', 'first rate', 'original', 'insightful', 'recommend', 'very well', 'excellent', 'impressive',\n",
    "           'dazzling', 'amazing', 'enjoyed', 'perfect', 'must see', 'great', 'mindblowing', 'intriguing', 'good', \n",
    "           'legendary', 'remarkable', 'interesting', 'imaginative', 'ubelievable', 'incredible', 'outstanding', 'adorable',\n",
    "           'nice', 'unpretetious', 'wonderful', 'surprising', 'superb', 'lovely', 'loved','comical', 'recommended', 'thought provoking',\n",
    "            'imaginative', 'adorable', 'hilarious', 'brilliant', 'beautiful', 'wonderful','amazing']\n",
    "\n",
    "existing_keywords = keywords1.copy()\n",
    "\n",
    "for key in keywords1:\n",
    "    df2[key] = df2.reviews.str.contains(' ' + str(key) + ' ', case=False)\n",
    "    # if reviews do not contain a word in keywords , it will be dropped\n",
    "    if df2[key].nunique() == 1:\n",
    "        df2 = df2.drop([key], axis=1)\n",
    "        existing_keywords.remove(key)\n",
    "        \n",
    "        print(key)"
   ]
  },
  {
   "cell_type": "code",
   "execution_count": 23,
   "metadata": {},
   "outputs": [
    {
     "data": {
      "image/png": "[encoded data removed]",
      "text/plain": [
       "<Figure size 864x648 with 2 Axes>"
      ]
     },
     "metadata": {
      "needs_background": "light"
     },
     "output_type": "display_data"
    }
   ],
   "source": [
    "#df2.head()\n",
    "# check the correlation among existing keywords\n",
    "corr = df2.loc[:, 'best':].corr()\n",
    "\n",
    "# plot heatmap\n",
    "fig, ax = plt.subplots(figsize = (12, 9))\n",
    "_ = sns.heatmap(corr, square = True)"
   ]
  },
  {
   "cell_type": "code",
   "execution_count": 58,
   "metadata": {},
   "outputs": [
    {
     "data": {
      "image/png": "[encoded data removed]",
      "text/plain": [
       "<Figure size 864x648 with 2 Axes>"
      ]
     },
     "metadata": {
      "needs_background": "light"
     },
     "output_type": "display_data"
    }
   ],
   "source": [
    "df3 = df.copy()\n",
    "\n",
    "existing_keywords_groups = ([r\"\\b(recommend|interesting|impressive|amaz(ing|ed))\\b\", \"recommend\"],\n",
    "            [r\"\\b(wonderful|surprising|incredible|love(d|ly)|(must see)|enjoy(ed|able)|excellent)\\b\", \"excellent\"],\n",
    "            [r\"\\b(mindblowing|(thought provoking))\\b\", \"mindblowing\"],\n",
    "            #[r\"\\b\\b\", \"perfect\"],\n",
    "            [r\"\\bremarkable\\b\", \"remarkable\"],\n",
    "            [r\"\\b(best|great|good|nice|(very well)|supe(r|rb)|perfect(ly|ion))\\b\", \"great\"],\n",
    "            [r\"\\b(imaginative|adorable)\\b\", \"adorable\"])\n",
    "\n",
    "# see if the keyword/s are in the review\n",
    "for pattern, word in existing_keywords_groups:\n",
    "    df3[str(word)] = df3['reviews'].str.contains(pattern, case = True)\n",
    "    \n",
    "fig, ax = plt.subplots(figsize = (12, 9))\n",
    "_ = sns.heatmap(df3.loc[:,'recommend':].corr(), square = True)"
   ]
  },
  {
   "cell_type": "code",
   "execution_count": 64,
   "metadata": {},
   "outputs": [
    {
     "name": "stdout",
     "output_type": "stream",
     "text": [
      "Number of mislabeled points out of a total 748 points : 273\n",
      "accuracy: 64.0%\n",
      "333 true negatives, and 244 false negatives\n",
      "142 true positives, and 29 false positives\n",
      "correcly identified positives: 37.0%\n",
      "correctly identified negatives: 92.0%\n"
     ]
    }
   ],
   "source": [
    "data = df3.loc[:, 'recommend':]\n",
    "y_true= df3['sentiment']\n",
    "\n",
    "# fit our model to the data\n",
    "bnb.fit(data, y_true)\n",
    "\n",
    "# classify, storing the result in a new variable\n",
    "y_pred = bnb.predict(data)\n",
    "\n",
    "# print the results\n",
    "print(\"Number of mislabeled points out of a total {} points : {}\".format(\n",
    "    data.shape[0],\n",
    "    (y_true != y_pred).sum()))\n",
    "print('accuracy: {}%'.format(round(accuracy_score(y_true, y_pred)*100), 4))\n",
    "\n",
    "# confusion matrix\n",
    "cm = confusion_matrix(y_true, y_pred)\n",
    "\n",
    "print(f\"{cm[0,0]} true negatives, and {cm[1,0]} false negatives\")\n",
    "print(f\"{cm[1,1]} true positives, and {cm[0,1]} false positives\")\n",
    "\n",
    "print('correcly identified positives: {}%'.format(round(np.divide(cm[1,1], (cm[1,0]+cm[1,1]))*100)))\n",
    "print('correctly identified negatives: {}%'.format(round(np.divide(cm[0,0], (cm[0,0]+cm[0,1]))*100)))"
   ]
  },
  {
   "cell_type": "markdown",
   "metadata": {},
   "source": [
    "In the second model I could improve accuracy and correctly identified positives by 1% which is not the best."
   ]
  },
  {
   "cell_type": "markdown",
   "metadata": {},
   "source": [
    "## 3.2 Model 2: Most Common Positive Keywords\n",
    "Now I try to define most common keywords (mostly positive adjectives) in positive reviews. I plan to add more keywords which I did not have in my previous keywords groups."
   ]
  },
  {
   "cell_type": "code",
   "execution_count": 360,
   "metadata": {},
   "outputs": [
    {
     "name": "stdout",
     "output_type": "stream",
     "text": [
      "the           404\n",
      "and           249\n",
      "a             229\n",
      "of            184\n",
      "is            145\n",
      "i             139\n",
      "this          134\n",
      "to            111\n",
      "in            108\n",
      "it             85\n",
      "was            72\n",
      "that           65\n",
      "movie          64\n",
      "film           59\n",
      "with           48\n",
      "as             47\n",
      "0              46\n",
      "for            43\n",
      "but            40\n",
      "are            38\n",
      "you            34\n",
      "it's           33\n",
      "good           31\n",
      "on             30\n",
      "one            30\n",
      "very           27\n",
      "an             26\n",
      "great          26\n",
      "so             26\n",
      "at             26\n",
      "             ... \n",
      "me              5\n",
      "we              5\n",
      "through         5\n",
      "joy             5\n",
      "each            5\n",
      "now             5\n",
      "absolutely      5\n",
      "watch.          5\n",
      "movie,          5\n",
      "bad             5\n",
      "is,             5\n",
      "time.           5\n",
      "years.          5\n",
      "doesn't         5\n",
      "nice            5\n",
      "perfect         5\n",
      "however,        5\n",
      "get             5\n",
      "brilliant       5\n",
      "does            5\n",
      "silent          5\n",
      "should          5\n",
      "our             4\n",
      "tv              4\n",
      "got             4\n",
      "much            4\n",
      "appreciate      4\n",
      "lot             4\n",
      "piece           4\n",
      "entire          4\n",
      "Length: 200, dtype: int64\n"
     ]
    }
   ],
   "source": [
    "# find most common words in positive reviews\n",
    "df4 = df.copy()\n",
    "good_reviews = df4[df4.sentiment==1]\n",
    "print(pd.Series(' '.join(good_reviews['reviews']).split()).value_counts()[:200])"
   ]
  },
  {
   "cell_type": "markdown",
   "metadata": {},
   "source": [
    "It's probably a good idea to create 'rating' feature as people are likely to mention the rating what they want to give to the movie. Moreover, I add delightful, entertaining, gem, fanciful, cool, greatest, gloriously keywords to the groups."
   ]
  },
  {
   "cell_type": "code",
   "execution_count": 361,
   "metadata": {},
   "outputs": [
    {
     "data": {
      "image/png": "[encoded data removed]",
      "text/plain": [
       "<Figure size 864x648 with 2 Axes>"
      ]
     },
     "metadata": {
      "needs_background": "light"
     },
     "output_type": "display_data"
    }
   ],
   "source": [
    "# create keywords groups using regex\n",
    "most_common_keywords_groups = ([r\"\\b(recommend(ed)?|worth|lik(e|ed))\\b\", \"recommend\"],\n",
    "            [r\"\\b(surprising|incredible|(must see)|enjoy(ed)?|interesting|excellent|delightful)\\b\", \"excellent\"],\n",
    "            [r\"\\b(10|9|8|7)\\b\", \"rating\"],\n",
    "            [r\"\\b(funny|entertaining|love(d|ly)|gem|fanciful)\\b\", \"funny\"],\n",
    "            [r\"\\b(mindblowing|thought-provoking|remarkable|memorable|tru(e|ly)|impressive|masterpiece)\\b\", \"remarkable\"],\n",
    "            [r\"\\b(best|great(est)|better|good|pretty|nice|very|cool(est)|well|supe(r|rb)|perfect)\\b\", \"great\"],\n",
    "            [r\"\\b(imaginative|glorious(ly)?|adorable|hilarious|brilliant|beautiful|wonderful|amazing|fantastic)\\b\", \"wonderful\"])\n",
    "\n",
    "# see if the keyword/s are in the review\n",
    "for pattern, word in most_common_keywords_groups:\n",
    "    df4[str(word)] = df4['reviews'].str.contains(pattern, case = True)\n",
    "    \n",
    "fig, ax = plt.subplots(figsize = (12, 9))\n",
    "_ = sns.heatmap(df4.loc[:,'recommend':].corr(), square = True)"
   ]
  },
  {
   "cell_type": "code",
   "execution_count": 362,
   "metadata": {},
   "outputs": [
    {
     "name": "stdout",
     "output_type": "stream",
     "text": [
      "Number of mislabeled points out of a total 748 points : 237\n",
      "accuracy: 68.0%\n",
      "279 true negatives, and 154 false negatives\n",
      "232 true positives, and 83 false positives\n",
      "correcly identified positives: 60.0%\n",
      "correctly identified negatives: 77.0%\n"
     ]
    }
   ],
   "source": [
    "data = df4.loc[:, 'recommend':]\n",
    "y_true= df4['sentiment']\n",
    "\n",
    "# fit our model to the data\n",
    "bnb.fit(data, y_true)\n",
    "\n",
    "# classify, storing the result in a new variable\n",
    "y_pred = bnb.predict(data)\n",
    "\n",
    "# print the results\n",
    "print(\"Number of mislabeled points out of a total {} points : {}\".format(\n",
    "    data.shape[0],\n",
    "    (y_true != y_pred).sum()))\n",
    "print('accuracy: {}%'.format(round(accuracy_score(y_true, y_pred)*100), 4))\n",
    "\n",
    "# confusion matrix\n",
    "cm = confusion_matrix(y_true, y_pred)\n",
    "\n",
    "print(f\"{cm[0,0]} true negatives, and {cm[1,0]} false negatives\")\n",
    "print(f\"{cm[1,1]} true positives, and {cm[0,1]} false positives\")\n",
    "\n",
    "print('correcly identified positives: {}%'.format(round(np.divide(cm[1,1], (cm[1,0]+cm[1,1]))*100)))\n",
    "print('correctly identified negatives: {}%'.format(round(np.divide(cm[0,0], (cm[0,0]+cm[0,1]))*100)))"
   ]
  },
  {
   "cell_type": "markdown",
   "metadata": {},
   "source": [
    "This time I have 4% imporevement in accuracy and 23% increase in correctly identified positives. This result also is not the best but definitely better than previous models."
   ]
  },
  {
   "cell_type": "code",
   "execution_count": null,
   "metadata": {},
   "outputs": [],
   "source": []
  }
 ],
 "metadata": {
  "kernelspec": {
   "display_name": "Python 3",
   "language": "python",
   "name": "python3"
  },
  "language_info": {
   "codemirror_mode": {
    "name": "ipython",
    "version": 3
   },
   "file_extension": ".py",
   "mimetype": "text/x-python",
   "name": "python",
   "nbconvert_exporter": "python",
   "pygments_lexer": "ipython3",
   "version": "3.6.6"
  }
 },
 "nbformat": 4,
 "nbformat_minor": 2
}
