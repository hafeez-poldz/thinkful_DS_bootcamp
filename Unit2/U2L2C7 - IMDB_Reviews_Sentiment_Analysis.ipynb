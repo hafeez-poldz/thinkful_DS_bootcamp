{
 "cells": [
  {
   "cell_type": "markdown",
   "metadata": {},
   "source": [
    "#  IMDB Feedback Analysis -- Naive Bayes Classifier\n",
    "I'll apply Naive Bayes Classifier to analyze IMDB feedbacks by sentiment (either positive or negative). Later I'll train this model on Amazon reviews and check the performance"
   ]
  },
  {
   "cell_type": "code",
   "execution_count": 1,
   "metadata": {},
   "outputs": [],
   "source": [
    "# import libraries\n",
    "import numpy as np\n",
    "import pandas as pd\n",
    "import matplotlib.pyplot as plt\n",
    "import seaborn as sns\n",
    "import scipy\n",
    "from sklearn.naive_bayes import BernoulliNB\n",
    "from sklearn.naive_bayes import MultinomialNB\n",
    "from sklearn.naive_bayes import GaussianNB\n",
    "import re\n",
    "import warnings\n",
    "warnings.filterwarnings('ignore')"
   ]
  },
  {
   "cell_type": "code",
   "execution_count": 13,
   "metadata": {},
   "outputs": [
    {
     "data": {
      "text/html": [
       "<div>\n",
       "<style scoped>\n",
       "    .dataframe tbody tr th:only-of-type {\n",
       "        vertical-align: middle;\n",
       "    }\n",
       "\n",
       "    .dataframe tbody tr th {\n",
       "        vertical-align: top;\n",
       "    }\n",
       "\n",
       "    .dataframe thead th {\n",
       "        text-align: right;\n",
       "    }\n",
       "</style>\n",
       "<table border=\"1\" class=\"dataframe\">\n",
       "  <thead>\n",
       "    <tr style=\"text-align: right;\">\n",
       "      <th></th>\n",
       "      <th>review</th>\n",
       "      <th>sentiment</th>\n",
       "    </tr>\n",
       "  </thead>\n",
       "  <tbody>\n",
       "    <tr>\n",
       "      <th>0</th>\n",
       "      <td>A very, very, very slow-moving, aimless movie ...</td>\n",
       "      <td>0</td>\n",
       "    </tr>\n",
       "    <tr>\n",
       "      <th>1</th>\n",
       "      <td>Not sure who was more lost - the flat characte...</td>\n",
       "      <td>0</td>\n",
       "    </tr>\n",
       "    <tr>\n",
       "      <th>2</th>\n",
       "      <td>Attempting artiness with black &amp; white and cle...</td>\n",
       "      <td>0</td>\n",
       "    </tr>\n",
       "    <tr>\n",
       "      <th>3</th>\n",
       "      <td>Very little music or anything to speak of.</td>\n",
       "      <td>0</td>\n",
       "    </tr>\n",
       "    <tr>\n",
       "      <th>4</th>\n",
       "      <td>The best scene in the movie was when Gerardo i...</td>\n",
       "      <td>1</td>\n",
       "    </tr>\n",
       "  </tbody>\n",
       "</table>\n",
       "</div>"
      ],
      "text/plain": [
       "                                              review  sentiment\n",
       "0  A very, very, very slow-moving, aimless movie ...          0\n",
       "1  Not sure who was more lost - the flat characte...          0\n",
       "2  Attempting artiness with black & white and cle...          0\n",
       "3       Very little music or anything to speak of.            0\n",
       "4  The best scene in the movie was when Gerardo i...          1"
      ]
     },
     "execution_count": 13,
     "metadata": {},
     "output_type": "execute_result"
    }
   ],
   "source": [
    "# load the dataset\n",
    "path = r'C:\\Users\\hafeez_poldz\\Desktop\\Thinkful\\Unit 2\\datas\\sentiment\\imdb_labelled.txt'\n",
    "df = pd.read_csv(path, delimiter = '\\t', header = None)\n",
    "df.columns = ['review', 'sentiment']\n",
    "df.head()"
   ]
  },
  {
   "cell_type": "markdown",
   "metadata": {},
   "source": [
    "The features of this model will be the keywords which are used to express positive attitudes towards a movie. I'll use regular expression to group similar keywords to shorten the number of features. [ETH ESKRIPT](https://eskript.ethz.ch/filmstudies/chapter/describing-and-talking-about-a-film/) has a vocabulary for describing movies. I referred to them to get more precise keywords."
   ]
  },
  {
   "cell_type": "code",
   "execution_count": 14,
   "metadata": {},
   "outputs": [
    {
     "data": {
      "text/html": [
       "<div>\n",
       "<style scoped>\n",
       "    .dataframe tbody tr th:only-of-type {\n",
       "        vertical-align: middle;\n",
       "    }\n",
       "\n",
       "    .dataframe tbody tr th {\n",
       "        vertical-align: top;\n",
       "    }\n",
       "\n",
       "    .dataframe thead th {\n",
       "        text-align: right;\n",
       "    }\n",
       "</style>\n",
       "<table border=\"1\" class=\"dataframe\">\n",
       "  <thead>\n",
       "    <tr style=\"text-align: right;\">\n",
       "      <th></th>\n",
       "      <th>review</th>\n",
       "      <th>sentiment</th>\n",
       "      <th>great</th>\n",
       "      <th>excellent</th>\n",
       "      <th>outstanding</th>\n",
       "      <th>comic</th>\n",
       "      <th>imaginative</th>\n",
       "      <th>wonderful</th>\n",
       "    </tr>\n",
       "  </thead>\n",
       "  <tbody>\n",
       "    <tr>\n",
       "      <th>0</th>\n",
       "      <td>a very, very, very slow-moving, aimless movie ...</td>\n",
       "      <td>0</td>\n",
       "      <td>False</td>\n",
       "      <td>False</td>\n",
       "      <td>False</td>\n",
       "      <td>False</td>\n",
       "      <td>False</td>\n",
       "      <td>False</td>\n",
       "    </tr>\n",
       "    <tr>\n",
       "      <th>1</th>\n",
       "      <td>not sure who was more lost - the flat characte...</td>\n",
       "      <td>0</td>\n",
       "      <td>False</td>\n",
       "      <td>False</td>\n",
       "      <td>False</td>\n",
       "      <td>False</td>\n",
       "      <td>False</td>\n",
       "      <td>False</td>\n",
       "    </tr>\n",
       "    <tr>\n",
       "      <th>2</th>\n",
       "      <td>attempting artiness with black &amp; white and cle...</td>\n",
       "      <td>0</td>\n",
       "      <td>False</td>\n",
       "      <td>False</td>\n",
       "      <td>False</td>\n",
       "      <td>False</td>\n",
       "      <td>False</td>\n",
       "      <td>True</td>\n",
       "    </tr>\n",
       "    <tr>\n",
       "      <th>3</th>\n",
       "      <td>very little music or anything to speak of.</td>\n",
       "      <td>0</td>\n",
       "      <td>False</td>\n",
       "      <td>False</td>\n",
       "      <td>False</td>\n",
       "      <td>False</td>\n",
       "      <td>False</td>\n",
       "      <td>False</td>\n",
       "    </tr>\n",
       "    <tr>\n",
       "      <th>4</th>\n",
       "      <td>the best scene in the movie was when gerardo i...</td>\n",
       "      <td>1</td>\n",
       "      <td>True</td>\n",
       "      <td>False</td>\n",
       "      <td>False</td>\n",
       "      <td>False</td>\n",
       "      <td>False</td>\n",
       "      <td>False</td>\n",
       "    </tr>\n",
       "  </tbody>\n",
       "</table>\n",
       "</div>"
      ],
      "text/plain": [
       "                                              review  sentiment  great  \\\n",
       "0  a very, very, very slow-moving, aimless movie ...          0  False   \n",
       "1  not sure who was more lost - the flat characte...          0  False   \n",
       "2  attempting artiness with black & white and cle...          0  False   \n",
       "3       very little music or anything to speak of.            0  False   \n",
       "4  the best scene in the movie was when gerardo i...          1   True   \n",
       "\n",
       "   excellent  outstanding  comic  imaginative  wonderful  \n",
       "0      False        False  False        False      False  \n",
       "1      False        False  False        False      False  \n",
       "2      False        False  False        False       True  \n",
       "3      False        False  False        False      False  \n",
       "4      False        False  False        False      False  "
      ]
     },
     "execution_count": 14,
     "metadata": {},
     "output_type": "execute_result"
    }
   ],
   "source": [
    "# standartize the reviews column\n",
    "df['review'] = df['review'].str.lower()\n",
    "\n",
    "# I'll use regex to group similar terms rather to go with the long list of keywords\n",
    "keywords = ([r\"\\b(best|great|first_rate|original|insightful|[^t] recommend(ed)?|must see)\\b\", \"great\"],\n",
    "            [r\"\\b(excellent|impressive|dazzling|amaz(ing|ed)|enjoy(ed|able)|fascinat(ing|ed)|legendary|perfect(ly|ed|ion)|good|nice)\\b\", \"excellent\"],\n",
    "            [r\"\\b(mindblowing|thought provoking)\\b\", \"outstanding\"],\n",
    "            [r\"\\bcomical\\b\", \"comic\"],\n",
    "            [r\"\\bimaginative\\b\", \"imaginative\"],\n",
    "            [r\"\\b(unpretentious|outstanding|wonderful|surpris(ing|ed)|intriguing|clever)\\b\", \"wonderful\"])\n",
    "\n",
    "# see if the keyword/s are in the review\n",
    "for pattern, word in keywords:\n",
    "    df[str(word)] = df['review'].str.contains(pattern, case = False)\n",
    "df.head()"
   ]
  },
  {
   "cell_type": "code",
   "execution_count": 15,
   "metadata": {},
   "outputs": [
    {
     "data": {
      "image/png": "[encoded data removed]",
      "text/plain": [
       "<Figure size 864x648 with 2 Axes>"
      ]
     },
     "metadata": {
      "needs_background": "light"
     },
     "output_type": "display_data"
    }
   ],
   "source": [
    "# let's check the correlation among features\n",
    "fig, ax = plt.subplots(figsize = (12,9))\n",
    "_ = sns.heatmap(df.loc[:, 'great':].corr(), square = True, vmax=.8)\n",
    "plt.show()"
   ]
  },
  {
   "cell_type": "markdown",
   "metadata": {},
   "source": [
    "Confusion matrix shows that most of features are strongly independent. This is important when working with a Naive Bayes Model. Before runnig the model I have to build out the training data. SKLearn requires to specify an outcome variable (data) and inputs (x or independent variables). I'll do that below under the titles data and target. This data is binary / boolean, so I'll apply Bernoulli classifier."
   ]
  },
  {
   "cell_type": "code",
   "execution_count": 16,
   "metadata": {},
   "outputs": [
    {
     "name": "stdout",
     "output_type": "stream",
     "text": [
      "Bernolulli: Number of mislabeled points out of a total 748 points : 297\n"
     ]
    }
   ],
   "source": [
    "data = df.loc[:, 'great':]\n",
    "target = df['sentiment']\n",
    "\n",
    "# instantiate the model and store it in a new variable\n",
    "bnb = BernoulliNB()\n",
    "\n",
    "# fit our model to the data\n",
    "bnb.fit(data, target)\n",
    "\n",
    "# classify, storing the result in a new variable\n",
    "y_pred = bnb.predict(data)\n",
    "\n",
    "# print the results\n",
    "print(\"Bernolulli: Number of mislabeled points out of a total {} points : {}\".format(data.shape[0], \n",
    "                                                                                     (target != y_pred).sum()))"
   ]
  },
  {
   "cell_type": "code",
   "execution_count": 17,
   "metadata": {},
   "outputs": [
    {
     "name": "stdout",
     "output_type": "stream",
     "text": [
      "334 true positives, and 28 false positives\n",
      "269 true negatives, and 117 false negatives\n"
     ]
    }
   ],
   "source": [
    "from sklearn.metrics import confusion_matrix\n",
    "cm = confusion_matrix(target, y_pred)\n",
    "\n",
    "print(f\"{cm[0,0]} true positives, and {cm[0,1]} false positives\")\n",
    "print(f\"{cm[1,0]} true negatives, and {cm[1,1]} false negatives\")"
   ]
  },
  {
   "cell_type": "markdown",
   "metadata": {},
   "source": [
    "### Now I'll apply this model to amazon reviews."
   ]
  },
  {
   "cell_type": "code",
   "execution_count": 21,
   "metadata": {},
   "outputs": [
    {
     "data": {
      "text/html": [
       "<div>\n",
       "<style scoped>\n",
       "    .dataframe tbody tr th:only-of-type {\n",
       "        vertical-align: middle;\n",
       "    }\n",
       "\n",
       "    .dataframe tbody tr th {\n",
       "        vertical-align: top;\n",
       "    }\n",
       "\n",
       "    .dataframe thead th {\n",
       "        text-align: right;\n",
       "    }\n",
       "</style>\n",
       "<table border=\"1\" class=\"dataframe\">\n",
       "  <thead>\n",
       "    <tr style=\"text-align: right;\">\n",
       "      <th></th>\n",
       "      <th>great</th>\n",
       "      <th>excellent</th>\n",
       "      <th>outstanding</th>\n",
       "      <th>comic</th>\n",
       "      <th>imaginative</th>\n",
       "      <th>wonderful</th>\n",
       "    </tr>\n",
       "  </thead>\n",
       "  <tbody>\n",
       "    <tr>\n",
       "      <th>great</th>\n",
       "      <td>1.000000</td>\n",
       "      <td>-0.054318</td>\n",
       "      <td>NaN</td>\n",
       "      <td>NaN</td>\n",
       "      <td>NaN</td>\n",
       "      <td>-0.016997</td>\n",
       "    </tr>\n",
       "    <tr>\n",
       "      <th>excellent</th>\n",
       "      <td>-0.054318</td>\n",
       "      <td>1.000000</td>\n",
       "      <td>NaN</td>\n",
       "      <td>NaN</td>\n",
       "      <td>NaN</td>\n",
       "      <td>0.117369</td>\n",
       "    </tr>\n",
       "    <tr>\n",
       "      <th>outstanding</th>\n",
       "      <td>NaN</td>\n",
       "      <td>NaN</td>\n",
       "      <td>NaN</td>\n",
       "      <td>NaN</td>\n",
       "      <td>NaN</td>\n",
       "      <td>NaN</td>\n",
       "    </tr>\n",
       "    <tr>\n",
       "      <th>comic</th>\n",
       "      <td>NaN</td>\n",
       "      <td>NaN</td>\n",
       "      <td>NaN</td>\n",
       "      <td>NaN</td>\n",
       "      <td>NaN</td>\n",
       "      <td>NaN</td>\n",
       "    </tr>\n",
       "    <tr>\n",
       "      <th>imaginative</th>\n",
       "      <td>NaN</td>\n",
       "      <td>NaN</td>\n",
       "      <td>NaN</td>\n",
       "      <td>NaN</td>\n",
       "      <td>NaN</td>\n",
       "      <td>NaN</td>\n",
       "    </tr>\n",
       "    <tr>\n",
       "      <th>wonderful</th>\n",
       "      <td>-0.016997</td>\n",
       "      <td>0.117369</td>\n",
       "      <td>NaN</td>\n",
       "      <td>NaN</td>\n",
       "      <td>NaN</td>\n",
       "      <td>1.000000</td>\n",
       "    </tr>\n",
       "  </tbody>\n",
       "</table>\n",
       "</div>"
      ],
      "text/plain": [
       "                great  excellent  outstanding  comic  imaginative  wonderful\n",
       "great        1.000000  -0.054318          NaN    NaN          NaN  -0.016997\n",
       "excellent   -0.054318   1.000000          NaN    NaN          NaN   0.117369\n",
       "outstanding       NaN        NaN          NaN    NaN          NaN        NaN\n",
       "comic             NaN        NaN          NaN    NaN          NaN        NaN\n",
       "imaginative       NaN        NaN          NaN    NaN          NaN        NaN\n",
       "wonderful   -0.016997   0.117369          NaN    NaN          NaN   1.000000"
      ]
     },
     "execution_count": 21,
     "metadata": {},
     "output_type": "execute_result"
    }
   ],
   "source": [
    "# load amazon text data\n",
    "path1 = r'C:\\Users\\hafeez_poldz\\Desktop\\Thinkful\\Unit 2\\datas\\sentiment\\amazon_cells_labelled.txt'\n",
    "df1 = pd.read_csv(path1, delimiter = '\\t', header = None)\n",
    "df1.columns = ['review', 'sentiment']\n",
    "\n",
    "# standartize the reviews column\n",
    "df1['review'] = df1['review'].str.lower()\n",
    "\n",
    "# see if the keyword/s are in the review\n",
    "for pattern, word in keywords:\n",
    "    df1[str(word)] = df1['review'].str.contains(pattern, case = False)\n",
    "df1.loc[:, 'great':].corr()"
   ]
  },
  {
   "cell_type": "markdown",
   "metadata": {},
   "source": [
    "Keywords in 'outstanding', 'comic' and 'imaginative' keyword groups are very specific to mavies, it returns NaN values when I calculate correlation among features. I decide to drop these columns."
   ]
  },
  {
   "cell_type": "code",
   "execution_count": 22,
   "metadata": {},
   "outputs": [
    {
     "data": {
      "image/png": "[encoded data removed]",
      "text/plain": [
       "<Figure size 864x648 with 2 Axes>"
      ]
     },
     "metadata": {
      "needs_background": "light"
     },
     "output_type": "display_data"
    }
   ],
   "source": [
    "# drop columns with missing values \n",
    "df1.drop(columns = ['outstanding', 'comic', 'imaginative'], inplace = True)\n",
    "\n",
    "# check the correlation among features\n",
    "fig, ax = plt.subplots(figsize = (12,9))\n",
    "_ = sns.heatmap(df1.loc[:, 'great':].corr(), square = True, vmax=.8)\n",
    "plt.show()"
   ]
  },
  {
   "cell_type": "code",
   "execution_count": 23,
   "metadata": {},
   "outputs": [
    {
     "name": "stdout",
     "output_type": "stream",
     "text": [
      "Number of mislabeled points out of a total 1000 points : 305\n"
     ]
    }
   ],
   "source": [
    "data1 = df1.loc[:, 'great':]\n",
    "target1 = df1['sentiment']\n",
    "\n",
    "# fit our model to the data\n",
    "bnb.fit(data1, target1)\n",
    "\n",
    "# classify, storing the result in a new variable\n",
    "bnb_y_pred = bnb.predict(data1)\n",
    "\n",
    "# print the results\n",
    "print(\"Number of mislabeled points out of a total {} points : {}\".format(\n",
    "    data1.shape[0],\n",
    "    (target1 != bnb_y_pred).sum()))"
   ]
  }
 ],
 "metadata": {
  "kernelspec": {
   "display_name": "Python 3",
   "language": "python",
   "name": "python3"
  },
  "language_info": {
   "codemirror_mode": {
    "name": "ipython",
    "version": 3
   },
   "file_extension": ".py",
   "mimetype": "text/x-python",
   "name": "python",
   "nbconvert_exporter": "python",
   "pygments_lexer": "ipython3",
   "version": "3.6.6"
  }
 },
 "nbformat": 4,
 "nbformat_minor": 2
}
