{
 "cells": [
  {
   "cell_type": "markdown",
   "metadata": {},
   "source": [
    "# Regression: NY Crime Data in 2013\n",
    "\n",
    "Using this data I'm going to build a regression model to predict property crimes. I'll add more features and check whether they are valuable or not. The goal here is prediction while all four assumptions of multivariable linear regression are true and make sure the model has good predictive validity for new data. \n",
    "\n",
    "### Proposed regression model is:\n",
    "\n",
    "$$ Property crime = \\alpha + Population + Population^2 + Murder + Robbery + Burglary$$\n",
    "\n"
   ]
  },
  {
   "cell_type": "code",
   "execution_count": 138,
   "metadata": {},
   "outputs": [],
   "source": [
    "import numpy as np\n",
    "import pandas as pd\n",
    "import matplotlib.pyplot as plt\n",
    "import seaborn as sns\n",
    "import warnings\n",
    "warnings.filterwarnings('ignore')\n",
    "\n",
    "from sklearn import linear_model\n",
    "from sklearn.model_selection import cross_val_score\n",
    "from sklearn.metrics import accuracy_score\n",
    "\n",
    "from scipy.stats import norm\n",
    "from scipy import stats\n",
    "\n",
    "import statsmodels.formula.api as smf"
   ]
  },
  {
   "cell_type": "markdown",
   "metadata": {},
   "source": [
    "## 1. EDA | Data Cleaning | Feature Selection"
   ]
  },
  {
   "cell_type": "code",
   "execution_count": 139,
   "metadata": {},
   "outputs": [
    {
     "data": {
      "text/plain": [
       "City                              0\n",
       "Population                        0\n",
       "Violent\\ncrime                    0\n",
       "Murder                            0\n",
       "Rape\\n(revised\\ndefinition)1    348\n",
       "Rape\\n(legacy\\ndefinition)2       0\n",
       "Robbery                           0\n",
       "Aggravated\\nassault               0\n",
       "Property_crime                    0\n",
       "Burglary                          0\n",
       "Larceny                           0\n",
       "MV_theft                          0\n",
       "Arson3                          161\n",
       "dtype: int64"
      ]
     },
     "execution_count": 139,
     "metadata": {},
     "output_type": "execute_result"
    }
   ],
   "source": [
    "path = r'C:\\Users\\hafeez_poldz\\Desktop\\Thinkful\\Unit 2\\datas\\table_8_offenses_known_to_law_enforcement_new_york_by_city_2013.xls'\n",
    "df = pd.read_excel(path, header = 4)\n",
    "\n",
    "\n",
    "# rename the columns\n",
    "df.rename(columns = {'Murder and\\nnonnegligent\\nmanslaughter':'Murder', \n",
    "                     'Property\\ncrime':'Property_crime',\n",
    "                    'Larceny-\\ntheft': 'Larceny',\n",
    "                    'Motor\\nvehicle\\ntheft': 'MV_theft'}, inplace = True)\n",
    "\n",
    "# remove last 3 rows \n",
    "df.drop(df.iloc[348:, :].index, inplace = True)\n",
    "\n",
    "for col in ['Population', 'Murder', 'Robbery', 'Property_crime', 'Larceny', 'Burglary', 'MV_theft']:\n",
    "    df[col] = df[col].astype(np.int64)\n",
    "df.isnull().sum()"
   ]
  },
  {
   "cell_type": "code",
   "execution_count": 140,
   "metadata": {},
   "outputs": [
    {
     "data": {
      "text/html": [
       "<div>\n",
       "<style scoped>\n",
       "    .dataframe tbody tr th:only-of-type {\n",
       "        vertical-align: middle;\n",
       "    }\n",
       "\n",
       "    .dataframe tbody tr th {\n",
       "        vertical-align: top;\n",
       "    }\n",
       "\n",
       "    .dataframe thead th {\n",
       "        text-align: right;\n",
       "    }\n",
       "</style>\n",
       "<table border=\"1\" class=\"dataframe\">\n",
       "  <thead>\n",
       "    <tr style=\"text-align: right;\">\n",
       "      <th></th>\n",
       "      <th>property_crime</th>\n",
       "      <th>murder</th>\n",
       "      <th>robbery</th>\n",
       "      <th>burglary</th>\n",
       "      <th>mv_theft</th>\n",
       "      <th>larceny</th>\n",
       "      <th>population</th>\n",
       "      <th>population_squared</th>\n",
       "    </tr>\n",
       "  </thead>\n",
       "  <tbody>\n",
       "    <tr>\n",
       "      <th>count</th>\n",
       "      <td>348.000000</td>\n",
       "      <td>348.000000</td>\n",
       "      <td>348.000000</td>\n",
       "      <td>348.000000</td>\n",
       "      <td>348.000000</td>\n",
       "      <td>348.000000</td>\n",
       "      <td>3.480000e+02</td>\n",
       "      <td>3.480000e+02</td>\n",
       "    </tr>\n",
       "    <tr>\n",
       "      <th>mean</th>\n",
       "      <td>792.606322</td>\n",
       "      <td>0.140805</td>\n",
       "      <td>0.600575</td>\n",
       "      <td>0.939655</td>\n",
       "      <td>0.732759</td>\n",
       "      <td>0.979885</td>\n",
       "      <td>4.003763e+04</td>\n",
       "      <td>2.035547e+11</td>\n",
       "    </tr>\n",
       "    <tr>\n",
       "      <th>std</th>\n",
       "      <td>7659.724746</td>\n",
       "      <td>0.348321</td>\n",
       "      <td>0.490486</td>\n",
       "      <td>0.238467</td>\n",
       "      <td>0.443157</td>\n",
       "      <td>0.140596</td>\n",
       "      <td>4.500374e+05</td>\n",
       "      <td>3.778876e+12</td>\n",
       "    </tr>\n",
       "    <tr>\n",
       "      <th>min</th>\n",
       "      <td>0.000000</td>\n",
       "      <td>0.000000</td>\n",
       "      <td>0.000000</td>\n",
       "      <td>0.000000</td>\n",
       "      <td>0.000000</td>\n",
       "      <td>0.000000</td>\n",
       "      <td>5.260000e+02</td>\n",
       "      <td>2.766760e+05</td>\n",
       "    </tr>\n",
       "    <tr>\n",
       "      <th>25%</th>\n",
       "      <td>40.500000</td>\n",
       "      <td>0.000000</td>\n",
       "      <td>0.000000</td>\n",
       "      <td>1.000000</td>\n",
       "      <td>0.000000</td>\n",
       "      <td>1.000000</td>\n",
       "      <td>3.003000e+03</td>\n",
       "      <td>9.018117e+06</td>\n",
       "    </tr>\n",
       "    <tr>\n",
       "      <th>50%</th>\n",
       "      <td>112.500000</td>\n",
       "      <td>0.000000</td>\n",
       "      <td>1.000000</td>\n",
       "      <td>1.000000</td>\n",
       "      <td>1.000000</td>\n",
       "      <td>1.000000</td>\n",
       "      <td>7.233500e+03</td>\n",
       "      <td>5.232568e+07</td>\n",
       "    </tr>\n",
       "    <tr>\n",
       "      <th>75%</th>\n",
       "      <td>341.000000</td>\n",
       "      <td>0.000000</td>\n",
       "      <td>1.000000</td>\n",
       "      <td>1.000000</td>\n",
       "      <td>1.000000</td>\n",
       "      <td>1.000000</td>\n",
       "      <td>1.842750e+04</td>\n",
       "      <td>3.397536e+08</td>\n",
       "    </tr>\n",
       "    <tr>\n",
       "      <th>max</th>\n",
       "      <td>141971.000000</td>\n",
       "      <td>1.000000</td>\n",
       "      <td>1.000000</td>\n",
       "      <td>1.000000</td>\n",
       "      <td>1.000000</td>\n",
       "      <td>1.000000</td>\n",
       "      <td>8.396126e+06</td>\n",
       "      <td>7.049493e+13</td>\n",
       "    </tr>\n",
       "  </tbody>\n",
       "</table>\n",
       "</div>"
      ],
      "text/plain": [
       "       property_crime      murder     robbery    burglary    mv_theft  \\\n",
       "count      348.000000  348.000000  348.000000  348.000000  348.000000   \n",
       "mean       792.606322    0.140805    0.600575    0.939655    0.732759   \n",
       "std       7659.724746    0.348321    0.490486    0.238467    0.443157   \n",
       "min          0.000000    0.000000    0.000000    0.000000    0.000000   \n",
       "25%         40.500000    0.000000    0.000000    1.000000    0.000000   \n",
       "50%        112.500000    0.000000    1.000000    1.000000    1.000000   \n",
       "75%        341.000000    0.000000    1.000000    1.000000    1.000000   \n",
       "max     141971.000000    1.000000    1.000000    1.000000    1.000000   \n",
       "\n",
       "          larceny    population  population_squared  \n",
       "count  348.000000  3.480000e+02        3.480000e+02  \n",
       "mean     0.979885  4.003763e+04        2.035547e+11  \n",
       "std      0.140596  4.500374e+05        3.778876e+12  \n",
       "min      0.000000  5.260000e+02        2.766760e+05  \n",
       "25%      1.000000  3.003000e+03        9.018117e+06  \n",
       "50%      1.000000  7.233500e+03        5.232568e+07  \n",
       "75%      1.000000  1.842750e+04        3.397536e+08  \n",
       "max      1.000000  8.396126e+06        7.049493e+13  "
      ]
     },
     "execution_count": 140,
     "metadata": {},
     "output_type": "execute_result"
    }
   ],
   "source": [
    "# create a dataframe to hold features\n",
    "features = pd.DataFrame()\n",
    "features['property_crime'] = df['Property_crime']\n",
    "features['murder'] = np.where(df['Murder']>=1, 1, 0)\n",
    "features['robbery'] = np.where(df['Robbery']>=1, 1, 0)\n",
    "features['burglary'] = np.where(df['Burglary']>=1, 1, 0)\n",
    "features['mv_theft'] = np.where(df['MV_theft']>=1, 1, 0)\n",
    "features['larceny'] = np.where(df['Larceny']>=1, 1, 0)\n",
    "features['population'] = df['Population']\n",
    "features['population_squared'] = np.square(features.population)\n",
    "features.describe()"
   ]
  },
  {
   "cell_type": "markdown",
   "metadata": {},
   "source": [
    "## 2. Linear Regression Model"
   ]
  },
  {
   "cell_type": "code",
   "execution_count": 141,
   "metadata": {},
   "outputs": [
    {
     "name": "stdout",
     "output_type": "stream",
     "text": [
      "\n",
      "Coefficients: \n",
      " [ 3.48246160e-02 -2.13091068e-09  1.96889509e+01 -6.14548590e+01\n",
      " -4.79316646e+01  8.72386431e+00 -8.08197985e+01]\n",
      "\n",
      "Intercept: \n",
      " -38.0838683692856\n",
      "\n",
      "R-squared:\n",
      "0.9961462888012184\n"
     ]
    }
   ],
   "source": [
    "# instantiate and fit our model\n",
    "regr = linear_model.LinearRegression()\n",
    "Y = features['property_crime']\n",
    "X = features[['population','population_squared','murder','robbery', 'burglary','larceny', 'mv_theft']]\n",
    "regr.fit(X, Y)\n",
    "\n",
    "# Inspect the results.\n",
    "print('\\nCoefficients: \\n', regr.coef_)\n",
    "print('\\nIntercept: \\n', regr.intercept_)\n",
    "print('\\nR-squared:')\n",
    "print(regr.score(X, Y))"
   ]
  },
  {
   "cell_type": "code",
   "execution_count": 142,
   "metadata": {},
   "outputs": [
    {
     "name": "stdout",
     "output_type": "stream",
     "text": [
      "(347, 8)\n"
     ]
    },
    {
     "data": {
      "image/png": "[encoded data removed]",
      "text/plain": [
       "<Figure size 1008x432 with 2 Axes>"
      ]
     },
     "metadata": {
      "needs_background": "light"
     },
     "output_type": "display_data"
    }
   ],
   "source": [
    "# extract predicted values\n",
    "predicted = regr.predict(X).ravel()\n",
    "\n",
    "# add predicted to features dataframe\n",
    "features['predicted'] = pd.Series(predicted)\n",
    "\n",
    "# z-score method to remove outliers\n",
    "#no_outliers = features.copy()\n",
    "#z = np.abs(stats.zscore(no_outliers))\n",
    "#threshold = 2\n",
    "#features = features[(z < threshold).all(axis=1)]\n",
    "\n",
    "outliers = features.nlargest(1, ['predicted']).index.tolist()\n",
    "features.drop(index = outliers, axis = 0, inplace = True)\n",
    "\n",
    "# remove predicted column\n",
    "predicted = np.array(features.predicted)\n",
    "features.drop(['predicted'], axis = 1, inplace = True)\n",
    "print(features.shape)\n",
    "features.describe()\n",
    "\n",
    "# Calculate the error, also called the residual.\n",
    "actual = features['property_crime']\n",
    "residual = actual - predicted\n",
    "\n",
    "# plot residual distribution\n",
    "plt.figure(figsize = (14, 6))\n",
    "plt.subplot(121)\n",
    "_ = sns.distplot(residual, fit = norm)\n",
    "_.set(title = 'Residual distribution', xlabel = 'Residual', ylabel = 'Count')\n",
    "\n",
    "# scatter plot residual vs. predicted\n",
    "plt.subplot(122)\n",
    "_ = sns.regplot(predicted, residual)\n",
    "_.axhline(y=0, color = 'r')\n",
    "_.set(title = 'Residual vs. Predicted', xlabel = 'Predicted', ylabel = 'Residual')\n",
    "\n",
    "plt.show()\n"
   ]
  },
  {
   "cell_type": "code",
   "execution_count": 143,
   "metadata": {},
   "outputs": [
    {
     "data": {
      "text/plain": [
       "<matplotlib.axes._subplots.AxesSubplot at 0x130311eb860>"
      ]
     },
     "execution_count": 143,
     "metadata": {},
     "output_type": "execute_result"
    },
    {
     "data": {
      "image/png": "[encoded data removed]",
      "text/plain": [
       "<Figure size 432x288 with 1 Axes>"
      ]
     },
     "metadata": {
      "needs_background": "light"
     },
     "output_type": "display_data"
    }
   ],
   "source": [
    "sns.distplot(np.log(features.population), fit = norm)"
   ]
  },
  {
   "cell_type": "code",
   "execution_count": 144,
   "metadata": {},
   "outputs": [
    {
     "name": "stdout",
     "output_type": "stream",
     "text": [
      "\n",
      "Coefficients: \n",
      " [ 1.28718198e-02  1.15238267e-07  1.94790069e+02  8.95994188e+01\n",
      " -3.98745094e+00 -3.07791891e+00  1.23246114e+01]\n",
      "\n",
      "Intercept: \n",
      " -16.15854117576282\n",
      "\n",
      "R-squared:\n",
      "0.8445137974722529\n"
     ]
    }
   ],
   "source": [
    "\n",
    "regr = linear_model.LinearRegression()\n",
    "\n",
    "Y = features['property_crime']\n",
    "X = features[['population','population_squared','murder','robbery', 'burglary', 'larceny', 'mv_theft']]\n",
    "regr.fit(X, Y)\n",
    "\n",
    "print('\\nCoefficients: \\n', regr.coef_)\n",
    "print('\\nIntercept: \\n', regr.intercept_)\n",
    "print('\\nR-squared:')\n",
    "print(regr.score(X, Y))"
   ]
  },
  {
   "cell_type": "markdown",
   "metadata": {},
   "source": [
    "## 3. Cross Validation"
   ]
  },
  {
   "cell_type": "code",
   "execution_count": 145,
   "metadata": {},
   "outputs": [
    {
     "data": {
      "image/png": "[encoded data removed]",
      "text/plain": [
       "<Figure size 432x288 with 1 Axes>"
      ]
     },
     "metadata": {
      "needs_background": "light"
     },
     "output_type": "display_data"
    },
    {
     "name": "stdout",
     "output_type": "stream",
     "text": [
      "Cross Validation 5 folds: [0.92113726 0.73868128 0.7693965  0.87327444 0.31520846]\n",
      "mean: 0.7235395876487718, std: 0.21472391490996248\n"
     ]
    }
   ],
   "source": [
    "\n",
    "y_pred = regr.predict(X)\n",
    "\n",
    "# plot predicted property crime vs. actual property crime\n",
    "sns.regplot(features.population, Y, color = 'r')\n",
    "sns.regplot(features.population, y_pred, color = 'g')\n",
    "plt.show()\n",
    "\n",
    "cvs = cross_val_score(regr, X, Y, cv = 5)\n",
    "print('Cross Validation 5 folds: {}'.format(cvs))\n",
    "print('mean: {}, std: {}'.format(np.mean(cvs), np.std(cvs)))"
   ]
  },
  {
   "cell_type": "markdown",
   "metadata": {},
   "source": []
  },
  {
   "cell_type": "code",
   "execution_count": 146,
   "metadata": {},
   "outputs": [
    {
     "name": "stdout",
     "output_type": "stream",
     "text": [
      "Parameters \n",
      " Intercept            -1.615854e+01\n",
      "population            1.287182e-02\n",
      "population_squared    1.152383e-07\n",
      "murder                1.947901e+02\n",
      "robbery               8.959942e+01\n",
      "burglary             -3.987451e+00\n",
      "mv_theft              1.232461e+01\n",
      "larceny              -3.077919e+00\n",
      "dtype: float64 \n",
      "\n",
      "P-values \n",
      " Intercept             9.178572e-01\n",
      "population            1.471000e-08\n",
      "population_squared    6.869976e-24\n",
      "murder                1.186823e-02\n",
      "robbery               1.053663e-01\n",
      "burglary              9.712922e-01\n",
      "mv_theft              8.345684e-01\n",
      "larceny               9.863718e-01\n",
      "dtype: float64 \n",
      "\n",
      "R-square: 0.844513797472253\n"
     ]
    }
   ],
   "source": [
    "# write out the model formula\n",
    "formula = 'property_crime ~ population+population_squared+murder+robbery+burglary+mv_theft+larceny'\n",
    "\n",
    "lm = smf.ols(formula = formula, data = features).fit()\n",
    "\n",
    "print('Parameters \\n', lm.params, '\\n')\n",
    "print('P-values \\n', lm.pvalues, '\\n')\n",
    "print('R-square: {}'.format(lm.rsquared))"
   ]
  },
  {
   "cell_type": "code",
   "execution_count": 147,
   "metadata": {},
   "outputs": [
    {
     "data": {
      "text/html": [
       "<table class=\"simpletable\">\n",
       "<caption>OLS Regression Results</caption>\n",
       "<tr>\n",
       "  <th>Dep. Variable:</th>     <td>property_crime</td>  <th>  R-squared:         </th> <td>   0.845</td> \n",
       "</tr>\n",
       "<tr>\n",
       "  <th>Model:</th>                   <td>OLS</td>       <th>  Adj. R-squared:    </th> <td>   0.841</td> \n",
       "</tr>\n",
       "<tr>\n",
       "  <th>Method:</th>             <td>Least Squares</td>  <th>  F-statistic:       </th> <td>   263.0</td> \n",
       "</tr>\n",
       "<tr>\n",
       "  <th>Date:</th>             <td>Tue, 12 Feb 2019</td> <th>  Prob (F-statistic):</th> <td>7.45e-133</td>\n",
       "</tr>\n",
       "<tr>\n",
       "  <th>Time:</th>                 <td>13:43:34</td>     <th>  Log-Likelihood:    </th> <td> -2577.7</td> \n",
       "</tr>\n",
       "<tr>\n",
       "  <th>No. Observations:</th>      <td>   347</td>      <th>  AIC:               </th> <td>   5171.</td> \n",
       "</tr>\n",
       "<tr>\n",
       "  <th>Df Residuals:</th>          <td>   339</td>      <th>  BIC:               </th> <td>   5202.</td> \n",
       "</tr>\n",
       "<tr>\n",
       "  <th>Df Model:</th>              <td>     7</td>      <th>                     </th>     <td> </td>    \n",
       "</tr>\n",
       "<tr>\n",
       "  <th>Covariance Type:</th>      <td>nonrobust</td>    <th>                     </th>     <td> </td>    \n",
       "</tr>\n",
       "</table>\n",
       "<table class=\"simpletable\">\n",
       "<tr>\n",
       "           <td></td>             <th>coef</th>     <th>std err</th>      <th>t</th>      <th>P>|t|</th>  <th>[0.025</th>    <th>0.975]</th>  \n",
       "</tr>\n",
       "<tr>\n",
       "  <th>Intercept</th>          <td>  -16.1585</td> <td>  156.560</td> <td>   -0.103</td> <td> 0.918</td> <td> -324.109</td> <td>  291.792</td>\n",
       "</tr>\n",
       "<tr>\n",
       "  <th>population</th>         <td>    0.0129</td> <td>    0.002</td> <td>    5.806</td> <td> 0.000</td> <td>    0.009</td> <td>    0.017</td>\n",
       "</tr>\n",
       "<tr>\n",
       "  <th>population_squared</th> <td> 1.152e-07</td> <td> 1.06e-08</td> <td>   10.892</td> <td> 0.000</td> <td> 9.44e-08</td> <td> 1.36e-07</td>\n",
       "</tr>\n",
       "<tr>\n",
       "  <th>murder</th>             <td>  194.7901</td> <td>   77.001</td> <td>    2.530</td> <td> 0.012</td> <td>   43.330</td> <td>  346.250</td>\n",
       "</tr>\n",
       "<tr>\n",
       "  <th>robbery</th>            <td>   89.5994</td> <td>   55.182</td> <td>    1.624</td> <td> 0.105</td> <td>  -18.942</td> <td>  198.141</td>\n",
       "</tr>\n",
       "<tr>\n",
       "  <th>burglary</th>           <td>   -3.9875</td> <td>  110.719</td> <td>   -0.036</td> <td> 0.971</td> <td> -221.769</td> <td>  213.795</td>\n",
       "</tr>\n",
       "<tr>\n",
       "  <th>mv_theft</th>           <td>   12.3246</td> <td>   58.967</td> <td>    0.209</td> <td> 0.835</td> <td> -103.664</td> <td>  128.313</td>\n",
       "</tr>\n",
       "<tr>\n",
       "  <th>larceny</th>            <td>   -3.0779</td> <td>  180.060</td> <td>   -0.017</td> <td> 0.986</td> <td> -357.253</td> <td>  351.097</td>\n",
       "</tr>\n",
       "</table>\n",
       "<table class=\"simpletable\">\n",
       "<tr>\n",
       "  <th>Omnibus:</th>       <td>394.087</td> <th>  Durbin-Watson:     </th> <td>   1.943</td> \n",
       "</tr>\n",
       "<tr>\n",
       "  <th>Prob(Omnibus):</th> <td> 0.000</td>  <th>  Jarque-Bera (JB):  </th> <td>73940.681</td>\n",
       "</tr>\n",
       "<tr>\n",
       "  <th>Skew:</th>          <td>-4.482</td>  <th>  Prob(JB):          </th> <td>    0.00</td> \n",
       "</tr>\n",
       "<tr>\n",
       "  <th>Kurtosis:</th>      <td>73.948</td>  <th>  Cond. No.          </th> <td>5.34e+10</td> \n",
       "</tr>\n",
       "</table><br/><br/>Warnings:<br/>[1] Standard Errors assume that the covariance matrix of the errors is correctly specified.<br/>[2] The condition number is large, 5.34e+10. This might indicate that there are<br/>strong multicollinearity or other numerical problems."
      ],
      "text/plain": [
       "<class 'statsmodels.iolib.summary.Summary'>\n",
       "\"\"\"\n",
       "                            OLS Regression Results                            \n",
       "==============================================================================\n",
       "Dep. Variable:         property_crime   R-squared:                       0.845\n",
       "Model:                            OLS   Adj. R-squared:                  0.841\n",
       "Method:                 Least Squares   F-statistic:                     263.0\n",
       "Date:                Tue, 12 Feb 2019   Prob (F-statistic):          7.45e-133\n",
       "Time:                        13:43:34   Log-Likelihood:                -2577.7\n",
       "No. Observations:                 347   AIC:                             5171.\n",
       "Df Residuals:                     339   BIC:                             5202.\n",
       "Df Model:                           7                                         \n",
       "Covariance Type:            nonrobust                                         \n",
       "======================================================================================\n",
       "                         coef    std err          t      P>|t|      [0.025      0.975]\n",
       "--------------------------------------------------------------------------------------\n",
       "Intercept            -16.1585    156.560     -0.103      0.918    -324.109     291.792\n",
       "population             0.0129      0.002      5.806      0.000       0.009       0.017\n",
       "population_squared  1.152e-07   1.06e-08     10.892      0.000    9.44e-08    1.36e-07\n",
       "murder               194.7901     77.001      2.530      0.012      43.330     346.250\n",
       "robbery               89.5994     55.182      1.624      0.105     -18.942     198.141\n",
       "burglary              -3.9875    110.719     -0.036      0.971    -221.769     213.795\n",
       "mv_theft              12.3246     58.967      0.209      0.835    -103.664     128.313\n",
       "larceny               -3.0779    180.060     -0.017      0.986    -357.253     351.097\n",
       "==============================================================================\n",
       "Omnibus:                      394.087   Durbin-Watson:                   1.943\n",
       "Prob(Omnibus):                  0.000   Jarque-Bera (JB):            73940.681\n",
       "Skew:                          -4.482   Prob(JB):                         0.00\n",
       "Kurtosis:                      73.948   Cond. No.                     5.34e+10\n",
       "==============================================================================\n",
       "\n",
       "Warnings:\n",
       "[1] Standard Errors assume that the covariance matrix of the errors is correctly specified.\n",
       "[2] The condition number is large, 5.34e+10. This might indicate that there are\n",
       "strong multicollinearity or other numerical problems.\n",
       "\"\"\""
      ]
     },
     "execution_count": 147,
     "metadata": {},
     "output_type": "execute_result"
    }
   ],
   "source": [
    "lm.summary()"
   ]
  },
  {
   "cell_type": "markdown",
   "metadata": {},
   "source": [
    "From the p-values, we see the p-value for \"mv_theft\", \"robbery\", \"larceny\" and \"burglary\" is greater than .05, suggesting that there is probably no effect for that feature – and that dropping it would not adversely affect the  R^2 ."
   ]
  },
  {
   "cell_type": "code",
   "execution_count": 148,
   "metadata": {},
   "outputs": [],
   "source": [
    "features.drop(['mv_theft', 'burglary', 'robbery', 'larceny'], axis = 1, inplace = True)\n"
   ]
  },
  {
   "cell_type": "code",
   "execution_count": 149,
   "metadata": {},
   "outputs": [
    {
     "name": "stdout",
     "output_type": "stream",
     "text": [
      "Parameters \n",
      " Intercept             1.886199e+01\n",
      "population            1.448029e-02\n",
      "population_squared    1.087478e-07\n",
      "murder                2.069333e+02\n",
      "dtype: float64 \n",
      "\n",
      "P-values \n",
      " Intercept             5.327486e-01\n",
      "population            3.065659e-12\n",
      "population_squared    1.885443e-24\n",
      "murder                7.252617e-03\n",
      "dtype: float64 \n",
      "\n",
      "R-square: 0.843013263731697\n"
     ]
    }
   ],
   "source": [
    "# write out the model formula\n",
    "formula = 'property_crime ~ population+population_squared+murder'\n",
    "\n",
    "lm = smf.ols(formula = formula, data = features).fit()\n",
    "\n",
    "print('Parameters \\n', lm.params, '\\n')\n",
    "print('P-values \\n', lm.pvalues, '\\n')\n",
    "print('R-square: {}'.format(lm.rsquared))"
   ]
  },
  {
   "cell_type": "code",
   "execution_count": 134,
   "metadata": {},
   "outputs": [
    {
     "data": {
      "text/html": [
       "<table class=\"simpletable\">\n",
       "<caption>OLS Regression Results</caption>\n",
       "<tr>\n",
       "  <th>Dep. Variable:</th>     <td>property_crime</td>  <th>  R-squared:         </th> <td>   0.843</td> \n",
       "</tr>\n",
       "<tr>\n",
       "  <th>Model:</th>                   <td>OLS</td>       <th>  Adj. R-squared:    </th> <td>   0.842</td> \n",
       "</tr>\n",
       "<tr>\n",
       "  <th>Method:</th>             <td>Least Squares</td>  <th>  F-statistic:       </th> <td>   614.0</td> \n",
       "</tr>\n",
       "<tr>\n",
       "  <th>Date:</th>             <td>Tue, 12 Feb 2019</td> <th>  Prob (F-statistic):</th> <td>1.68e-137</td>\n",
       "</tr>\n",
       "<tr>\n",
       "  <th>Time:</th>                 <td>13:42:45</td>     <th>  Log-Likelihood:    </th> <td> -2579.3</td> \n",
       "</tr>\n",
       "<tr>\n",
       "  <th>No. Observations:</th>      <td>   347</td>      <th>  AIC:               </th> <td>   5167.</td> \n",
       "</tr>\n",
       "<tr>\n",
       "  <th>Df Residuals:</th>          <td>   343</td>      <th>  BIC:               </th> <td>   5182.</td> \n",
       "</tr>\n",
       "<tr>\n",
       "  <th>Df Model:</th>              <td>     3</td>      <th>                     </th>     <td> </td>    \n",
       "</tr>\n",
       "<tr>\n",
       "  <th>Covariance Type:</th>      <td>nonrobust</td>    <th>                     </th>     <td> </td>    \n",
       "</tr>\n",
       "</table>\n",
       "<table class=\"simpletable\">\n",
       "<tr>\n",
       "           <td></td>             <th>coef</th>     <th>std err</th>      <th>t</th>      <th>P>|t|</th>  <th>[0.025</th>    <th>0.975]</th>  \n",
       "</tr>\n",
       "<tr>\n",
       "  <th>Intercept</th>          <td>   18.8620</td> <td>   30.206</td> <td>    0.624</td> <td> 0.533</td> <td>  -40.550</td> <td>   78.274</td>\n",
       "</tr>\n",
       "<tr>\n",
       "  <th>population</th>         <td>    0.0145</td> <td>    0.002</td> <td>    7.235</td> <td> 0.000</td> <td>    0.011</td> <td>    0.018</td>\n",
       "</tr>\n",
       "<tr>\n",
       "  <th>population_squared</th> <td> 1.087e-07</td> <td> 9.85e-09</td> <td>   11.040</td> <td> 0.000</td> <td> 8.94e-08</td> <td> 1.28e-07</td>\n",
       "</tr>\n",
       "<tr>\n",
       "  <th>murder</th>             <td>  206.9333</td> <td>   76.609</td> <td>    2.701</td> <td> 0.007</td> <td>   56.251</td> <td>  357.615</td>\n",
       "</tr>\n",
       "</table>\n",
       "<table class=\"simpletable\">\n",
       "<tr>\n",
       "  <th>Omnibus:</th>       <td>395.681</td> <th>  Durbin-Watson:     </th> <td>   1.926</td> \n",
       "</tr>\n",
       "<tr>\n",
       "  <th>Prob(Omnibus):</th> <td> 0.000</td>  <th>  Jarque-Bera (JB):  </th> <td>72553.263</td>\n",
       "</tr>\n",
       "<tr>\n",
       "  <th>Skew:</th>          <td>-4.526</td>  <th>  Prob(JB):          </th> <td>    0.00</td> \n",
       "</tr>\n",
       "<tr>\n",
       "  <th>Kurtosis:</th>      <td>73.258</td>  <th>  Cond. No.          </th> <td>1.79e+10</td> \n",
       "</tr>\n",
       "</table><br/><br/>Warnings:<br/>[1] Standard Errors assume that the covariance matrix of the errors is correctly specified.<br/>[2] The condition number is large, 1.79e+10. This might indicate that there are<br/>strong multicollinearity or other numerical problems."
      ],
      "text/plain": [
       "<class 'statsmodels.iolib.summary.Summary'>\n",
       "\"\"\"\n",
       "                            OLS Regression Results                            \n",
       "==============================================================================\n",
       "Dep. Variable:         property_crime   R-squared:                       0.843\n",
       "Model:                            OLS   Adj. R-squared:                  0.842\n",
       "Method:                 Least Squares   F-statistic:                     614.0\n",
       "Date:                Tue, 12 Feb 2019   Prob (F-statistic):          1.68e-137\n",
       "Time:                        13:42:45   Log-Likelihood:                -2579.3\n",
       "No. Observations:                 347   AIC:                             5167.\n",
       "Df Residuals:                     343   BIC:                             5182.\n",
       "Df Model:                           3                                         \n",
       "Covariance Type:            nonrobust                                         \n",
       "======================================================================================\n",
       "                         coef    std err          t      P>|t|      [0.025      0.975]\n",
       "--------------------------------------------------------------------------------------\n",
       "Intercept             18.8620     30.206      0.624      0.533     -40.550      78.274\n",
       "population             0.0145      0.002      7.235      0.000       0.011       0.018\n",
       "population_squared  1.087e-07   9.85e-09     11.040      0.000    8.94e-08    1.28e-07\n",
       "murder               206.9333     76.609      2.701      0.007      56.251     357.615\n",
       "==============================================================================\n",
       "Omnibus:                      395.681   Durbin-Watson:                   1.926\n",
       "Prob(Omnibus):                  0.000   Jarque-Bera (JB):            72553.263\n",
       "Skew:                          -4.526   Prob(JB):                         0.00\n",
       "Kurtosis:                      73.258   Cond. No.                     1.79e+10\n",
       "==============================================================================\n",
       "\n",
       "Warnings:\n",
       "[1] Standard Errors assume that the covariance matrix of the errors is correctly specified.\n",
       "[2] The condition number is large, 1.79e+10. This might indicate that there are\n",
       "strong multicollinearity or other numerical problems.\n",
       "\"\"\""
      ]
     },
     "execution_count": 134,
     "metadata": {},
     "output_type": "execute_result"
    }
   ],
   "source": [
    "lm.summary()"
   ]
  },
  {
   "cell_type": "markdown",
   "metadata": {},
   "source": [
    "# Model Validation on California Crime Data 2013"
   ]
  },
  {
   "cell_type": "code",
   "execution_count": 127,
   "metadata": {},
   "outputs": [
    {
     "data": {
      "text/html": [
       "<div>\n",
       "<style scoped>\n",
       "    .dataframe tbody tr th:only-of-type {\n",
       "        vertical-align: middle;\n",
       "    }\n",
       "\n",
       "    .dataframe tbody tr th {\n",
       "        vertical-align: top;\n",
       "    }\n",
       "\n",
       "    .dataframe thead th {\n",
       "        text-align: right;\n",
       "    }\n",
       "</style>\n",
       "<table border=\"1\" class=\"dataframe\">\n",
       "  <thead>\n",
       "    <tr style=\"text-align: right;\">\n",
       "      <th></th>\n",
       "      <th>property_crime</th>\n",
       "      <th>murder</th>\n",
       "      <th>population</th>\n",
       "      <th>population_squared</th>\n",
       "    </tr>\n",
       "  </thead>\n",
       "  <tbody>\n",
       "    <tr>\n",
       "      <th>count</th>\n",
       "      <td>348.000000</td>\n",
       "      <td>348.000000</td>\n",
       "      <td>3.480000e+02</td>\n",
       "      <td>3.480000e+02</td>\n",
       "    </tr>\n",
       "    <tr>\n",
       "      <th>mean</th>\n",
       "      <td>792.606322</td>\n",
       "      <td>0.140805</td>\n",
       "      <td>4.003763e+04</td>\n",
       "      <td>2.035547e+11</td>\n",
       "    </tr>\n",
       "    <tr>\n",
       "      <th>std</th>\n",
       "      <td>7659.724746</td>\n",
       "      <td>0.348321</td>\n",
       "      <td>4.500374e+05</td>\n",
       "      <td>3.778876e+12</td>\n",
       "    </tr>\n",
       "    <tr>\n",
       "      <th>min</th>\n",
       "      <td>0.000000</td>\n",
       "      <td>0.000000</td>\n",
       "      <td>5.260000e+02</td>\n",
       "      <td>2.766760e+05</td>\n",
       "    </tr>\n",
       "    <tr>\n",
       "      <th>25%</th>\n",
       "      <td>40.500000</td>\n",
       "      <td>0.000000</td>\n",
       "      <td>3.003000e+03</td>\n",
       "      <td>9.018117e+06</td>\n",
       "    </tr>\n",
       "    <tr>\n",
       "      <th>50%</th>\n",
       "      <td>112.500000</td>\n",
       "      <td>0.000000</td>\n",
       "      <td>7.233500e+03</td>\n",
       "      <td>5.232568e+07</td>\n",
       "    </tr>\n",
       "    <tr>\n",
       "      <th>75%</th>\n",
       "      <td>341.000000</td>\n",
       "      <td>0.000000</td>\n",
       "      <td>1.842750e+04</td>\n",
       "      <td>3.397536e+08</td>\n",
       "    </tr>\n",
       "    <tr>\n",
       "      <th>max</th>\n",
       "      <td>141971.000000</td>\n",
       "      <td>1.000000</td>\n",
       "      <td>8.396126e+06</td>\n",
       "      <td>7.049493e+13</td>\n",
       "    </tr>\n",
       "  </tbody>\n",
       "</table>\n",
       "</div>"
      ],
      "text/plain": [
       "       property_crime      murder    population  population_squared\n",
       "count      348.000000  348.000000  3.480000e+02        3.480000e+02\n",
       "mean       792.606322    0.140805  4.003763e+04        2.035547e+11\n",
       "std       7659.724746    0.348321  4.500374e+05        3.778876e+12\n",
       "min          0.000000    0.000000  5.260000e+02        2.766760e+05\n",
       "25%         40.500000    0.000000  3.003000e+03        9.018117e+06\n",
       "50%        112.500000    0.000000  7.233500e+03        5.232568e+07\n",
       "75%        341.000000    0.000000  1.842750e+04        3.397536e+08\n",
       "max     141971.000000    1.000000  8.396126e+06        7.049493e+13"
      ]
     },
     "execution_count": 127,
     "metadata": {},
     "output_type": "execute_result"
    }
   ],
   "source": [
    "path1 = r'C:\\Users\\hafeez_poldz\\Desktop\\Thinkful\\Unit 2\\datas\\table_8_offenses_known_to_law_enforcement_california_by_city_2013.xls'\n",
    "df2014 = pd.read_excel(path, header = 4)\n",
    "\n",
    "# rename the columns\n",
    "df2014.rename(columns = {'Murder and\\nnonnegligent\\nmanslaughter':'Murder', \n",
    "                     'Property\\ncrime':'Property_crime',\n",
    "                    'Larceny-\\ntheft': 'Larceny',\n",
    "                    'Motor\\nvehicle\\ntheft': 'MV_theft'}, inplace = True)\n",
    "\n",
    "# remove last 7 rows \n",
    "df2014 = df2014[np.isfinite(df2014['Property_crime'])]\n",
    "\n",
    "for col in ['Population', 'Murder', 'Robbery', 'Property_crime']:\n",
    "    df2014[col] = df2014[col].astype(np.int64)\n",
    "\n",
    "# create a dataframe to hold features\n",
    "features_2014 = pd.DataFrame()\n",
    "features_2014['property_crime'] = df2014['Property_crime']\n",
    "features_2014['murder'] = np.where(df2014['Murder']>=1, 1, 0)\n",
    "features_2014['population'] = df2014['Population']\n",
    "features_2014['population_squared'] = np.square(features_2014.population)\n",
    "features_2014.describe()"
   ]
  },
  {
   "cell_type": "code",
   "execution_count": 131,
   "metadata": {},
   "outputs": [
    {
     "name": "stdout",
     "output_type": "stream",
     "text": [
      "\n",
      "Coefficients: \n",
      " [1.44802892e-02 1.08747761e-07 2.06933253e+02]\n",
      "\n",
      "Intercept: \n",
      " 18.861991652627694\n",
      "\n",
      "R-squared:\n",
      "0.843013263731697\n"
     ]
    }
   ],
   "source": [
    "# instantiate and fit our model\n",
    "regr = linear_model.LinearRegression()\n",
    "Y_2014 = features_2014['property_crime']\n",
    "X_2014 = features_2014[['population','population_squared','murder']]\n",
    "regr.fit(X_2014, Y_2014)\n",
    "\n",
    "# Inspect the results.\n",
    "print('\\nCoefficients: \\n', regr.coef_)\n",
    "print('\\nIntercept: \\n', regr.intercept_)\n",
    "print('\\nR-squared:')\n",
    "print(regr.score(X_2014, Y_2014))"
   ]
  },
  {
   "cell_type": "code",
   "execution_count": 129,
   "metadata": {},
   "outputs": [
    {
     "name": "stdout",
     "output_type": "stream",
     "text": [
      "(347, 4)\n"
     ]
    },
    {
     "data": {
      "image/png": "[encoded data removed]",
      "text/plain": [
       "<Figure size 1008x432 with 2 Axes>"
      ]
     },
     "metadata": {
      "needs_background": "light"
     },
     "output_type": "display_data"
    }
   ],
   "source": [
    "# extract predicted values\n",
    "predicted = regr.predict(X_2014).ravel()\n",
    "\n",
    "# add predicted to features dataframe\n",
    "features_2014['predicted'] = pd.Series(predicted)\n",
    "\n",
    "# z-score method to remove outliers\n",
    "#no_outliers = features.copy()\n",
    "#z = np.abs(stats.zscore(no_outliers))\n",
    "#threshold = 2\n",
    "#features = features[(z < threshold).all(axis=1)]\n",
    "\n",
    "outliers = features_2014.nlargest(1, ['predicted']).index.tolist()\n",
    "features_2014.drop(index = outliers, axis = 0, inplace = True)\n",
    "\n",
    "# remove predicted column\n",
    "predicted = np.array(features_2014.predicted)\n",
    "features_2014.drop(['predicted'], axis = 1, inplace = True)\n",
    "print(features_2014.shape)\n",
    "features_2014.describe()\n",
    "\n",
    "# Calculate the error, also called the residual.\n",
    "actual = features_2014['property_crime']\n",
    "residual = actual - predicted\n",
    "\n",
    "# plot residual distribution\n",
    "plt.figure(figsize = (14, 6))\n",
    "plt.subplot(121)\n",
    "_ = sns.distplot(residual, fit = norm)\n",
    "_.set(title = 'Residual distribution', xlabel = 'Residual', ylabel = 'Count')\n",
    "\n",
    "# scatter plot residual vs. predicted\n",
    "plt.subplot(122)\n",
    "_ = sns.regplot(predicted, residual)\n",
    "_.axhline(y=0, color = 'r')\n",
    "_.set(title = 'Residual vs. Predicted', xlabel = 'Predicted', ylabel = 'Residual')\n",
    "\n",
    "plt.show()\n"
   ]
  },
  {
   "cell_type": "code",
   "execution_count": 130,
   "metadata": {},
   "outputs": [
    {
     "name": "stdout",
     "output_type": "stream",
     "text": [
      "\n",
      "Coefficients: \n",
      " [1.44802892e-02 1.08747761e-07 2.06933253e+02]\n",
      "\n",
      "Intercept: \n",
      " 18.861991652627694\n",
      "\n",
      "R-squared:\n",
      "0.843013263731697\n"
     ]
    }
   ],
   "source": [
    "\n",
    "regr = linear_model.LinearRegression()\n",
    "Y_cali = features_2014['property_crime']\n",
    "X_cali = features_2014[['population','population_squared','murder']]\n",
    "regr.fit(X_cali, Y_cali)\n",
    "\n",
    "print('\\nCoefficients: \\n', regr.coef_)\n",
    "print('\\nIntercept: \\n', regr.intercept_)\n",
    "print('\\nR-squared:')\n",
    "print(regr.score(X_cali, Y_cali))"
   ]
  },
  {
   "cell_type": "code",
   "execution_count": null,
   "metadata": {},
   "outputs": [],
   "source": []
  }
 ],
 "metadata": {
  "kernelspec": {
   "display_name": "Python 3",
   "language": "python",
   "name": "python3"
  },
  "language_info": {
   "codemirror_mode": {
    "name": "ipython",
    "version": 3
   },
   "file_extension": ".py",
   "mimetype": "text/x-python",
   "name": "python",
   "nbconvert_exporter": "python",
   "pygments_lexer": "ipython3",
   "version": "3.6.6"
  }
 },
 "nbformat": 4,
 "nbformat_minor": 2
}
