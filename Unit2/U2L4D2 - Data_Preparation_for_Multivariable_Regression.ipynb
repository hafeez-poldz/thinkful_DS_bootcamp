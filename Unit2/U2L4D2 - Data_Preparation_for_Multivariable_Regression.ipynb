{
 "cells": [
  {
   "cell_type": "markdown",
   "metadata": {},
   "source": [
    "# Data Preparation for Multivariable Regression: NY Crime Data in 2013\n",
    "\n",
    "I'll prepare this data to model with multivariable regression (including data cleaning) according to this specification:\n",
    "\n",
    "$$ Property crime = \\alpha + Population + Population^2 + Murder + Robbery$$\n",
    "\n"
   ]
  },
  {
   "cell_type": "code",
   "execution_count": 238,
   "metadata": {},
   "outputs": [],
   "source": [
    "import numpy as np\n",
    "import pandas as pd\n",
    "import matplotlib.pyplot as plt\n",
    "import seaborn as sns\n",
    "import warnings\n",
    "warnings.filterwarnings('ignore')"
   ]
  },
  {
   "cell_type": "markdown",
   "metadata": {},
   "source": [
    "## 1. Explarotary Data Analysis (EDA)"
   ]
  },
  {
   "cell_type": "code",
   "execution_count": 239,
   "metadata": {},
   "outputs": [
    {
     "data": {
      "text/plain": [
       "City                                       object\n",
       "Population                                float64\n",
       "Violent\\ncrime                            float64\n",
       "Murder and\\nnonnegligent\\nmanslaughter    float64\n",
       "Rape\\n(revised\\ndefinition)1              float64\n",
       "Rape\\n(legacy\\ndefinition)2               float64\n",
       "Robbery                                   float64\n",
       "Aggravated\\nassault                       float64\n",
       "Property\\ncrime                           float64\n",
       "Burglary                                  float64\n",
       "Larceny-\\ntheft                           float64\n",
       "Motor\\nvehicle\\ntheft                     float64\n",
       "Arson3                                    float64\n",
       "dtype: object"
      ]
     },
     "execution_count": 239,
     "metadata": {},
     "output_type": "execute_result"
    }
   ],
   "source": [
    "path = r'C:\\Users\\hafeez_poldz\\Desktop\\Thinkful\\Unit 2\\datas\\table_8_offenses_known_to_law_enforcement_new_york_by_city_2013.xls'\n",
    "df = pd.read_excel(path, header = 4)\n",
    "df.dtypes"
   ]
  },
  {
   "cell_type": "code",
   "execution_count": 240,
   "metadata": {},
   "outputs": [
    {
     "data": {
      "text/plain": [
       "(351, 13)"
      ]
     },
     "execution_count": 240,
     "metadata": {},
     "output_type": "execute_result"
    }
   ],
   "source": [
    "df.shape"
   ]
  },
  {
   "cell_type": "code",
   "execution_count": 241,
   "metadata": {},
   "outputs": [
    {
     "data": {
      "text/plain": [
       "City                                        0\n",
       "Population                                  3\n",
       "Violent\\ncrime                              3\n",
       "Murder and\\nnonnegligent\\nmanslaughter      3\n",
       "Rape\\n(revised\\ndefinition)1              351\n",
       "Rape\\n(legacy\\ndefinition)2                 3\n",
       "Robbery                                     3\n",
       "Aggravated\\nassault                         3\n",
       "Property\\ncrime                             3\n",
       "Burglary                                    3\n",
       "Larceny-\\ntheft                             3\n",
       "Motor\\nvehicle\\ntheft                       3\n",
       "Arson3                                    164\n",
       "dtype: int64"
      ]
     },
     "execution_count": 241,
     "metadata": {},
     "output_type": "execute_result"
    }
   ],
   "source": [
    "df.isnull().sum()"
   ]
  },
  {
   "cell_type": "markdown",
   "metadata": {},
   "source": [
    "EDA shows that dataset has 13 columns and 352 entries. The variables we need to deal with have 3 missing values which is not significant. I'll drop them later.\n",
    "## 1.1 Univariate Analysis\n",
    "Firts, I explore the population"
   ]
  },
  {
   "cell_type": "code",
   "execution_count": 242,
   "metadata": {},
   "outputs": [
    {
     "data": {
      "image/png": "[encoded data removed]",
      "text/plain": [
       "<Figure size 720x432 with 3 Axes>"
      ]
     },
     "metadata": {
      "needs_background": "light"
     },
     "output_type": "display_data"
    }
   ],
   "source": [
    "# population distribution\n",
    "fig = plt.figure(figsize = (10,6))\n",
    "\n",
    "fig.add_subplot(221)\n",
    "plt.hist(df['Robbery'])\n",
    "plt.title('Robbery Distribution')\n",
    "\n",
    "fig.add_subplot(222)\n",
    "plt.hist(df['Murder and\\nnonnegligent\\nmanslaughter'].dropna())\n",
    "plt.title('Murder Distribution')\n",
    "\n",
    "fig.add_subplot(223)\n",
    "plt.hist(df['Population'].dropna())\n",
    "plt.title('Population Distribution')\n",
    "plt.tight_layout()\n",
    "plt.show()\n"
   ]
  },
  {
   "cell_type": "markdown",
   "metadata": {},
   "source": [
    "Selected variables do not look normally distributed. And we have outliers in our dataset. Seems, I'll need to normalize it using np.log() and remove outliers.\n",
    "## 2. Data Cleaning & Manipulation\n",
    "Here I'll rename columns to facilitate the work, drop the last 3 rows with missing values and convert selected variables from float64 to int64"
   ]
  },
  {
   "cell_type": "code",
   "execution_count": 243,
   "metadata": {},
   "outputs": [
    {
     "name": "stdout",
     "output_type": "stream",
     "text": [
      "City                             object\n",
      "Population                        int64\n",
      "Violent\\ncrime                  float64\n",
      "Murder                            int64\n",
      "Rape\\n(revised\\ndefinition)1    float64\n",
      "Rape\\n(legacy\\ndefinition)2     float64\n",
      "Robbery                           int64\n",
      "Aggravated\\nassault             float64\n",
      "Property_crime                    int64\n",
      "Burglary                        float64\n",
      "Larceny-\\ntheft                 float64\n",
      "Motor\\nvehicle\\ntheft           float64\n",
      "Arson3                          float64\n",
      "dtype: object\n"
     ]
    }
   ],
   "source": [
    "# rename the column\n",
    "df.rename(columns = {'Murder and\\nnonnegligent\\nmanslaughter':'Murder', 'Property\\ncrime':'Property_crime'}, inplace = True)\n",
    "\n",
    "# remove last 3 rows \n",
    "df.drop(df.iloc[348:, :].index, inplace = True)\n",
    "\n",
    "for col in ['Population', 'Murder', 'Robbery', 'Property_crime']:\n",
    "    df[col] = df[col].astype(np.int64)\n",
    "df.isnull().sum()\n",
    "print(df.dtypes)"
   ]
  },
  {
   "cell_type": "markdown",
   "metadata": {},
   "source": [
    "## 3. Feature selection\n",
    "We already know that our dependant variable is Property Crime and independent variables are Murder, Robbery, Population."
   ]
  },
  {
   "cell_type": "code",
   "execution_count": 244,
   "metadata": {},
   "outputs": [
    {
     "name": "stdout",
     "output_type": "stream",
     "text": [
      "         count       mean          std  min  25%  50%   75%      max\n",
      "robbery                                                             \n",
      "0        139.0    0.00000     0.000000  0.0  0.0  0.0   0.0      0.0\n",
      "1        209.0  121.38756  1329.475239  1.0  1.0  4.0  12.0  19170.0\n"
     ]
    }
   ],
   "source": [
    "# create a dataframe to hold features\n",
    "features = pd.DataFrame()\n",
    "features['property_crime'] = df['Property_crime']\n",
    "features['murder'] = np.where(df['Murder']>=1, 1, 0)\n",
    "features['robbery'] = np.where(df['Robbery']>=1, 1, 0)\n",
    "\n",
    "# check if it works\n",
    "print(df['Robbery'].groupby(features['robbery']).describe())"
   ]
  },
  {
   "cell_type": "code",
   "execution_count": 245,
   "metadata": {},
   "outputs": [
    {
     "data": {
      "text/html": [
       "<div>\n",
       "<style scoped>\n",
       "    .dataframe tbody tr th:only-of-type {\n",
       "        vertical-align: middle;\n",
       "    }\n",
       "\n",
       "    .dataframe tbody tr th {\n",
       "        vertical-align: top;\n",
       "    }\n",
       "\n",
       "    .dataframe thead th {\n",
       "        text-align: right;\n",
       "    }\n",
       "</style>\n",
       "<table border=\"1\" class=\"dataframe\">\n",
       "  <thead>\n",
       "    <tr style=\"text-align: right;\">\n",
       "      <th></th>\n",
       "      <th>property_crime</th>\n",
       "      <th>murder</th>\n",
       "      <th>robbery</th>\n",
       "      <th>population</th>\n",
       "      <th>population_squared</th>\n",
       "    </tr>\n",
       "  </thead>\n",
       "  <tbody>\n",
       "    <tr>\n",
       "      <th>count</th>\n",
       "      <td>348.000000</td>\n",
       "      <td>348.000000</td>\n",
       "      <td>348.000000</td>\n",
       "      <td>3.480000e+02</td>\n",
       "      <td>3.480000e+02</td>\n",
       "    </tr>\n",
       "    <tr>\n",
       "      <th>mean</th>\n",
       "      <td>792.606322</td>\n",
       "      <td>0.140805</td>\n",
       "      <td>0.600575</td>\n",
       "      <td>4.003763e+04</td>\n",
       "      <td>2.035547e+11</td>\n",
       "    </tr>\n",
       "    <tr>\n",
       "      <th>std</th>\n",
       "      <td>7659.724746</td>\n",
       "      <td>0.348321</td>\n",
       "      <td>0.490486</td>\n",
       "      <td>4.500374e+05</td>\n",
       "      <td>3.778876e+12</td>\n",
       "    </tr>\n",
       "    <tr>\n",
       "      <th>min</th>\n",
       "      <td>0.000000</td>\n",
       "      <td>0.000000</td>\n",
       "      <td>0.000000</td>\n",
       "      <td>5.260000e+02</td>\n",
       "      <td>2.766760e+05</td>\n",
       "    </tr>\n",
       "    <tr>\n",
       "      <th>25%</th>\n",
       "      <td>40.500000</td>\n",
       "      <td>0.000000</td>\n",
       "      <td>0.000000</td>\n",
       "      <td>3.003000e+03</td>\n",
       "      <td>9.018117e+06</td>\n",
       "    </tr>\n",
       "    <tr>\n",
       "      <th>50%</th>\n",
       "      <td>112.500000</td>\n",
       "      <td>0.000000</td>\n",
       "      <td>1.000000</td>\n",
       "      <td>7.233500e+03</td>\n",
       "      <td>5.232568e+07</td>\n",
       "    </tr>\n",
       "    <tr>\n",
       "      <th>75%</th>\n",
       "      <td>341.000000</td>\n",
       "      <td>0.000000</td>\n",
       "      <td>1.000000</td>\n",
       "      <td>1.842750e+04</td>\n",
       "      <td>3.397536e+08</td>\n",
       "    </tr>\n",
       "    <tr>\n",
       "      <th>max</th>\n",
       "      <td>141971.000000</td>\n",
       "      <td>1.000000</td>\n",
       "      <td>1.000000</td>\n",
       "      <td>8.396126e+06</td>\n",
       "      <td>7.049493e+13</td>\n",
       "    </tr>\n",
       "  </tbody>\n",
       "</table>\n",
       "</div>"
      ],
      "text/plain": [
       "       property_crime      murder     robbery    population  \\\n",
       "count      348.000000  348.000000  348.000000  3.480000e+02   \n",
       "mean       792.606322    0.140805    0.600575  4.003763e+04   \n",
       "std       7659.724746    0.348321    0.490486  4.500374e+05   \n",
       "min          0.000000    0.000000    0.000000  5.260000e+02   \n",
       "25%         40.500000    0.000000    0.000000  3.003000e+03   \n",
       "50%        112.500000    0.000000    1.000000  7.233500e+03   \n",
       "75%        341.000000    0.000000    1.000000  1.842750e+04   \n",
       "max     141971.000000    1.000000    1.000000  8.396126e+06   \n",
       "\n",
       "       population_squared  \n",
       "count        3.480000e+02  \n",
       "mean         2.035547e+11  \n",
       "std          3.778876e+12  \n",
       "min          2.766760e+05  \n",
       "25%          9.018117e+06  \n",
       "50%          5.232568e+07  \n",
       "75%          3.397536e+08  \n",
       "max          7.049493e+13  "
      ]
     },
     "execution_count": 245,
     "metadata": {},
     "output_type": "execute_result"
    }
   ],
   "source": [
    "# create the last feature\n",
    "features['population'] = df['Population']\n",
    "features['population_squared'] = np.square(features.population)\n",
    "features.describe()"
   ]
  }
 ],
 "metadata": {
  "kernelspec": {
   "display_name": "Python 3",
   "language": "python",
   "name": "python3"
  },
  "language_info": {
   "codemirror_mode": {
    "name": "ipython",
    "version": 3
   },
   "file_extension": ".py",
   "mimetype": "text/x-python",
   "name": "python",
   "nbconvert_exporter": "python",
   "pygments_lexer": "ipython3",
   "version": "3.6.6"
  }
 },
 "nbformat": 4,
 "nbformat_minor": 2
}
