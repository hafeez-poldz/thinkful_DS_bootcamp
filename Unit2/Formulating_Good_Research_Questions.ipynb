{
 "cells": [
  {
   "cell_type": "markdown",
   "metadata": {},
   "source": [
    "## Formulating Good Research Questions\n",
    "### Categorize each of the following research questions as \"good\" or \"bad\", and provide alternative formulations for the bad ones.\n",
    "\n",
    "**1. What is the 1994 rate of juvenile delinquency in the U.S.?** - Good question <br>\n",
    "\n",
    "**2. What can we do to reduce juvenile delinquency in the U.S.?** - Bad question <br>\n",
    "***alternative formulation:*** What factors have negative impact to juvenile delinquency increase? or what factors are leading contributors to juvenile delinquency? <br>\n",
    "\n",
    "**3. Does education play a role in reducing juvenile delinquents' return to crime?** - Bad question <br>\n",
    "**alterative formulation:** How education and juvenile delinquency are correlated? <br>\n",
    "\n",
    "**4. How many customers does AT&T currently serve in Washington, DC?** - Bad question <br>\n",
    "***alternative formulation:*** How many customers does AT&T daily/weekly/monthly/annually serve in Washington D.C? <br>\n",
    "\n",
    "**5. What factors lead consumers to choose AT&T over other service providers?** Good question<br>\n",
    "\n",
    "**6. How can AT&T attract more customers?** - Bad question\n",
    "***alternative formulation:*** Which factors influence AT&T customer acquisition rates the most? <br>\n",
    "\n",
    "**7. Why did the Challenger Shuttle explode?** Bad question <br>\n",
    "***alternative formulation:*** Which factors played the most important roles in the Challenger Shuttle explosion? <br>\n",
    "\n",
    "**8. Which genes are associated with increased risk of breast cancer?** Good question <br>\n",
    "\n",
    "**9. Is it better to read to children at night or in the morning?** Good question <br>\n",
    "\n",
    "**10. How does Google’s search algorithm work?** Bad question <br>\n",
    "***alternative formulation:*** What are the main features that Google´s search algorithm takes into consideration\n",
    "\n"
   ]
  },
  {
   "cell_type": "code",
   "execution_count": null,
   "metadata": {},
   "outputs": [],
   "source": []
  }
 ],
 "metadata": {
  "kernelspec": {
   "display_name": "Python 3",
   "language": "python",
   "name": "python3"
  },
  "language_info": {
   "codemirror_mode": {
    "name": "ipython",
    "version": 3
   },
   "file_extension": ".py",
   "mimetype": "text/x-python",
   "name": "python",
   "nbconvert_exporter": "python",
   "pygments_lexer": "ipython3",
   "version": "3.6.6"
  }
 },
 "nbformat": 4,
 "nbformat_minor": 2
}
