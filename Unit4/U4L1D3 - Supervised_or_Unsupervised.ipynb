{
 "cells": [
  {
   "cell_type": "markdown",
   "metadata": {},
   "source": [
    "# Unsupervised or Supervised?\n",
    "For each of the scenarios below I'll decide if it could use supervised or unsupervised techniques, or both!\n",
    "\n",
    "1. Define the likelihood that an individual will contract a specific disease <br>\n",
    "Technique: Supervised\n",
    "\n",
    "2. Translate a set of images into variables for modeling <br>\n",
    "Tecnique: Unsupervised\n",
    "\n",
    "3. An ecommerce company wants to identify power users <br>\n",
    "Technique: Both\n",
    "\n",
    "4. That same company wants to see shopping patterns in users <br>\n",
    "Technique: Unsupervised\n",
    "\n",
    "5. You want to reduce the number of variables inputting into your random forest model <br>\n",
    "Technique: Both"
   ]
  }
 ],
 "metadata": {
  "kernelspec": {
   "display_name": "Python 3",
   "language": "python",
   "name": "python3"
  },
  "language_info": {
   "codemirror_mode": {
    "name": "ipython",
    "version": 3
   },
   "file_extension": ".py",
   "mimetype": "text/x-python",
   "name": "python",
   "nbconvert_exporter": "python",
   "pygments_lexer": "ipython3",
   "version": "3.6.6"
  }
 },
 "nbformat": 4,
 "nbformat_minor": 2
}
