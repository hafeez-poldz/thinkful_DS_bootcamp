{
 "cells": [
  {
   "cell_type": "code",
   "execution_count": 122,
   "metadata": {},
   "outputs": [],
   "source": [
    "import numpy as np\n",
    "import pandas as pd\n",
    "import seaborn as sns\n",
    "import matplotlib.pyplot as plt\n",
    "import matplotlib.cm as cm\n",
    "\n",
    "from sklearn.cluster import KMeans\n",
    "from sklearn.cluster import MeanShift, estimate_bandwidth\n",
    "from sklearn.preprocessing import normalize\n",
    "from sklearn.model_selection import train_test_split\n",
    "from sklearn.decomposition import PCA\n",
    "\n",
    "from sklearn import metrics\n",
    "from sklearn.metrics import pairwise_distances\n"
   ]
  },
  {
   "cell_type": "code",
   "execution_count": 197,
   "metadata": {},
   "outputs": [],
   "source": [
    "# loading dataset and printing first 5 rows\n",
    "url = r\"C:\\Users\\hafeez_poldz\\Desktop\\Thinkful\\Unit 4\\marathon_results_.csv\"\n",
    "data = pd.read_csv(url)\n",
    "data.head()\n",
    "\n",
    "testa = data.copy()"
   ]
  },
  {
   "cell_type": "code",
   "execution_count": 23,
   "metadata": {},
   "outputs": [
    {
     "name": "stdout",
     "output_type": "stream",
     "text": [
      "<class 'pandas.core.frame.DataFrame'>\n",
      "RangeIndex: 26410 entries, 0 to 26409\n",
      "Data columns (total 25 columns):\n",
      "Unnamed: 0       26410 non-null int64\n",
      "Bib              26410 non-null object\n",
      "Name             26410 non-null object\n",
      "Age              26410 non-null int64\n",
      "M/F              26410 non-null object\n",
      "City             26410 non-null object\n",
      "State            22815 non-null object\n",
      "Country          26410 non-null object\n",
      "Citizen          1254 non-null object\n",
      "Unnamed: 9       91 non-null object\n",
      "5K               26410 non-null object\n",
      "10K              26410 non-null object\n",
      "15K              26410 non-null object\n",
      "20K              26410 non-null object\n",
      "Half             26410 non-null object\n",
      "25K              26410 non-null object\n",
      "30K              26410 non-null object\n",
      "35K              26410 non-null object\n",
      "40K              26410 non-null object\n",
      "Pace             26410 non-null object\n",
      "Proj Time        26410 non-null object\n",
      "Official Time    26410 non-null object\n",
      "Overall          26410 non-null int64\n",
      "Gender           26410 non-null int64\n",
      "Division         26410 non-null int64\n",
      "dtypes: int64(5), object(20)\n",
      "memory usage: 5.0+ MB\n"
     ]
    }
   ],
   "source": [
    "# concise summary od dataframe\n",
    "data.info()"
   ]
  },
  {
   "cell_type": "code",
   "execution_count": 24,
   "metadata": {},
   "outputs": [
    {
     "data": {
      "text/plain": [
       "Unnamed: 0           0\n",
       "Bib                  0\n",
       "Name                 0\n",
       "Age                  0\n",
       "M/F                  0\n",
       "City                 0\n",
       "State             3595\n",
       "Country              0\n",
       "Citizen          25156\n",
       "Unnamed: 9       26319\n",
       "5K                   0\n",
       "10K                  0\n",
       "15K                  0\n",
       "20K                  0\n",
       "Half                 0\n",
       "25K                  0\n",
       "30K                  0\n",
       "35K                  0\n",
       "40K                  0\n",
       "Pace                 0\n",
       "Proj Time            0\n",
       "Official Time        0\n",
       "Overall              0\n",
       "Gender               0\n",
       "Division             0\n",
       "dtype: int64"
      ]
     },
     "execution_count": 24,
     "metadata": {},
     "output_type": "execute_result"
    }
   ],
   "source": [
    "# checking for missing values\n",
    "data.isnull().sum()"
   ]
  },
  {
   "cell_type": "code",
   "execution_count": 25,
   "metadata": {},
   "outputs": [
    {
     "data": {
      "text/plain": [
       "M/F             2\n",
       "Country        91\n",
       "State          68\n",
       "Citizen        85\n",
       "Division     5846\n",
       "Gender      14438\n",
       "City         5926\n",
       "dtype: int64"
      ]
     },
     "execution_count": 25,
     "metadata": {},
     "output_type": "execute_result"
    }
   ],
   "source": [
    "# checking for unique catrgories in categorical variables\n",
    "cat = ['M/F','Country','State','Citizen', 'Division', 'Gender', 'City']\n",
    "data[cat].nunique()"
   ]
  },
  {
   "cell_type": "code",
   "execution_count": 26,
   "metadata": {},
   "outputs": [
    {
     "data": {
      "image/png": "[encoded data removed]",
      "text/plain": [
       "<Figure size 432x288 with 1 Axes>"
      ]
     },
     "metadata": {
      "needs_background": "light"
     },
     "output_type": "display_data"
    }
   ],
   "source": [
    "# gender distribution\n",
    "_ = sns.countplot(data['M/F'])\n",
    "plt.show()"
   ]
  },
  {
   "cell_type": "markdown",
   "metadata": {},
   "source": [
    "# Cleaning & Manipulation\n",
    "First, I'll clean dataset from unwanted special character and convert all datetime represented columns into minute representation to facilitate feature normalization"
   ]
  },
  {
   "cell_type": "code",
   "execution_count": 27,
   "metadata": {},
   "outputs": [],
   "source": [
    "# replace  '-' with 0\n",
    "for column in (set(data.columns.tolist()) - set(['Name'])): \n",
    "    data[column] = data[column].replace('-',0)\n",
    "    \n",
    "# this function converts H:m:s representation into minutes\n",
    "def str_to_number(time_str):\n",
    "    if not isinstance(time_str, str):\n",
    "        return 0\n",
    "    hour, minute, sec = [int(x) for x in time_str.split(':')]\n",
    "    return hour*60 + minute + sec/60\n",
    "\n",
    "# time represented columns\n",
    "time_cols = ['5K', '10K', '15K', '20K', '25K', '30K', '35K', '40K', 'Half', 'Pace', 'Official Time']\n",
    "for time in time_cols:\n",
    "    data[time] = data[time].map(str_to_number)"
   ]
  },
  {
   "cell_type": "markdown",
   "metadata": {},
   "source": [
    "# Feature Engineering\n",
    "Runners in Boston Marathon are represented in 14 age categories. I'll define a fucntion to categorize ages of participants. "
   ]
  },
  {
   "cell_type": "code",
   "execution_count": 28,
   "metadata": {},
   "outputs": [],
   "source": [
    "# M/F to binary representation\n",
    "features = data.copy()\n",
    "features ['M/F'] = np.where(features['M/F'] == 'M', 1, 0)"
   ]
  },
  {
   "cell_type": "code",
   "execution_count": 29,
   "metadata": {},
   "outputs": [],
   "source": [
    "# categories\n",
    "ages = {'14-19':(14,19),\n",
    "        '20-24':(20,24),\n",
    "        '25-29':(25,29),\n",
    "        '30-34':(30,34),\n",
    "        '35-39':(35,39),\n",
    "        '40-44':(40,44),\n",
    "        '45-49':(45,49),\n",
    "        '50-54':(50,54),\n",
    "        '55-59':(55,59),\n",
    "        '60-64':(60,64),\n",
    "        '65-69':(65,69),\n",
    "        '70-74':(70,74),\n",
    "        '75-79':(75,79),\n",
    "        '80+':(80,90)}\n",
    "\n",
    "# this function is defined to categorize age distribution\n",
    "def categorize(age):\n",
    "    for key in ages:\n",
    "        if (ages[key][0] <= age <= ages[key][1]):\n",
    "            return key\n",
    "\n",
    "# categorize age\n",
    "features['Age'] = features['Age'].apply(lambda age: categorize(age))"
   ]
  },
  {
   "cell_type": "markdown",
   "metadata": {},
   "source": [
    "According to http://registration.baa.org/2014/cf/Public/iframe_EntryLists.cfm, bib numbers represent which category a participant belongs to. Bib numbers are color coded. There are 4 categories: Red, White, Blue, Yellow. "
   ]
  },
  {
   "cell_type": "code",
   "execution_count": 30,
   "metadata": {},
   "outputs": [],
   "source": [
    "bib_cats = {'elite':(0,100),\n",
    "             'red':(101,8999),\n",
    "             'white':(9000,17999),\n",
    "             'blue':(18000,26999),\n",
    "             'yellow':(27000, 50000)}\n",
    "\n",
    "# Define a function to convert bib number to category\n",
    "def convert_bib(x):    \n",
    "    try:\n",
    "        for key in bib_cats:\n",
    "            if bib_cats[key][0] <= float(x) <= bib_cats[key][1]: return key             \n",
    "    except ValueError:   \n",
    "        if 'W' in str(x): return 'elite'\n",
    "        elif 'F' in str(x): return 'elite'    \n",
    "    else: \n",
    "        print(float(x))\n",
    "        return np.nan\n",
    "# create waves column\n",
    "features['waves'] = data['Bib'].apply(lambda x: convert_bib(x))\n"
   ]
  },
  {
   "cell_type": "code",
   "execution_count": 31,
   "metadata": {},
   "outputs": [
    {
     "data": {
      "text/html": [
       "<div>\n",
       "<style scoped>\n",
       "    .dataframe tbody tr th:only-of-type {\n",
       "        vertical-align: middle;\n",
       "    }\n",
       "\n",
       "    .dataframe tbody tr th {\n",
       "        vertical-align: top;\n",
       "    }\n",
       "\n",
       "    .dataframe thead th {\n",
       "        text-align: right;\n",
       "    }\n",
       "</style>\n",
       "<table border=\"1\" class=\"dataframe\">\n",
       "  <thead>\n",
       "    <tr style=\"text-align: right;\">\n",
       "      <th></th>\n",
       "      <th>Age</th>\n",
       "      <th>M/F</th>\n",
       "      <th>5K</th>\n",
       "      <th>10K</th>\n",
       "      <th>15K</th>\n",
       "      <th>20K</th>\n",
       "      <th>Half</th>\n",
       "      <th>25K</th>\n",
       "      <th>30K</th>\n",
       "      <th>35K</th>\n",
       "      <th>40K</th>\n",
       "      <th>Pace</th>\n",
       "      <th>Official Time</th>\n",
       "      <th>Overall</th>\n",
       "      <th>Gender</th>\n",
       "      <th>Division</th>\n",
       "      <th>waves</th>\n",
       "    </tr>\n",
       "  </thead>\n",
       "  <tbody>\n",
       "    <tr>\n",
       "      <th>0</th>\n",
       "      <td>20-24</td>\n",
       "      <td>1</td>\n",
       "      <td>15.416667</td>\n",
       "      <td>30.466667</td>\n",
       "      <td>45.733333</td>\n",
       "      <td>61.25</td>\n",
       "      <td>64.583333</td>\n",
       "      <td>76.983333</td>\n",
       "      <td>93.016667</td>\n",
       "      <td>108.316667</td>\n",
       "      <td>122.883333</td>\n",
       "      <td>4.950000</td>\n",
       "      <td>129.616667</td>\n",
       "      <td>1</td>\n",
       "      <td>1</td>\n",
       "      <td>1</td>\n",
       "      <td>elite</td>\n",
       "    </tr>\n",
       "    <tr>\n",
       "      <th>1</th>\n",
       "      <td>30-34</td>\n",
       "      <td>1</td>\n",
       "      <td>15.400000</td>\n",
       "      <td>30.450000</td>\n",
       "      <td>45.733333</td>\n",
       "      <td>61.25</td>\n",
       "      <td>64.583333</td>\n",
       "      <td>76.983333</td>\n",
       "      <td>93.016667</td>\n",
       "      <td>108.316667</td>\n",
       "      <td>123.233333</td>\n",
       "      <td>4.966667</td>\n",
       "      <td>129.966667</td>\n",
       "      <td>2</td>\n",
       "      <td>2</td>\n",
       "      <td>2</td>\n",
       "      <td>elite</td>\n",
       "    </tr>\n",
       "  </tbody>\n",
       "</table>\n",
       "</div>"
      ],
      "text/plain": [
       "     Age  M/F         5K        10K        15K    20K       Half        25K  \\\n",
       "0  20-24    1  15.416667  30.466667  45.733333  61.25  64.583333  76.983333   \n",
       "1  30-34    1  15.400000  30.450000  45.733333  61.25  64.583333  76.983333   \n",
       "\n",
       "         30K         35K         40K      Pace  Official Time  Overall  \\\n",
       "0  93.016667  108.316667  122.883333  4.950000     129.616667        1   \n",
       "1  93.016667  108.316667  123.233333  4.966667     129.966667        2   \n",
       "\n",
       "   Gender  Division  waves  \n",
       "0       1         1  elite  \n",
       "1       2         2  elite  "
      ]
     },
     "execution_count": 31,
     "metadata": {},
     "output_type": "execute_result"
    }
   ],
   "source": [
    "drop = ['Bib', 'Name', 'City', 'State', 'Country', 'Unnamed: 0', 'Unnamed: 9', 'Proj Time', 'Citizen']\n",
    "features = features.drop(columns = drop, axis = 1)\n",
    "features.head(2)"
   ]
  },
  {
   "cell_type": "code",
   "execution_count": 32,
   "metadata": {},
   "outputs": [
    {
     "data": {
      "text/plain": [
       "Age              0\n",
       "M/F              0\n",
       "5K               0\n",
       "10K              0\n",
       "15K              0\n",
       "20K              0\n",
       "Half             0\n",
       "25K              0\n",
       "30K              0\n",
       "35K              0\n",
       "40K              0\n",
       "Pace             0\n",
       "Official Time    0\n",
       "Overall          0\n",
       "Gender           0\n",
       "Division         0\n",
       "waves            0\n",
       "dtype: int64"
      ]
     },
     "execution_count": 32,
     "metadata": {},
     "output_type": "execute_result"
    }
   ],
   "source": [
    "features.isnull().sum()"
   ]
  },
  {
   "cell_type": "markdown",
   "metadata": {},
   "source": [
    "# Preprocessing"
   ]
  },
  {
   "cell_type": "code",
   "execution_count": 33,
   "metadata": {},
   "outputs": [],
   "source": [
    "# Make sure the number of rows divides evenly into four samples.\n",
    "rows = features.shape[0] - features.shape[0] % 4\n",
    "features = features.iloc[:rows, :]\n",
    "\n",
    "X = pd.get_dummies(features)\n",
    "\n",
    "# Normalize\n",
    "X_norm = normalize(X)\n",
    "\n",
    "# Data frame to store features and predicted cluster memberships.\n",
    "y_pred = pd.DataFrame()\n",
    "\n",
    "# Create the two-feature PCA for graphing purposes.\n",
    "pca = PCA(n_components=2)\n",
    "X_pca = pca.fit_transform(X_norm)\n",
    "\n",
    "# Split the data into four equally-sized samples. First we break it in half:\n",
    "X_half1, X_half2, X_pcahalf1, X_pcahalf2 = train_test_split(\n",
    "    X_norm,\n",
    "    X_pca,\n",
    "    test_size=0.5,\n",
    "    random_state=42)\n",
    "\n",
    "# Then we halve the halves.\n",
    "X1, X2, X_pca1, X_pca2 = train_test_split(\n",
    "    X_half1,\n",
    "    X_pcahalf1,\n",
    "    test_size=0.5,\n",
    "    random_state=42)\n",
    "X3, X4, X_pca3, X_pca4 = train_test_split(\n",
    "    X_half2,\n",
    "    X_pcahalf2,\n",
    "    test_size=0.5,\n",
    "    random_state=42)\n",
    "\n",
    "# Pass a list of tuples and a counter that increments each time we go\n",
    "# through the loop. The tuples are the data to be used by k-means,\n",
    "# and the PCA-derived features for graphing. We use k-means to fit a\n",
    "# model to the data, then store the predicted values and the two-feature\n",
    "# PCA solution in the data frame.\n"
   ]
  },
  {
   "cell_type": "markdown",
   "metadata": {},
   "source": [
    "# KMeans Clustering"
   ]
  },
  {
   "cell_type": "code",
   "execution_count": 159,
   "metadata": {},
   "outputs": [
    {
     "name": "stdout",
     "output_type": "stream",
     "text": [
      "   clusters  mean score       std\n",
      "0       2.0    0.426450  0.000695\n",
      "1       3.0    0.473757  0.002232\n",
      "2       4.0    0.493102  0.002986\n",
      "3       5.0    0.445198  0.002910\n",
      "4       6.0    0.429857  0.002838\n",
      "5       7.0    0.516354  0.001545\n",
      "6       8.0    0.519203  0.000917\n",
      "7       9.0    0.526116  0.007727\n"
     ]
    }
   ],
   "source": [
    "cluster_scores = pd.DataFrame(columns=['clusters','mean score','std'])\n",
    "clust_range = range(2,10)\n",
    "for counter, data in enumerate([\n",
    "    (X1, X_pca1),\n",
    "    (X2, X_pca2),\n",
    "    (X3, X_pca3),\n",
    "    (X4, X_pca4)]):\n",
    "    \n",
    "    # Put the features into y_pred.\n",
    "    y_pred['pca_f1' + '_sample' + str(counter)] = data[1][:, 0]\n",
    "    y_pred['pca_f2' + '_sample' + str(counter)] = data[1][:, 1]\n",
    "    \n",
    "    # Generate cluster predictions and store them for clusters 2 to 12.\n",
    "    for nclust in clust_range:\n",
    "        model = KMeans(n_clusters=nclust, random_state=42).fit(data[0])\n",
    "        labels = model.labels_\n",
    "        y_pred['clust' + str(nclust) + '_sample' + str(counter)] = model\n",
    "        y_pred['sil_score_' + 'clust'+ str(nclust) + '_sample' + str(counter)] = \\\n",
    "                                metrics.silhouette_score(data[0], labels, metric='euclidean')\n",
    "\n",
    "        \n",
    "for nclust in clust_range:\n",
    "    sil_scores = []\n",
    "\n",
    "    for i in range(4):\n",
    "\n",
    "        current_group = (f'clust{nclust}_sample{i}')\n",
    "        \n",
    "\n",
    "        sil_score = y_pred['sil_score_' + str(current_group)].mean()\n",
    "        sil_scores.append(sil_score)\n",
    "\n",
    "    group_mean = np.mean(sil_scores)\n",
    "    group_std = np.std(sil_scores)\n",
    "    cluster_scores = cluster_scores.append({'clusters':int(nclust), 'mean score': group_mean, \n",
    "                                            'std': group_std}, ignore_index=True)\n",
    "    \n",
    "print(cluster_scores)\n",
    "   "
   ]
  },
  {
   "cell_type": "markdown",
   "metadata": {},
   "source": [
    "It appears that the two-cluster solution yields the most consistent results in terms of cluster center and cluster shape."
   ]
  },
  {
   "cell_type": "code",
   "execution_count": 170,
   "metadata": {},
   "outputs": [
    {
     "name": "stdout",
     "output_type": "stream",
     "text": [
      "Number of estimated clusters: 2\n",
      "0.7072158395005685\n",
      "Number of estimated clusters: 3\n",
      "0.6293723760925894\n",
      "Number of estimated clusters: 2\n",
      "0.7188709665431621\n",
      "Number of estimated clusters: 3\n",
      "0.5952690902956774\n"
     ]
    }
   ],
   "source": [
    "# Generate cluster predictions and store them for clusters 2 to 12.\n",
    "pred_clust = pd.DataFrame()\n",
    "for i in [X1, X2, X3, X4]:\n",
    "    bandwidth = estimate_bandwidth(i, quantile=0.6, n_samples=500)\n",
    "    ms = MeanShift(bandwidth=bandwidth, bin_seeding=True)\n",
    "    ms.fit(i)    \n",
    "    labels = ms.labels_ # Extract cluster assignments for each data point.       \n",
    "    n_clusters_ = len(np.unique(labels)) # Count our clusters.\n",
    "    print(\"Number of estimated clusters: {}\".format(n_clusters_)) \n",
    "    print(metrics.silhouette_score(i, labels, metric='euclidean'))\n",
    "    "
   ]
  },
  {
   "cell_type": "code",
   "execution_count": null,
   "metadata": {},
   "outputs": [],
   "source": []
  }
 ],
 "metadata": {
  "kernelspec": {
   "display_name": "Python 3",
   "language": "python",
   "name": "python3"
  },
  "language_info": {
   "codemirror_mode": {
    "name": "ipython",
    "version": 3
   },
   "file_extension": ".py",
   "mimetype": "text/x-python",
   "name": "python",
   "nbconvert_exporter": "python",
   "pygments_lexer": "ipython3",
   "version": "3.6.6"
  }
 },
 "nbformat": 4,
 "nbformat_minor": 2
}
