{
 "cells": [
  {
   "cell_type": "markdown",
   "metadata": {},
   "source": [
    "## Random Forest Thinkful Guided Example - Third Attempt\n",
    "In this notebook I'll attempt to get rid of as much data as possible without dropping below an average of 90% accuracy in a 10-fold cross validation. First, I'll dive into the data that we have and see which features are most important. This can be the raw features or the generated dummies. I'll use PCA or correlation matrices."
   ]
  },
  {
   "cell_type": "code",
   "execution_count": 25,
   "metadata": {
    "run_control": {
     "frozen": false,
     "read_only": false
    }
   },
   "outputs": [],
   "source": [
    "import pandas as pd\n",
    "import numpy as np\n",
    "import matplotlib.pyplot as plt\n",
    "%matplotlib inline\n",
    "import seaborn as sns\n",
    "\n",
    "from sklearn.preprocessing import MinMaxScaler\n",
    "from sklearn.decomposition import PCA\n",
    "from sklearn import ensemble\n",
    "\n",
    "from sklearn.metrics import accuracy_score\n",
    "from sklearn.model_selection import cross_val_score\n",
    "import warnings\n",
    "warnings.filterwarnings('ignore')"
   ]
  },
  {
   "cell_type": "markdown",
   "metadata": {
    "run_control": {
     "frozen": false,
     "read_only": false
    }
   },
   "source": [
    "We've talked about Random Forests. Now it's time to build one.\n",
    "\n",
    "Here we'll use data from Lending Club to predict the state of a loan given some information about it. You can find the dataset [here](https://www.lendingclub.com/info/download-data.action). We'll use 2015 data. ([Thinkful mirror](https://www.dropbox.com/s/m7z42lubaiory33/LoanStats3d.csv?dl=0))"
   ]
  },
  {
   "cell_type": "code",
   "execution_count": 26,
   "metadata": {
    "run_control": {
     "frozen": false,
     "read_only": false
    }
   },
   "outputs": [],
   "source": [
    "# Replace the path with the correct path for your data.\n",
    "y2015 = pd.read_csv(r'C:\\Users\\hafeez_poldz\\Desktop\\Thinkful\\Unit 3\\data\\LoanStats3d.csv', \n",
    "                    skipinitialspace=True, header=1)\n",
    "\n",
    "# Note the warning about dtypes."
   ]
  },
  {
   "cell_type": "code",
   "execution_count": 27,
   "metadata": {},
   "outputs": [
    {
     "data": {
      "text/html": [
       "<div>\n",
       "<style scoped>\n",
       "    .dataframe tbody tr th:only-of-type {\n",
       "        vertical-align: middle;\n",
       "    }\n",
       "\n",
       "    .dataframe tbody tr th {\n",
       "        vertical-align: top;\n",
       "    }\n",
       "\n",
       "    .dataframe thead th {\n",
       "        text-align: right;\n",
       "    }\n",
       "</style>\n",
       "<table border=\"1\" class=\"dataframe\">\n",
       "  <thead>\n",
       "    <tr style=\"text-align: right;\">\n",
       "      <th></th>\n",
       "      <th>id</th>\n",
       "      <th>member_id</th>\n",
       "      <th>loan_amnt</th>\n",
       "      <th>funded_amnt</th>\n",
       "      <th>funded_amnt_inv</th>\n",
       "      <th>term</th>\n",
       "      <th>int_rate</th>\n",
       "      <th>installment</th>\n",
       "      <th>grade</th>\n",
       "      <th>sub_grade</th>\n",
       "      <th>...</th>\n",
       "      <th>hardship_payoff_balance_amount</th>\n",
       "      <th>hardship_last_payment_amount</th>\n",
       "      <th>disbursement_method</th>\n",
       "      <th>debt_settlement_flag</th>\n",
       "      <th>debt_settlement_flag_date</th>\n",
       "      <th>settlement_status</th>\n",
       "      <th>settlement_date</th>\n",
       "      <th>settlement_amount</th>\n",
       "      <th>settlement_percentage</th>\n",
       "      <th>settlement_term</th>\n",
       "    </tr>\n",
       "  </thead>\n",
       "  <tbody>\n",
       "    <tr>\n",
       "      <th>0</th>\n",
       "      <td>NaN</td>\n",
       "      <td>NaN</td>\n",
       "      <td>35000.0</td>\n",
       "      <td>35000.0</td>\n",
       "      <td>35000.0</td>\n",
       "      <td>60 months</td>\n",
       "      <td>14.85%</td>\n",
       "      <td>829.90</td>\n",
       "      <td>C</td>\n",
       "      <td>C5</td>\n",
       "      <td>...</td>\n",
       "      <td>NaN</td>\n",
       "      <td>NaN</td>\n",
       "      <td>Cash</td>\n",
       "      <td>N</td>\n",
       "      <td>NaN</td>\n",
       "      <td>NaN</td>\n",
       "      <td>NaN</td>\n",
       "      <td>NaN</td>\n",
       "      <td>NaN</td>\n",
       "      <td>NaN</td>\n",
       "    </tr>\n",
       "    <tr>\n",
       "      <th>1</th>\n",
       "      <td>NaN</td>\n",
       "      <td>NaN</td>\n",
       "      <td>10400.0</td>\n",
       "      <td>10400.0</td>\n",
       "      <td>10400.0</td>\n",
       "      <td>60 months</td>\n",
       "      <td>22.45%</td>\n",
       "      <td>289.91</td>\n",
       "      <td>F</td>\n",
       "      <td>F1</td>\n",
       "      <td>...</td>\n",
       "      <td>NaN</td>\n",
       "      <td>NaN</td>\n",
       "      <td>Cash</td>\n",
       "      <td>N</td>\n",
       "      <td>NaN</td>\n",
       "      <td>NaN</td>\n",
       "      <td>NaN</td>\n",
       "      <td>NaN</td>\n",
       "      <td>NaN</td>\n",
       "      <td>NaN</td>\n",
       "    </tr>\n",
       "    <tr>\n",
       "      <th>2</th>\n",
       "      <td>NaN</td>\n",
       "      <td>NaN</td>\n",
       "      <td>20000.0</td>\n",
       "      <td>20000.0</td>\n",
       "      <td>20000.0</td>\n",
       "      <td>60 months</td>\n",
       "      <td>10.78%</td>\n",
       "      <td>432.66</td>\n",
       "      <td>B</td>\n",
       "      <td>B4</td>\n",
       "      <td>...</td>\n",
       "      <td>NaN</td>\n",
       "      <td>NaN</td>\n",
       "      <td>Cash</td>\n",
       "      <td>N</td>\n",
       "      <td>NaN</td>\n",
       "      <td>NaN</td>\n",
       "      <td>NaN</td>\n",
       "      <td>NaN</td>\n",
       "      <td>NaN</td>\n",
       "      <td>NaN</td>\n",
       "    </tr>\n",
       "    <tr>\n",
       "      <th>3</th>\n",
       "      <td>NaN</td>\n",
       "      <td>NaN</td>\n",
       "      <td>3600.0</td>\n",
       "      <td>3600.0</td>\n",
       "      <td>3600.0</td>\n",
       "      <td>36 months</td>\n",
       "      <td>13.99%</td>\n",
       "      <td>123.03</td>\n",
       "      <td>C</td>\n",
       "      <td>C4</td>\n",
       "      <td>...</td>\n",
       "      <td>NaN</td>\n",
       "      <td>NaN</td>\n",
       "      <td>Cash</td>\n",
       "      <td>N</td>\n",
       "      <td>NaN</td>\n",
       "      <td>NaN</td>\n",
       "      <td>NaN</td>\n",
       "      <td>NaN</td>\n",
       "      <td>NaN</td>\n",
       "      <td>NaN</td>\n",
       "    </tr>\n",
       "    <tr>\n",
       "      <th>4</th>\n",
       "      <td>NaN</td>\n",
       "      <td>NaN</td>\n",
       "      <td>24700.0</td>\n",
       "      <td>24700.0</td>\n",
       "      <td>24700.0</td>\n",
       "      <td>36 months</td>\n",
       "      <td>11.99%</td>\n",
       "      <td>820.28</td>\n",
       "      <td>C</td>\n",
       "      <td>C1</td>\n",
       "      <td>...</td>\n",
       "      <td>NaN</td>\n",
       "      <td>NaN</td>\n",
       "      <td>Cash</td>\n",
       "      <td>N</td>\n",
       "      <td>NaN</td>\n",
       "      <td>NaN</td>\n",
       "      <td>NaN</td>\n",
       "      <td>NaN</td>\n",
       "      <td>NaN</td>\n",
       "      <td>NaN</td>\n",
       "    </tr>\n",
       "  </tbody>\n",
       "</table>\n",
       "<p>5 rows × 145 columns</p>\n",
       "</div>"
      ],
      "text/plain": [
       "    id  member_id  loan_amnt  funded_amnt  funded_amnt_inv        term  \\\n",
       "0  NaN        NaN    35000.0      35000.0          35000.0   60 months   \n",
       "1  NaN        NaN    10400.0      10400.0          10400.0   60 months   \n",
       "2  NaN        NaN    20000.0      20000.0          20000.0   60 months   \n",
       "3  NaN        NaN     3600.0       3600.0           3600.0   36 months   \n",
       "4  NaN        NaN    24700.0      24700.0          24700.0   36 months   \n",
       "\n",
       "  int_rate  installment grade sub_grade       ...        \\\n",
       "0   14.85%       829.90     C        C5       ...         \n",
       "1   22.45%       289.91     F        F1       ...         \n",
       "2   10.78%       432.66     B        B4       ...         \n",
       "3   13.99%       123.03     C        C4       ...         \n",
       "4   11.99%       820.28     C        C1       ...         \n",
       "\n",
       "  hardship_payoff_balance_amount hardship_last_payment_amount  \\\n",
       "0                            NaN                          NaN   \n",
       "1                            NaN                          NaN   \n",
       "2                            NaN                          NaN   \n",
       "3                            NaN                          NaN   \n",
       "4                            NaN                          NaN   \n",
       "\n",
       "  disbursement_method  debt_settlement_flag debt_settlement_flag_date  \\\n",
       "0                Cash                     N                       NaN   \n",
       "1                Cash                     N                       NaN   \n",
       "2                Cash                     N                       NaN   \n",
       "3                Cash                     N                       NaN   \n",
       "4                Cash                     N                       NaN   \n",
       "\n",
       "  settlement_status settlement_date settlement_amount  settlement_percentage  \\\n",
       "0               NaN             NaN               NaN                    NaN   \n",
       "1               NaN             NaN               NaN                    NaN   \n",
       "2               NaN             NaN               NaN                    NaN   \n",
       "3               NaN             NaN               NaN                    NaN   \n",
       "4               NaN             NaN               NaN                    NaN   \n",
       "\n",
       "  settlement_term  \n",
       "0             NaN  \n",
       "1             NaN  \n",
       "2             NaN  \n",
       "3             NaN  \n",
       "4             NaN  \n",
       "\n",
       "[5 rows x 145 columns]"
      ]
     },
     "execution_count": 27,
     "metadata": {},
     "output_type": "execute_result"
    }
   ],
   "source": [
    "y2015.head()"
   ]
  },
  {
   "cell_type": "markdown",
   "metadata": {
    "run_control": {
     "frozen": false,
     "read_only": false
    }
   },
   "source": [
    "## Data Cleaning\n",
    "\n",
    "Well, `get_dummies` can be a very memory intensive thing, particularly if data are typed poorly. We got a warning about that earlier. Mixed data types get converted to objects, and that could create huge problems. Our dataset is about 400,000 rows. If there's a bad type there its going to see 400,000 distinct values and try to create dummies for all of them. That's bad. Lets look at all our categorical variables and see how many distinct counts there are..."
   ]
  },
  {
   "cell_type": "code",
   "execution_count": 28,
   "metadata": {
    "run_control": {
     "frozen": false,
     "read_only": false
    },
    "scrolled": true
   },
   "outputs": [
    {
     "name": "stdout",
     "output_type": "stream",
     "text": [
      "id\n",
      "2\n",
      "term\n",
      "2\n",
      "int_rate\n",
      "111\n",
      "grade\n",
      "7\n",
      "sub_grade\n",
      "35\n",
      "emp_title\n",
      "120812\n",
      "emp_length\n",
      "11\n",
      "home_ownership\n",
      "4\n",
      "verification_status\n",
      "3\n",
      "issue_d\n",
      "12\n",
      "loan_status\n",
      "7\n",
      "pymnt_plan\n",
      "2\n",
      "desc\n",
      "34\n",
      "purpose\n",
      "14\n",
      "title\n",
      "27\n",
      "zip_code\n",
      "914\n",
      "addr_state\n",
      "49\n",
      "earliest_cr_line\n",
      "668\n",
      "revol_util\n",
      "1211\n",
      "initial_list_status\n",
      "2\n",
      "last_pymnt_d\n",
      "50\n",
      "next_pymnt_d\n",
      "6\n",
      "last_credit_pull_d\n",
      "51\n",
      "application_type\n",
      "2\n",
      "verification_status_joint\n",
      "1\n",
      "hardship_flag\n",
      "2\n",
      "hardship_type\n",
      "1\n",
      "hardship_reason\n",
      "9\n",
      "hardship_status\n",
      "3\n",
      "hardship_start_date\n",
      "25\n",
      "hardship_end_date\n",
      "25\n",
      "payment_plan_start_date\n",
      "25\n",
      "hardship_loan_status\n",
      "4\n",
      "disbursement_method\n",
      "1\n",
      "debt_settlement_flag\n",
      "2\n",
      "debt_settlement_flag_date\n",
      "43\n",
      "settlement_status\n",
      "3\n",
      "settlement_date\n",
      "46\n"
     ]
    }
   ],
   "source": [
    "categorical = y2015.select_dtypes(include=['object'])\n",
    "for i in categorical:\n",
    "    column = categorical[i]\n",
    "    print(i)\n",
    "    print(column.nunique())"
   ]
  },
  {
   "cell_type": "markdown",
   "metadata": {
    "run_control": {
     "frozen": false,
     "read_only": false
    }
   },
   "source": [
    "Well that right there is what's called a problem. Some of these have over a hundred thousand distinct types. Lets drop the ones with over 30 unique values, converting to numeric where it makes sense. In doing this there's a lot of code that gets written to just see if the numeric conversion makes sense. It's a manual process that we'll abstract away and just include the conversion.\n",
    "\n",
    "You could extract numeric features from the dates, but here we'll just drop them. There's a lot of data, it shouldn't be a huge problem."
   ]
  },
  {
   "cell_type": "code",
   "execution_count": 29,
   "metadata": {
    "run_control": {
     "frozen": false,
     "read_only": false
    }
   },
   "outputs": [],
   "source": [
    "# Convert ID and Interest Rate to numeric.\n",
    "y2015['id'] = pd.to_numeric(y2015['id'], errors='coerce')\n",
    "y2015['int_rate'] = pd.to_numeric(y2015['int_rate'].str.strip('%'), errors='coerce')\n",
    "\n",
    "# Drop other columns with many unique variables\n",
    "y2015.drop(['url', 'emp_title', 'zip_code', 'earliest_cr_line', 'revol_util',\n",
    "            'sub_grade', 'addr_state', 'desc', 'debt_settlement_flag_date', 'settlement_date',\n",
    "           'last_credit_pull_d'], 1, inplace=True)"
   ]
  },
  {
   "cell_type": "markdown",
   "metadata": {},
   "source": [
    "Wonder what was causing the dtype error on the id column, which _should_ have all been integers? Let's look at the end of the file."
   ]
  },
  {
   "cell_type": "markdown",
   "metadata": {
    "run_control": {
     "frozen": false,
     "read_only": false
    }
   },
   "source": [
    "Now this should be better. Let's try again."
   ]
  },
  {
   "cell_type": "code",
   "execution_count": 30,
   "metadata": {
    "run_control": {
     "frozen": false,
     "read_only": false
    }
   },
   "outputs": [
    {
     "name": "stdout",
     "output_type": "stream",
     "text": [
      "(421095, 358)\n",
      "(421095, 134)\n"
     ]
    }
   ],
   "source": [
    "y2015 = y2015[:-2]\n",
    "print(pd.get_dummies(y2015).shape)\n",
    "print(y2015.shape)"
   ]
  },
  {
   "cell_type": "markdown",
   "metadata": {
    "run_control": {
     "frozen": false,
     "read_only": false
    }
   },
   "source": [
    "It works! I had to sacrifice 11 variables, but that's fine.\n",
    "\n",
    "## Model 1.\n",
    "\n",
    "Now let's try this model again.\n",
    "\n",
    "We're also going to drop NA columns, rather than impute, because our data is rich enough that we can probably get away with it.\n",
    "\n",
    "This model may take a few minutes to run."
   ]
  },
  {
   "cell_type": "code",
   "execution_count": 31,
   "metadata": {
    "run_control": {
     "frozen": false,
     "read_only": false
    }
   },
   "outputs": [
    {
     "data": {
      "text/plain": [
       "array([0.99073942, 0.99104811, 0.99183131, 0.99190197, 0.992353  ,\n",
       "       0.99202052, 0.99145056, 0.99228175, 0.99235282, 0.99301779])"
      ]
     },
     "execution_count": 31,
     "metadata": {},
     "output_type": "execute_result"
    }
   ],
   "source": [
    "# random forest calssifier\n",
    "rfc = ensemble.RandomForestClassifier()\n",
    "\n",
    "# define input variables and outcome variable\n",
    "X = y2015.drop('loan_status', 1)\n",
    "Y = y2015['loan_status']\n",
    "\n",
    "# convert categorical variables into dummy variables\n",
    "X = pd.get_dummies(X)\n",
    "X = X.dropna(axis = 1)\n",
    "\n",
    "# cross validation with 10 folds\n",
    "cross_val_score(rfc, X, Y, cv=10)"
   ]
  },
  {
   "cell_type": "markdown",
   "metadata": {
    "run_control": {
     "frozen": false,
     "read_only": false
    }
   },
   "source": [
    "The score cross validation reports is the accuracy of the tree. Here we're about 99% accurate.\n",
    "\n",
    "That works pretty well, but there are a few potential problems. Firstly, we didn't really do much in the way of feature selection or model refinement. As such there are a lot of features in there that we don't really need. Some of them are actually quite impressively useless."
   ]
  },
  {
   "cell_type": "markdown",
   "metadata": {},
   "source": [
    "## Model 2.\n",
    "\n",
    "I'll get rid of as much data as possible without dropping below an average of 90% accuracy in a 10-fold cross validation.\n",
    "\n",
    "I want to do a few things in this process. First, check the missing values and remove them. Later, I may want to use PCA or correlation matrices.\n",
    "The lesson gave me the idea to pay attention to the relation between payment amount and outstanding principial. Let's check it.\n"
   ]
  },
  {
   "cell_type": "code",
   "execution_count": 32,
   "metadata": {
    "run_control": {
     "frozen": false,
     "read_only": false
    }
   },
   "outputs": [
    {
     "data": {
      "text/plain": [
       "id                                            421095\n",
       "member_id                                     421095\n",
       "loan_amnt                                          0\n",
       "funded_amnt                                        0\n",
       "funded_amnt_inv                                    0\n",
       "term                                               0\n",
       "int_rate                                           0\n",
       "installment                                        0\n",
       "grade                                              0\n",
       "emp_length                                     23817\n",
       "home_ownership                                     0\n",
       "annual_inc                                         0\n",
       "verification_status                                0\n",
       "issue_d                                            0\n",
       "loan_status                                        0\n",
       "pymnt_plan                                         0\n",
       "purpose                                            0\n",
       "title                                            132\n",
       "dti                                                2\n",
       "delinq_2yrs                                        0\n",
       "inq_last_6mths                                     0\n",
       "mths_since_last_delinq                        203962\n",
       "mths_since_last_record                        346680\n",
       "open_acc                                           0\n",
       "pub_rec                                            0\n",
       "revol_bal                                          0\n",
       "total_acc                                          0\n",
       "initial_list_status                                0\n",
       "out_prncp                                          0\n",
       "out_prncp_inv                                      0\n",
       "                                               ...  \n",
       "sec_app_inq_last_6mths                        421095\n",
       "sec_app_mort_acc                              421095\n",
       "sec_app_open_acc                              421095\n",
       "sec_app_revol_util                            421095\n",
       "sec_app_open_act_il                           421095\n",
       "sec_app_num_rev_accts                         421095\n",
       "sec_app_chargeoff_within_12_mths              421095\n",
       "sec_app_collections_12_mths_ex_med            421095\n",
       "sec_app_mths_since_last_major_derog           421095\n",
       "hardship_flag                                      0\n",
       "hardship_type                                 418544\n",
       "hardship_reason                               418544\n",
       "hardship_status                               418544\n",
       "deferral_term                                 418544\n",
       "hardship_amount                               418544\n",
       "hardship_start_date                           418544\n",
       "hardship_end_date                             418544\n",
       "payment_plan_start_date                       418544\n",
       "hardship_length                               418544\n",
       "hardship_dpd                                  418544\n",
       "hardship_loan_status                          418544\n",
       "orig_projected_additional_accrued_interest    419019\n",
       "hardship_payoff_balance_amount                418544\n",
       "hardship_last_payment_amount                  418544\n",
       "disbursement_method                                0\n",
       "debt_settlement_flag                               0\n",
       "settlement_status                             409794\n",
       "settlement_amount                             409794\n",
       "settlement_percentage                         409794\n",
       "settlement_term                               409794\n",
       "Length: 134, dtype: int64"
      ]
     },
     "execution_count": 32,
     "metadata": {},
     "output_type": "execute_result"
    }
   ],
   "source": [
    "# check missing values\n",
    "y2015.isnull().sum()"
   ]
  },
  {
   "cell_type": "code",
   "execution_count": 33,
   "metadata": {},
   "outputs": [
    {
     "name": "stdout",
     "output_type": "stream",
     "text": [
      "loan_amnt                     0\n",
      "funded_amnt                   0\n",
      "funded_amnt_inv               0\n",
      "term                          0\n",
      "int_rate                      0\n",
      "installment                   0\n",
      "grade                         0\n",
      "home_ownership                0\n",
      "annual_inc                    0\n",
      "verification_status           0\n",
      "issue_d                       0\n",
      "loan_status                   0\n",
      "pymnt_plan                    0\n",
      "purpose                       0\n",
      "delinq_2yrs                   0\n",
      "inq_last_6mths                0\n",
      "open_acc                      0\n",
      "pub_rec                       0\n",
      "revol_bal                     0\n",
      "total_acc                     0\n",
      "initial_list_status           0\n",
      "out_prncp                     0\n",
      "out_prncp_inv                 0\n",
      "total_pymnt                   0\n",
      "total_pymnt_inv               0\n",
      "total_rec_prncp               0\n",
      "total_rec_int                 0\n",
      "total_rec_late_fee            0\n",
      "recoveries                    0\n",
      "collection_recovery_fee       0\n",
      "                             ..\n",
      "acc_open_past_24mths          0\n",
      "avg_cur_bal                   0\n",
      "chargeoff_within_12_mths      0\n",
      "delinq_amnt                   0\n",
      "mo_sin_old_rev_tl_op          0\n",
      "mo_sin_rcnt_rev_tl_op         0\n",
      "mo_sin_rcnt_tl                0\n",
      "mort_acc                      0\n",
      "num_accts_ever_120_pd         0\n",
      "num_actv_bc_tl                0\n",
      "num_actv_rev_tl               0\n",
      "num_bc_sats                   0\n",
      "num_bc_tl                     0\n",
      "num_il_tl                     0\n",
      "num_op_rev_tl                 0\n",
      "num_rev_tl_bal_gt_0           0\n",
      "num_sats                      0\n",
      "num_tl_30dpd                  0\n",
      "num_tl_90g_dpd_24m            0\n",
      "num_tl_op_past_12m            0\n",
      "pct_tl_nvr_dlq                0\n",
      "pub_rec_bankruptcies          0\n",
      "tax_liens                     0\n",
      "tot_hi_cred_lim               0\n",
      "total_bal_ex_mort             0\n",
      "total_bc_limit                0\n",
      "total_il_high_credit_limit    0\n",
      "hardship_flag                 0\n",
      "disbursement_method           0\n",
      "debt_settlement_flag          0\n",
      "Length: 68, dtype: int64\n",
      "(421095, 68)\n"
     ]
    }
   ],
   "source": [
    "# drop missing values\n",
    "y2015 = y2015.dropna(how ='any', axis = 1)\n",
    "print(y2015.isnull().sum())\n",
    "print(y2015.shape)"
   ]
  },
  {
   "cell_type": "code",
   "execution_count": 34,
   "metadata": {},
   "outputs": [
    {
     "data": {
      "text/html": [
       "<div>\n",
       "<style scoped>\n",
       "    .dataframe tbody tr th:only-of-type {\n",
       "        vertical-align: middle;\n",
       "    }\n",
       "\n",
       "    .dataframe tbody tr th {\n",
       "        vertical-align: top;\n",
       "    }\n",
       "\n",
       "    .dataframe thead th {\n",
       "        text-align: right;\n",
       "    }\n",
       "</style>\n",
       "<table border=\"1\" class=\"dataframe\">\n",
       "  <thead>\n",
       "    <tr style=\"text-align: right;\">\n",
       "      <th></th>\n",
       "      <th>out_prncp</th>\n",
       "      <th>loan_status</th>\n",
       "    </tr>\n",
       "  </thead>\n",
       "  <tbody>\n",
       "    <tr>\n",
       "      <th>0</th>\n",
       "      <td>16523.08</td>\n",
       "      <td>Current</td>\n",
       "    </tr>\n",
       "    <tr>\n",
       "      <th>1</th>\n",
       "      <td>0.00</td>\n",
       "      <td>Fully Paid</td>\n",
       "    </tr>\n",
       "    <tr>\n",
       "      <th>2</th>\n",
       "      <td>0.00</td>\n",
       "      <td>Fully Paid</td>\n",
       "    </tr>\n",
       "    <tr>\n",
       "      <th>3</th>\n",
       "      <td>0.00</td>\n",
       "      <td>Fully Paid</td>\n",
       "    </tr>\n",
       "    <tr>\n",
       "      <th>4</th>\n",
       "      <td>0.00</td>\n",
       "      <td>Fully Paid</td>\n",
       "    </tr>\n",
       "    <tr>\n",
       "      <th>5</th>\n",
       "      <td>0.00</td>\n",
       "      <td>Fully Paid</td>\n",
       "    </tr>\n",
       "    <tr>\n",
       "      <th>6</th>\n",
       "      <td>7364.72</td>\n",
       "      <td>Current</td>\n",
       "    </tr>\n",
       "    <tr>\n",
       "      <th>7</th>\n",
       "      <td>0.00</td>\n",
       "      <td>Fully Paid</td>\n",
       "    </tr>\n",
       "    <tr>\n",
       "      <th>8</th>\n",
       "      <td>0.00</td>\n",
       "      <td>Fully Paid</td>\n",
       "    </tr>\n",
       "    <tr>\n",
       "      <th>9</th>\n",
       "      <td>0.00</td>\n",
       "      <td>Charged Off</td>\n",
       "    </tr>\n",
       "  </tbody>\n",
       "</table>\n",
       "</div>"
      ],
      "text/plain": [
       "   out_prncp  loan_status\n",
       "0   16523.08      Current\n",
       "1       0.00   Fully Paid\n",
       "2       0.00   Fully Paid\n",
       "3       0.00   Fully Paid\n",
       "4       0.00   Fully Paid\n",
       "5       0.00   Fully Paid\n",
       "6    7364.72      Current\n",
       "7       0.00   Fully Paid\n",
       "8       0.00   Fully Paid\n",
       "9       0.00  Charged Off"
      ]
     },
     "execution_count": 34,
     "metadata": {},
     "output_type": "execute_result"
    }
   ],
   "source": [
    "# check the relationship between outstanding principial and loan status\n",
    "out_prncp_loan_st = y2015[['out_prncp', 'loan_status']]\n",
    "out_prncp_loan_st.head(10)"
   ]
  },
  {
   "cell_type": "code",
   "execution_count": 35,
   "metadata": {},
   "outputs": [
    {
     "name": "stdout",
     "output_type": "stream",
     "text": [
      "score:  0.9986107647917928\n"
     ]
    },
    {
     "data": {
      "text/plain": [
       "array([0.98608539, 0.98888731, 0.98784195, 0.98738987, 0.98788829,\n",
       "       0.98822077, 0.98786454, 0.98841075, 0.98810174, 0.98703303])"
      ]
     },
     "execution_count": 35,
     "metadata": {},
     "output_type": "execute_result"
    }
   ],
   "source": [
    "# remove the outstanding principial column\n",
    "y2015 = y2015.drop(['out_prncp'], 1)\n",
    "\n",
    "# random forest classifier\n",
    "rfc = ensemble.RandomForestClassifier()\n",
    "\n",
    "# define input variables and outcome variable\n",
    "X = y2015.drop(['loan_status'], axis = 1)\n",
    "Y = y2015['loan_status']\n",
    "\n",
    "# convert categorical variables into indicator variables\n",
    "X = pd.get_dummies(X)\n",
    "X = X.dropna(axis = 1)\n",
    "\n",
    "# PCA normalization\n",
    "pca = PCA(n_components = 20)\n",
    "X_PCA = pca.fit_transform(X)\n",
    "\n",
    "# fit the model\n",
    "rfc.fit(X_PCA, Y)\n",
    "print(\"score: \", rfc.score(X_PCA, Y))\n",
    "\n",
    "# cross validation with 10 folds\n",
    "cross_val_score(rfc, X_PCA, Y, cv = 10)"
   ]
  },
  {
   "cell_type": "markdown",
   "metadata": {},
   "source": [
    "After removing less important features and using 20 principial components, model accuracy dropped by .01 point and this is stil very good for the model. With 10 folds cross-validation our accuracy score is over 90 which is satisfactory. "
   ]
  },
  {
   "cell_type": "code",
   "execution_count": null,
   "metadata": {},
   "outputs": [],
   "source": []
  }
 ],
 "metadata": {
  "hide_input": false,
  "kernelspec": {
   "display_name": "Python 3",
   "language": "python",
   "name": "python3"
  },
  "language_info": {
   "codemirror_mode": {
    "name": "ipython",
    "version": 3
   },
   "file_extension": ".py",
   "mimetype": "text/x-python",
   "name": "python",
   "nbconvert_exporter": "python",
   "pygments_lexer": "ipython3",
   "version": "3.6.6"
  },
  "toc": {
   "colors": {
    "hover_highlight": "#DAA520",
    "running_highlight": "#FF0000",
    "selected_highlight": "#FFD700"
   },
   "moveMenuLeft": true,
   "nav_menu": {
    "height": "86px",
    "width": "252px"
   },
   "navigate_menu": true,
   "number_sections": true,
   "sideBar": true,
   "threshold": 4,
   "toc_cell": false,
   "toc_section_display": "block",
   "toc_window_display": false
  }
 },
 "nbformat": 4,
 "nbformat_minor": 2
}
