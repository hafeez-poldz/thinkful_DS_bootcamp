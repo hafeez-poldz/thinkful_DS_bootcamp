{
 "cells": [
  {
   "cell_type": "markdown",
   "metadata": {},
   "source": [
    "## If a tree falls in the Forest: Random Forest vs. Decision Tree [accuracy & cost test]\n",
    "In this notebook, I'll compare the Decision Tree algorithm against Random Forest. As we know, Random Forest Classifier is the robust version of the Decision Tree. For this purpose, I picked a Pulsar Star dataset from Kaggle. The goal is to compare the runtime and accuracy of the two algorithms."
   ]
  },
  {
   "cell_type": "code",
   "execution_count": 8,
   "metadata": {},
   "outputs": [],
   "source": [
    "# import libraries\n",
    "import numpy as np\n",
    "import pandas as pd\n",
    "import matplotlib.pyplot as plt\n",
    "%matplotlib inline\n",
    "\n",
    "from sklearn import ensemble\n",
    "from sklearn.metrics import accuracy_score\n",
    "from sklearn.model_selection import cross_val_score\n",
    "from sklearn.preprocessing import MinMaxScaler\n",
    "from sklearn.metrics import r2_score\n",
    "from sklearn.tree import DecisionTreeClassifier\n",
    "\n",
    "import seaborn as sns\n",
    "import time"
   ]
  },
  {
   "cell_type": "code",
   "execution_count": 9,
   "metadata": {},
   "outputs": [
    {
     "data": {
      "text/html": [
       "<div>\n",
       "<style scoped>\n",
       "    .dataframe tbody tr th:only-of-type {\n",
       "        vertical-align: middle;\n",
       "    }\n",
       "\n",
       "    .dataframe tbody tr th {\n",
       "        vertical-align: top;\n",
       "    }\n",
       "\n",
       "    .dataframe thead th {\n",
       "        text-align: right;\n",
       "    }\n",
       "</style>\n",
       "<table border=\"1\" class=\"dataframe\">\n",
       "  <thead>\n",
       "    <tr style=\"text-align: right;\">\n",
       "      <th></th>\n",
       "      <th>Mean of the integrated profile</th>\n",
       "      <th>Standard deviation of the integrated profile</th>\n",
       "      <th>Excess kurtosis of the integrated profile</th>\n",
       "      <th>Skewness of the integrated profile</th>\n",
       "      <th>Mean of the DM-SNR curve</th>\n",
       "      <th>Standard deviation of the DM-SNR curve</th>\n",
       "      <th>Excess kurtosis of the DM-SNR curve</th>\n",
       "      <th>Skewness of the DM-SNR curve</th>\n",
       "      <th>target_class</th>\n",
       "    </tr>\n",
       "  </thead>\n",
       "  <tbody>\n",
       "    <tr>\n",
       "      <th>0</th>\n",
       "      <td>140.562500</td>\n",
       "      <td>55.683782</td>\n",
       "      <td>-0.234571</td>\n",
       "      <td>-0.699648</td>\n",
       "      <td>3.199833</td>\n",
       "      <td>19.110426</td>\n",
       "      <td>7.975532</td>\n",
       "      <td>74.242225</td>\n",
       "      <td>0</td>\n",
       "    </tr>\n",
       "    <tr>\n",
       "      <th>1</th>\n",
       "      <td>102.507812</td>\n",
       "      <td>58.882430</td>\n",
       "      <td>0.465318</td>\n",
       "      <td>-0.515088</td>\n",
       "      <td>1.677258</td>\n",
       "      <td>14.860146</td>\n",
       "      <td>10.576487</td>\n",
       "      <td>127.393580</td>\n",
       "      <td>0</td>\n",
       "    </tr>\n",
       "    <tr>\n",
       "      <th>2</th>\n",
       "      <td>103.015625</td>\n",
       "      <td>39.341649</td>\n",
       "      <td>0.323328</td>\n",
       "      <td>1.051164</td>\n",
       "      <td>3.121237</td>\n",
       "      <td>21.744669</td>\n",
       "      <td>7.735822</td>\n",
       "      <td>63.171909</td>\n",
       "      <td>0</td>\n",
       "    </tr>\n",
       "    <tr>\n",
       "      <th>3</th>\n",
       "      <td>136.750000</td>\n",
       "      <td>57.178449</td>\n",
       "      <td>-0.068415</td>\n",
       "      <td>-0.636238</td>\n",
       "      <td>3.642977</td>\n",
       "      <td>20.959280</td>\n",
       "      <td>6.896499</td>\n",
       "      <td>53.593661</td>\n",
       "      <td>0</td>\n",
       "    </tr>\n",
       "    <tr>\n",
       "      <th>4</th>\n",
       "      <td>88.726562</td>\n",
       "      <td>40.672225</td>\n",
       "      <td>0.600866</td>\n",
       "      <td>1.123492</td>\n",
       "      <td>1.178930</td>\n",
       "      <td>11.468720</td>\n",
       "      <td>14.269573</td>\n",
       "      <td>252.567306</td>\n",
       "      <td>0</td>\n",
       "    </tr>\n",
       "  </tbody>\n",
       "</table>\n",
       "</div>"
      ],
      "text/plain": [
       "    Mean of the integrated profile  \\\n",
       "0                       140.562500   \n",
       "1                       102.507812   \n",
       "2                       103.015625   \n",
       "3                       136.750000   \n",
       "4                        88.726562   \n",
       "\n",
       "    Standard deviation of the integrated profile  \\\n",
       "0                                      55.683782   \n",
       "1                                      58.882430   \n",
       "2                                      39.341649   \n",
       "3                                      57.178449   \n",
       "4                                      40.672225   \n",
       "\n",
       "    Excess kurtosis of the integrated profile  \\\n",
       "0                                   -0.234571   \n",
       "1                                    0.465318   \n",
       "2                                    0.323328   \n",
       "3                                   -0.068415   \n",
       "4                                    0.600866   \n",
       "\n",
       "    Skewness of the integrated profile   Mean of the DM-SNR curve  \\\n",
       "0                            -0.699648                   3.199833   \n",
       "1                            -0.515088                   1.677258   \n",
       "2                             1.051164                   3.121237   \n",
       "3                            -0.636238                   3.642977   \n",
       "4                             1.123492                   1.178930   \n",
       "\n",
       "    Standard deviation of the DM-SNR curve  \\\n",
       "0                                19.110426   \n",
       "1                                14.860146   \n",
       "2                                21.744669   \n",
       "3                                20.959280   \n",
       "4                                11.468720   \n",
       "\n",
       "    Excess kurtosis of the DM-SNR curve   Skewness of the DM-SNR curve  \\\n",
       "0                              7.975532                      74.242225   \n",
       "1                             10.576487                     127.393580   \n",
       "2                              7.735822                      63.171909   \n",
       "3                              6.896499                      53.593661   \n",
       "4                             14.269573                     252.567306   \n",
       "\n",
       "   target_class  \n",
       "0             0  \n",
       "1             0  \n",
       "2             0  \n",
       "3             0  \n",
       "4             0  "
      ]
     },
     "execution_count": 9,
     "metadata": {},
     "output_type": "execute_result"
    }
   ],
   "source": [
    "# load the dataset\n",
    "df = pd.read_csv(r'C:\\Users\\hafeez_poldz\\Desktop\\Thinkful\\Unit 3\\data\\pulsar_stars.csv')\n",
    "df.head()               "
   ]
  },
  {
   "cell_type": "code",
   "execution_count": 10,
   "metadata": {},
   "outputs": [
    {
     "name": "stdout",
     "output_type": "stream",
     "text": [
      "<class 'pandas.core.frame.DataFrame'>\n",
      "RangeIndex: 17898 entries, 0 to 17897\n",
      "Data columns (total 9 columns):\n",
      " Mean of the integrated profile                  17898 non-null float64\n",
      " Standard deviation of the integrated profile    17898 non-null float64\n",
      " Excess kurtosis of the integrated profile       17898 non-null float64\n",
      " Skewness of the integrated profile              17898 non-null float64\n",
      " Mean of the DM-SNR curve                        17898 non-null float64\n",
      " Standard deviation of the DM-SNR curve          17898 non-null float64\n",
      " Excess kurtosis of the DM-SNR curve             17898 non-null float64\n",
      " Skewness of the DM-SNR curve                    17898 non-null float64\n",
      "target_class                                     17898 non-null int64\n",
      "dtypes: float64(8), int64(1)\n",
      "memory usage: 1.2 MB\n"
     ]
    }
   ],
   "source": [
    "df.info()"
   ]
  },
  {
   "cell_type": "code",
   "execution_count": 12,
   "metadata": {},
   "outputs": [
    {
     "data": {
      "image/png": "[encoded data removed]",
      "text/plain": [
       "<Figure size 432x288 with 1 Axes>"
      ]
     },
     "metadata": {
      "needs_background": "light"
     },
     "output_type": "display_data"
    }
   ],
   "source": [
    "_ = sns.countplot(x = 'target_class', data = df)\n",
    "_.set(title = 'Outcome Variable Distribution', ylabel = 'Count')\n",
    "plt.show()"
   ]
  },
  {
   "cell_type": "markdown",
   "metadata": {},
   "source": [
    "Our dataset has 9 columns and 17898 entries. There are no missing values in the dataset. Also, 8 variables are continuous and only outcome variable (target_class) is binary represented.  The target_class column shows the class of pulsar star. 1 for pulsar star, 0 for not a star.\n",
    "\n",
    "### Model 1. Random Forest Classifier"
   ]
  },
  {
   "cell_type": "code",
   "execution_count": 14,
   "metadata": {},
   "outputs": [
    {
     "name": "stderr",
     "output_type": "stream",
     "text": [
      "C:\\Users\\hafeez_poldz\\Anaconda3\\lib\\site-packages\\sklearn\\ensemble\\forest.py:248: FutureWarning: The default value of n_estimators will change from 10 in version 0.20 to 100 in 0.22.\n",
      "  \"10 in version 0.20 to 100 in 0.22.\", FutureWarning)\n"
     ]
    },
    {
     "name": "stdout",
     "output_type": "stream",
     "text": [
      "score:  0.9968152866242038\n",
      "R-squared:  0.9617169461051487\n",
      "10 folds cross-validation Accuracy: 0.98 (+/- 0.01)\n",
      "\n",
      "--- 6.282105207443237 seconds ---\n"
     ]
    }
   ],
   "source": [
    "start_time = time.time()\n",
    "\n",
    "# random forest classifier\n",
    "rfc = ensemble.RandomForestClassifier()\n",
    "\n",
    "# define input and outcome variables\n",
    "X = df.drop('target_class', 1)\n",
    "Y = df.target_class\n",
    "\n",
    "# normalization\n",
    "scalerX = MinMaxScaler(feature_range = (0,1))\n",
    "X[X.columns] = scalerX.fit_transform(X[X.columns])\n",
    "\n",
    "# fit the model\n",
    "rfc.fit(X,Y)\n",
    "\n",
    "# predicted outcome variable\n",
    "Y_rfc = rfc.predict(X)\n",
    "\n",
    "print('score: ', rfc.score(X,Y))\n",
    "score = cross_val_score(rfc, X, Y, cv = 10)\n",
    "print('R-squared: ', r2_score(Y, Y_rfc))\n",
    "print(\"10 folds cross-validation Accuracy: %0.2f (+/- %0.2f)\" % (score.mean(), score.std() * 2))\n",
    "print(\"\\n--- %s seconds ---\" % (time.time() - start_time))"
   ]
  },
  {
   "cell_type": "code",
   "execution_count": 19,
   "metadata": {},
   "outputs": [
    {
     "data": {
      "image/png": "[encoded data removed]",
      "text/plain": [
       "<Figure size 360x360 with 2 Axes>"
      ]
     },
     "metadata": {
      "needs_background": "light"
     },
     "output_type": "display_data"
    }
   ],
   "source": [
    "from sklearn.metrics import confusion_matrix\n",
    "cm_lrc = confusion_matrix(Y, Y_rfc)\n",
    "# print(\"y_test_01 == 1 :\" + str(len(y_test_01[y_test_01==1]))) # 29\n",
    "\n",
    "# cm visualization\n",
    "import seaborn as sns\n",
    "import matplotlib.pyplot as plt\n",
    "f, ax = plt.subplots(figsize =(5,5))\n",
    "sns.heatmap(cm_lrc, annot = True,linewidths=0.5,linecolor=\"red\",fmt = \".0f\",ax=ax)\n",
    "plt.title(\"Test for Test Dataset\")\n",
    "plt.xlabel(\"predicted y values\")\n",
    "plt.ylabel(\"real y values\")\n",
    "plt.show()\n"
   ]
  },
  {
   "cell_type": "markdown",
   "metadata": {},
   "source": [
    "### Model 2. Decision Trees Classifier"
   ]
  },
  {
   "cell_type": "code",
   "execution_count": 5,
   "metadata": {},
   "outputs": [
    {
     "name": "stdout",
     "output_type": "stream",
     "text": [
      "score:  1.0\n",
      "R-squared:  1.0\n",
      "10 folds cross-validation accuracy: 0.97 (+/-0.01)\n",
      "\n",
      "-- 3.868577480316162 seconds --\n"
     ]
    }
   ],
   "source": [
    "start_time = time.time()\n",
    "\n",
    "# decision tree classifier\n",
    "dtc = DecisionTreeClassifier()\n",
    "\n",
    "# define input and outcome variables\n",
    "X = df.drop('target_class', 1)\n",
    "Y = df.target_class\n",
    "\n",
    "# normalization\n",
    "scalerX = MinMaxScaler(feature_range = (0,1))\n",
    "X[X.columns] = scalerX.fit_transform(X[X.columns])\n",
    "\n",
    "# fit the model\n",
    "dtc.fit(X,Y)\n",
    "\n",
    "# predicted outcome variable\n",
    "Y_dtc = dtc.predict(X)\n",
    "\n",
    "print('score: ', dtc.score(X,Y))\n",
    "score = cross_val_score(dtc, X, Y, cv = 10)\n",
    "print('R-squared: ', r2_score(Y, Y_dtc))\n",
    "print('10 folds cross-validation accuracy: %0.2f (+/-%0.2f)' % (score.mean(), score.std() * 2))\n",
    "print('\\n-- %s seconds --' %(time.time()- start_time))"
   ]
  },
  {
   "cell_type": "markdown",
   "metadata": {},
   "source": [
    "### Model 3. Decision Trees Classifier [playing with configuration]"
   ]
  },
  {
   "cell_type": "markdown",
   "metadata": {},
   "source": [
    "The calculation above shows that the Decision Tree Classifiers runs faster than Random Forest. However, R-squared is 1 which makes me doubt about overfitting. The model seems to be complex and needs to be simplified. I'll try the next model with a reduced number of features and tree depth."
   ]
  },
  {
   "cell_type": "code",
   "execution_count": 6,
   "metadata": {},
   "outputs": [
    {
     "name": "stdout",
     "output_type": "stream",
     "text": [
      "score:  0.9875963794837412\n",
      "R-squared:  0.8508975795674211\n",
      "10 folds cross-validation accuracy: 0.98 (+/-0.01)\n",
      "\n",
      "-- 3.0406219959259033 seconds --\n"
     ]
    }
   ],
   "source": [
    "start_time = time.time()\n",
    "\n",
    "# configured decision tree classifier \n",
    "dtc = DecisionTreeClassifier(criterion = 'entropy', max_features = 6, max_depth = 9, random_state = 42)\n",
    "\n",
    "# define input variables and outcome variable\n",
    "X = df.drop('target_class', 1)\n",
    "Y = df.target_class\n",
    "\n",
    "# normalization\n",
    "scalerX = MinMaxScaler(feature_range = (0,1))\n",
    "X[X.columns] = scalerX.fit_transform(X[X.columns])\n",
    "\n",
    "# fit the model\n",
    "dtc.fit(X,Y)\n",
    "\n",
    "# predicted outcome variable\n",
    "Y_dtc = dtc.predict(X)\n",
    "\n",
    "print('score: ', dtc.score(X,Y))\n",
    "score = cross_val_score(dtc, X, Y, cv = 10)\n",
    "print('R-squared: ', r2_score(Y, Y_dtc))\n",
    "print('10 folds cross-validation accuracy: %0.2f (+/-%0.2f)' % (score.mean(), score.std() * 2))\n",
    "print('\\n-- %s seconds --' %(time.time()- start_time))"
   ]
  },
  {
   "cell_type": "code",
   "execution_count": 20,
   "metadata": {},
   "outputs": [
    {
     "data": {
      "image/png": "[encoded data removed]",
      "text/plain": [
       "<Figure size 360x360 with 2 Axes>"
      ]
     },
     "metadata": {
      "needs_background": "light"
     },
     "output_type": "display_data"
    }
   ],
   "source": [
    "from sklearn.metrics import confusion_matrix\n",
    "cm_lrc = confusion_matrix(Y, Y_dtc)\n",
    "# print(\"y_test_01 == 1 :\" + str(len(y_test_01[y_test_01==1]))) # 29\n",
    "\n",
    "# cm visualization\n",
    "import seaborn as sns\n",
    "import matplotlib.pyplot as plt\n",
    "f, ax = plt.subplots(figsize =(5,5))\n",
    "sns.heatmap(cm_lrc, annot = True,linewidths=0.5,linecolor=\"red\",fmt = \".0f\",ax=ax)\n",
    "plt.title(\"Test for Test Dataset\")\n",
    "plt.xlabel(\"predicted y values\")\n",
    "plt.ylabel(\"real y values\")\n",
    "plt.show()"
   ]
  },
  {
   "cell_type": "markdown",
   "metadata": {},
   "source": [
    "After playing with the number of features and the depth of the tree, I came up with the optimal parameters for the model as the number of maximum features 6 and the maximum depth of tree 9. The deeper tree, the longer it takes to run, but still faster than Random Forest though it's less accurate. "
   ]
  },
  {
   "cell_type": "code",
   "execution_count": null,
   "metadata": {},
   "outputs": [],
   "source": []
  }
 ],
 "metadata": {
  "kernelspec": {
   "display_name": "Python 3",
   "language": "python",
   "name": "python3"
  },
  "language_info": {
   "codemirror_mode": {
    "name": "ipython",
    "version": 3
   },
   "file_extension": ".py",
   "mimetype": "text/x-python",
   "name": "python",
   "nbconvert_exporter": "python",
   "pygments_lexer": "ipython3",
   "version": "3.6.6"
  }
 },
 "nbformat": 4,
 "nbformat_minor": 2
}
