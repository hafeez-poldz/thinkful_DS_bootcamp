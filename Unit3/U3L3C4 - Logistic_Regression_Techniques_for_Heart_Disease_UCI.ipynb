{
 "cells": [
  {
   "cell_type": "markdown",
   "metadata": {},
   "source": [
    "# Logistic Regression for Heart Disease Prediction\n",
    "\n",
    "In this notebook, I'll explore Logistic Regression to predict if there is heart disease or not. for this purpose, I use the dataset provided by Cleveland database, to compare the performance of logistic regression techniques as well.\n",
    "\n",
    "The dataset has 14 features which are ready to use without any feature engineering. As a requirement, I'll first create a regular Logistic Regression model, then I'll use Ridge and Lasso regularization techniques and compare the performances. \n",
    "As our outcome variable is binary represented, I'll apply above-mentioned techniques as a penalty (L2-ridge technique, L1-lasso technique) to the regular Logistic Regression.\n",
    "\n"
   ]
  },
  {
   "cell_type": "code",
   "execution_count": 7,
   "metadata": {},
   "outputs": [],
   "source": [
    "import numpy as np\n",
    "import pandas as pd\n",
    "import matplotlib.pyplot as plt\n",
    "import seaborn as sns\n",
    "import warnings\n",
    "warnings.filterwarnings('ignore')\n",
    "\n",
    "from sklearn import linear_model\n",
    "from sklearn.model_selection import cross_val_score\n",
    "from sklearn.preprocessing import MinMaxScaler, scale\n",
    "from sklearn.metrics import accuracy_score, r2_score\n",
    "from sklearn.metrics import confusion_matrix\n",
    "\n",
    "from scipy.stats import norm\n",
    "from scipy import stats"
   ]
  },
  {
   "cell_type": "markdown",
   "metadata": {},
   "source": [
    "## 1. Data Preparation "
   ]
  },
  {
   "cell_type": "code",
   "execution_count": 2,
   "metadata": {},
   "outputs": [
    {
     "data": {
      "text/html": [
       "<div>\n",
       "<style scoped>\n",
       "    .dataframe tbody tr th:only-of-type {\n",
       "        vertical-align: middle;\n",
       "    }\n",
       "\n",
       "    .dataframe tbody tr th {\n",
       "        vertical-align: top;\n",
       "    }\n",
       "\n",
       "    .dataframe thead th {\n",
       "        text-align: right;\n",
       "    }\n",
       "</style>\n",
       "<table border=\"1\" class=\"dataframe\">\n",
       "  <thead>\n",
       "    <tr style=\"text-align: right;\">\n",
       "      <th></th>\n",
       "      <th>age</th>\n",
       "      <th>sex</th>\n",
       "      <th>cp</th>\n",
       "      <th>trestbps</th>\n",
       "      <th>chol</th>\n",
       "      <th>fbs</th>\n",
       "      <th>restecg</th>\n",
       "      <th>thalach</th>\n",
       "      <th>exang</th>\n",
       "      <th>oldpeak</th>\n",
       "      <th>slope</th>\n",
       "      <th>ca</th>\n",
       "      <th>thal</th>\n",
       "      <th>target</th>\n",
       "    </tr>\n",
       "  </thead>\n",
       "  <tbody>\n",
       "    <tr>\n",
       "      <th>0</th>\n",
       "      <td>63</td>\n",
       "      <td>1</td>\n",
       "      <td>3</td>\n",
       "      <td>145</td>\n",
       "      <td>233</td>\n",
       "      <td>1</td>\n",
       "      <td>0</td>\n",
       "      <td>150</td>\n",
       "      <td>0</td>\n",
       "      <td>2.3</td>\n",
       "      <td>0</td>\n",
       "      <td>0</td>\n",
       "      <td>1</td>\n",
       "      <td>1</td>\n",
       "    </tr>\n",
       "    <tr>\n",
       "      <th>1</th>\n",
       "      <td>37</td>\n",
       "      <td>1</td>\n",
       "      <td>2</td>\n",
       "      <td>130</td>\n",
       "      <td>250</td>\n",
       "      <td>0</td>\n",
       "      <td>1</td>\n",
       "      <td>187</td>\n",
       "      <td>0</td>\n",
       "      <td>3.5</td>\n",
       "      <td>0</td>\n",
       "      <td>0</td>\n",
       "      <td>2</td>\n",
       "      <td>1</td>\n",
       "    </tr>\n",
       "    <tr>\n",
       "      <th>2</th>\n",
       "      <td>41</td>\n",
       "      <td>0</td>\n",
       "      <td>1</td>\n",
       "      <td>130</td>\n",
       "      <td>204</td>\n",
       "      <td>0</td>\n",
       "      <td>0</td>\n",
       "      <td>172</td>\n",
       "      <td>0</td>\n",
       "      <td>1.4</td>\n",
       "      <td>2</td>\n",
       "      <td>0</td>\n",
       "      <td>2</td>\n",
       "      <td>1</td>\n",
       "    </tr>\n",
       "    <tr>\n",
       "      <th>3</th>\n",
       "      <td>56</td>\n",
       "      <td>1</td>\n",
       "      <td>1</td>\n",
       "      <td>120</td>\n",
       "      <td>236</td>\n",
       "      <td>0</td>\n",
       "      <td>1</td>\n",
       "      <td>178</td>\n",
       "      <td>0</td>\n",
       "      <td>0.8</td>\n",
       "      <td>2</td>\n",
       "      <td>0</td>\n",
       "      <td>2</td>\n",
       "      <td>1</td>\n",
       "    </tr>\n",
       "    <tr>\n",
       "      <th>4</th>\n",
       "      <td>57</td>\n",
       "      <td>0</td>\n",
       "      <td>0</td>\n",
       "      <td>120</td>\n",
       "      <td>354</td>\n",
       "      <td>0</td>\n",
       "      <td>1</td>\n",
       "      <td>163</td>\n",
       "      <td>1</td>\n",
       "      <td>0.6</td>\n",
       "      <td>2</td>\n",
       "      <td>0</td>\n",
       "      <td>2</td>\n",
       "      <td>1</td>\n",
       "    </tr>\n",
       "    <tr>\n",
       "      <th>5</th>\n",
       "      <td>57</td>\n",
       "      <td>1</td>\n",
       "      <td>0</td>\n",
       "      <td>140</td>\n",
       "      <td>192</td>\n",
       "      <td>0</td>\n",
       "      <td>1</td>\n",
       "      <td>148</td>\n",
       "      <td>0</td>\n",
       "      <td>0.4</td>\n",
       "      <td>1</td>\n",
       "      <td>0</td>\n",
       "      <td>1</td>\n",
       "      <td>1</td>\n",
       "    </tr>\n",
       "    <tr>\n",
       "      <th>6</th>\n",
       "      <td>56</td>\n",
       "      <td>0</td>\n",
       "      <td>1</td>\n",
       "      <td>140</td>\n",
       "      <td>294</td>\n",
       "      <td>0</td>\n",
       "      <td>0</td>\n",
       "      <td>153</td>\n",
       "      <td>0</td>\n",
       "      <td>1.3</td>\n",
       "      <td>1</td>\n",
       "      <td>0</td>\n",
       "      <td>2</td>\n",
       "      <td>1</td>\n",
       "    </tr>\n",
       "    <tr>\n",
       "      <th>7</th>\n",
       "      <td>44</td>\n",
       "      <td>1</td>\n",
       "      <td>1</td>\n",
       "      <td>120</td>\n",
       "      <td>263</td>\n",
       "      <td>0</td>\n",
       "      <td>1</td>\n",
       "      <td>173</td>\n",
       "      <td>0</td>\n",
       "      <td>0.0</td>\n",
       "      <td>2</td>\n",
       "      <td>0</td>\n",
       "      <td>3</td>\n",
       "      <td>1</td>\n",
       "    </tr>\n",
       "    <tr>\n",
       "      <th>8</th>\n",
       "      <td>52</td>\n",
       "      <td>1</td>\n",
       "      <td>2</td>\n",
       "      <td>172</td>\n",
       "      <td>199</td>\n",
       "      <td>1</td>\n",
       "      <td>1</td>\n",
       "      <td>162</td>\n",
       "      <td>0</td>\n",
       "      <td>0.5</td>\n",
       "      <td>2</td>\n",
       "      <td>0</td>\n",
       "      <td>3</td>\n",
       "      <td>1</td>\n",
       "    </tr>\n",
       "    <tr>\n",
       "      <th>9</th>\n",
       "      <td>57</td>\n",
       "      <td>1</td>\n",
       "      <td>2</td>\n",
       "      <td>150</td>\n",
       "      <td>168</td>\n",
       "      <td>0</td>\n",
       "      <td>1</td>\n",
       "      <td>174</td>\n",
       "      <td>0</td>\n",
       "      <td>1.6</td>\n",
       "      <td>2</td>\n",
       "      <td>0</td>\n",
       "      <td>2</td>\n",
       "      <td>1</td>\n",
       "    </tr>\n",
       "  </tbody>\n",
       "</table>\n",
       "</div>"
      ],
      "text/plain": [
       "   age  sex  cp  trestbps  chol  fbs  restecg  thalach  exang  oldpeak  slope  \\\n",
       "0   63    1   3       145   233    1        0      150      0      2.3      0   \n",
       "1   37    1   2       130   250    0        1      187      0      3.5      0   \n",
       "2   41    0   1       130   204    0        0      172      0      1.4      2   \n",
       "3   56    1   1       120   236    0        1      178      0      0.8      2   \n",
       "4   57    0   0       120   354    0        1      163      1      0.6      2   \n",
       "5   57    1   0       140   192    0        1      148      0      0.4      1   \n",
       "6   56    0   1       140   294    0        0      153      0      1.3      1   \n",
       "7   44    1   1       120   263    0        1      173      0      0.0      2   \n",
       "8   52    1   2       172   199    1        1      162      0      0.5      2   \n",
       "9   57    1   2       150   168    0        1      174      0      1.6      2   \n",
       "\n",
       "   ca  thal  target  \n",
       "0   0     1       1  \n",
       "1   0     2       1  \n",
       "2   0     2       1  \n",
       "3   0     2       1  \n",
       "4   0     2       1  \n",
       "5   0     1       1  \n",
       "6   0     2       1  \n",
       "7   0     3       1  \n",
       "8   0     3       1  \n",
       "9   0     2       1  "
      ]
     },
     "execution_count": 2,
     "metadata": {},
     "output_type": "execute_result"
    }
   ],
   "source": [
    "df = pd.read_csv(r'C:\\Users\\hafeez_poldz\\Desktop\\Thinkful\\Unit 3\\data\\heart.csv')\n",
    "df.head(10)"
   ]
  },
  {
   "cell_type": "code",
   "execution_count": 3,
   "metadata": {},
   "outputs": [
    {
     "name": "stdout",
     "output_type": "stream",
     "text": [
      "<class 'pandas.core.frame.DataFrame'>\n",
      "RangeIndex: 303 entries, 0 to 302\n",
      "Data columns (total 14 columns):\n",
      "age         303 non-null int64\n",
      "sex         303 non-null int64\n",
      "cp          303 non-null int64\n",
      "trestbps    303 non-null int64\n",
      "chol        303 non-null int64\n",
      "fbs         303 non-null int64\n",
      "restecg     303 non-null int64\n",
      "thalach     303 non-null int64\n",
      "exang       303 non-null int64\n",
      "oldpeak     303 non-null float64\n",
      "slope       303 non-null int64\n",
      "ca          303 non-null int64\n",
      "thal        303 non-null int64\n",
      "target      303 non-null int64\n",
      "dtypes: float64(1), int64(13)\n",
      "memory usage: 33.2 KB\n"
     ]
    }
   ],
   "source": [
    "df.info()"
   ]
  },
  {
   "cell_type": "markdown",
   "metadata": {},
   "source": [
    "The dataset has no missing values. It consist of 303 entries and 14 variables.\n",
    "## Vanilla Logistic Regression: No Regularization"
   ]
  },
  {
   "cell_type": "code",
   "execution_count": 6,
   "metadata": {},
   "outputs": [
    {
     "name": "stdout",
     "output_type": "stream",
     "text": [
      "\n",
      "Coefficients: \n",
      " [[ 0.00904256 -1.37761361  0.80244789 -0.01546083 -0.00329019 -0.01009756\n",
      "   0.45980149  0.02940344 -0.78418662 -0.50843895  0.51947351 -0.72961309\n",
      "  -0.80239451]]\n",
      "\n",
      "Intercept: \n",
      " [0.40801532]\n",
      "\n",
      "Accuracy score:\n",
      "0.8514851485148515 \n",
      "\n",
      "10 folds cross-validation Accuracy: 0.82 (+/- 0.14)\n"
     ]
    }
   ],
   "source": [
    "lr = linear_model.LogisticRegression()\n",
    "\n",
    "# assign input and outcome variables\n",
    "X = df.drop('target', axis = 1)\n",
    "Y = df.target\n",
    "\n",
    "# fit the model\n",
    "lr.fit(X,Y)\n",
    "\n",
    "# prdicted Y\n",
    "Y_lr = lr.predict(X)\n",
    "print('\\nCoefficients: \\n', lr.coef_)\n",
    "print('\\nIntercept: \\n', lr.intercept_)\n",
    "print('\\nAccuracy score:')\n",
    "print(lr.score(X, Y), '\\n')\n",
    "\n",
    "# cross validation\n",
    "score = cross_val_score(lr, X, Y, cv = 10)\n",
    "print(\"10 folds cross-validation Accuracy: %0.2f (+/- %0.2f)\" % (score.mean(), score.std() * 2))\n"
   ]
  },
  {
   "cell_type": "code",
   "execution_count": 8,
   "metadata": {},
   "outputs": [
    {
     "data": {
      "image/png": "[encoded data removed]",
      "text/plain": [
       "<Figure size 360x360 with 2 Axes>"
      ]
     },
     "metadata": {
      "needs_background": "light"
     },
     "output_type": "display_data"
    }
   ],
   "source": [
    "# confusion matrix\n",
    "cm_lrc = confusion_matrix(Y, Y_lr)\n",
    "# plot the confusion matrix\n",
    "f, ax = plt.subplots(figsize =(5,5))\n",
    "sns.heatmap(cm_lrc, annot = True,linewidths=0.5,cmap = 'YlGnBu',fmt = \".0f\",ax=ax)\n",
    "plt.title(\"Confusion Matrix for Logistic Regression\")\n",
    "plt.xlabel(\"Predicted Y values\")\n",
    "plt.ylabel(\"Actual Y values\")\n",
    "plt.show()"
   ]
  },
  {
   "cell_type": "markdown",
   "metadata": {},
   "source": [
    "At first glance, the model looks good. It received 0.85 accuracy and 10 folds cross-validation yields 0.82 mean accuracy with 0.14 standard deviation, which is not really good. The model correctly predicted 82% of the heart disease instances and 89% of no heart disease instances.\n",
    "Next, I'll use Ridge technique to minimize the model variance, if feature multicollinearity causes overfitting."
   ]
  },
  {
   "cell_type": "markdown",
   "metadata": {},
   "source": [
    "## Ridge Logistic Regression"
   ]
  },
  {
   "cell_type": "code",
   "execution_count": 9,
   "metadata": {},
   "outputs": [
    {
     "name": "stdout",
     "output_type": "stream",
     "text": [
      "\n",
      "Coefficients: \n",
      " [[-0.00380766 -1.74704068  0.85762609 -0.01918306 -0.00456358  0.03074502\n",
      "   0.46969122  0.02374472 -0.97256992 -0.53628938  0.58084889 -0.77165782\n",
      "  -0.89485649]]\n",
      "\n",
      "Intercept: \n",
      " [3.22375658]\n",
      "\n",
      "Accuracy score:\n",
      "0.8514851485148515 \n",
      "\n",
      "10 folds cross-validation Accuracy: 0.81 (+/- 0.14)\n"
     ]
    }
   ],
   "source": [
    "ridge = linear_model.LogisticRegression(penalty = 'l2', C = 100)\n",
    "\n",
    "# assign input and outcome variables\n",
    "X = df.drop('target', axis = 1)\n",
    "Y = df.target\n",
    "\n",
    "# fit the model\n",
    "ridge.fit(X,Y)\n",
    "\n",
    "# predicted Y\n",
    "Y_ridge = ridge.predict(X)\n",
    "\n",
    "print('\\nCoefficients: \\n', ridge.coef_)\n",
    "print('\\nIntercept: \\n', ridge.intercept_)\n",
    "print('\\nAccuracy score:')\n",
    "print(ridge.score(X, Y), '\\n')\n",
    "\n",
    "# cross validation \n",
    "score = cross_val_score(ridge, X, Y, cv = 10)\n",
    "print(\"10 folds cross-validation Accuracy: %0.2f (+/- %0.2f)\" % (score.mean(), score.std() * 2))\n"
   ]
  },
  {
   "cell_type": "code",
   "execution_count": 11,
   "metadata": {},
   "outputs": [
    {
     "data": {
      "image/png": "[encoded data removed]",
      "text/plain": [
       "<Figure size 360x360 with 2 Axes>"
      ]
     },
     "metadata": {
      "needs_background": "light"
     },
     "output_type": "display_data"
    }
   ],
   "source": [
    "# plot the confusion matrix\n",
    "cm_ridge = confusion_matrix(Y, Y_ridge)\n",
    "\n",
    "f, ax = plt.subplots(figsize =(5,5))\n",
    "sns.heatmap(cm_lrc, annot = True,linewidths=0.5,cmap = 'YlGnBu',fmt = \".0f\",ax=ax)\n",
    "plt.title(\"Confusion Matrix for Ridge Regression\")\n",
    "plt.xlabel(\"Predicted Y values\")\n",
    "plt.ylabel(\"Actual Y values\")\n",
    "plt.show()"
   ]
  },
  {
   "cell_type": "markdown",
   "metadata": {},
   "source": [
    "The results are pretty similar to the Vanilla Logistic Regression. In this model, errors in the measurement (standard deviation) did not change, but the mean accuracy score dropped 0.1 points. I can check the C values against cross-validation scores in a defined range and take the best C value for the model."
   ]
  },
  {
   "cell_type": "code",
   "execution_count": 282,
   "metadata": {},
   "outputs": [
    {
     "data": {
      "image/png": "[encoded data removed]",
      "text/plain": [
       "<Figure size 432x288 with 1 Axes>"
      ]
     },
     "metadata": {
      "needs_background": "light"
     },
     "output_type": "display_data"
    }
   ],
   "source": [
    "# C values range\n",
    "c_values = [x / 50.0 for x in range(1, 100, 5)]\n",
    "\n",
    "# create lists to hold cross validation scores and standard deviation values\n",
    "ridge_cvs = []\n",
    "ridge_std = []\n",
    "\n",
    "# start the loop\n",
    "for c in c_values:\n",
    "    ridge = linear_model.LogisticRegression(penalty='l2', C=c)\n",
    "    X = df.drop('target', axis = 1)\n",
    "    Y = df.target\n",
    "\n",
    "    # Fit the model.\n",
    "    fit = ridge.fit(X, Y)\n",
    "    ridge_score = cross_val_score(ridge, X, Y, cv=10)\n",
    "    ridge_cvs.append(ridge_score.mean())\n",
    "    ridge_std.append(ridge_score.std())\n",
    "    \n",
    "# create plot\n",
    "plt.errorbar(c_values, ridge_cvs, yerr = ridge_std)\n",
    "plt.title('Cross Validation Score by C values \\nfor Ridge Regression')\n",
    "plt.xlabel('C value')\n",
    "plt.ylabel('Cross Validation Score')\n",
    "plt.show()"
   ]
  },
  {
   "cell_type": "markdown",
   "metadata": {},
   "source": [
    "Error bars are too large, but I see some trend around C = 0.1. Let see what changes, if I change the C value to 0.1"
   ]
  },
  {
   "cell_type": "code",
   "execution_count": 12,
   "metadata": {},
   "outputs": [
    {
     "name": "stdout",
     "output_type": "stream",
     "text": [
      "Accuracy score:  0.8613861386138614 \n",
      "\n",
      "10 folds cross-validation Accuracy: 0.84 (+/- 0.15)\n"
     ]
    }
   ],
   "source": [
    "ridge = linear_model.LogisticRegression(penalty = 'l2', C = 0.1)\n",
    "\n",
    "X = df.drop('target', axis = 1)\n",
    "Y = df.target\n",
    "\n",
    "#fit the model\n",
    "ridge.fit(X,Y)\n",
    "\n",
    "print('Accuracy score: ', ridge.score(X, Y), '\\n')\n",
    "\n",
    "score = cross_val_score(ridge, X, Y, cv = 10)\n",
    "print(\"10 folds cross-validation Accuracy: %0.2f (+/- %0.2f)\" % (score.mean(), score.std() * 2))"
   ]
  },
  {
   "cell_type": "markdown",
   "metadata": {},
   "source": [
    "With C = 0.1, the accuracy score of the model increased by 1 point and the mean accuracy score with 10 folds became 3 points more accurate. Ridge technique added more accuracy to the model, however, our errors in measurement still is very large. "
   ]
  },
  {
   "cell_type": "markdown",
   "metadata": {},
   "source": [
    "## Lasso Logistic Regression\n",
    "Lasso technique overcomes the disadvantage of Ridge regression by not only punishing high values of the coefficients β but actually setting them to zero if they are not relevant. It can reduce the impact of non-relevant features and even remove them."
   ]
  },
  {
   "cell_type": "code",
   "execution_count": 13,
   "metadata": {},
   "outputs": [
    {
     "name": "stdout",
     "output_type": "stream",
     "text": [
      "\n",
      "Coefficients: \n",
      " [[ 0.0102822  -1.43658536  0.79419437 -0.01482673 -0.00341557  0.\n",
      "   0.40646014  0.03120674 -0.74763536 -0.49114573  0.4969791  -0.71485397\n",
      "  -0.7651254 ]]\n",
      "\n",
      "Intercept: \n",
      " [0.]\n",
      "\n",
      "Accuracy score:\n",
      "0.8547854785478548 \n",
      "\n",
      "10 folds cross-validation Accuracy: 0.83 (+/- 0.14)\n"
     ]
    }
   ],
   "source": [
    "lasso = linear_model.LogisticRegression(penalty = 'l1', C=1)\n",
    "\n",
    "# define input and outcome variables\n",
    "X = df.drop('target', axis = 1)\n",
    "Y = df.target\n",
    "\n",
    "# fit the model\n",
    "lasso.fit(X,Y)\n",
    "\n",
    "# predicted Y\n",
    "Y_lasso = lasso.predict(X)\n",
    "\n",
    "print('\\nCoefficients: \\n', lasso.coef_)\n",
    "print('\\nIntercept: \\n', lasso.intercept_)\n",
    "print('\\nAccuracy score:')\n",
    "print(lasso.score(X, Y), '\\n')\n",
    "\n",
    "# cross validation\n",
    "score = cross_val_score(lasso, X, Y, cv = 10)\n",
    "print(\"10 folds cross-validation Accuracy: %0.2f (+/- %0.2f)\" % (score.mean(), score.std() * 2))\n"
   ]
  },
  {
   "cell_type": "code",
   "execution_count": 14,
   "metadata": {},
   "outputs": [
    {
     "data": {
      "image/png": "[encoded data removed]",
      "text/plain": [
       "<Figure size 360x360 with 2 Axes>"
      ]
     },
     "metadata": {
      "needs_background": "light"
     },
     "output_type": "display_data"
    }
   ],
   "source": [
    "# plot the confusion matrix\n",
    "cm_lasso = confusion_matrix(Y, Y_lasso)\n",
    "\n",
    "f, ax = plt.subplots(figsize =(5,5))\n",
    "sns.heatmap(cm_lrc, annot = True,linewidths=0.5, cmap = 'YlGnBu',fmt = \".0f\", ax=ax)\n",
    "plt.title(\"Confusion Matrix for Lasso regression\")\n",
    "plt.xlabel(\"predicted Y values\")\n",
    "plt.ylabel(\"actual Y values\")\n",
    "plt.show()"
   ]
  },
  {
   "cell_type": "markdown",
   "metadata": {},
   "source": [
    "Confusion matrix shows the same exact results as in previous models. Mean accuracy score is 0.1 point higher than Vanilla Logistic model. I'll check C value for this model, plotting the Cross Validation Scores by C values in a defined range."
   ]
  },
  {
   "cell_type": "code",
   "execution_count": 286,
   "metadata": {},
   "outputs": [
    {
     "data": {
      "image/png": "[encoded data removed]",
      "text/plain": [
       "<Figure size 432x288 with 1 Axes>"
      ]
     },
     "metadata": {
      "needs_background": "light"
     },
     "output_type": "display_data"
    }
   ],
   "source": [
    "# C values range\n",
    "c_values = [x / 50.0 for x in range(1, 100, 5)]\n",
    "\n",
    "# lists to hold cross validation scores and standard deviation values\n",
    "lasso_cvs = []\n",
    "lasso_std = []\n",
    "\n",
    "# start the loop\n",
    "for c in c_values:\n",
    "    lasso = linear_model.LogisticRegression(penalty='l1', C=c)\n",
    "    X = df.drop('target', axis = 1)\n",
    "    Y = df.target\n",
    "\n",
    "    # Fit the model.\n",
    "    fit = lasso.fit(X, Y)\n",
    "    lasso_score = cross_val_score(lasso, X, Y, cv=10)\n",
    "    lasso_cvs.append(lasso_score.mean())\n",
    "    lasso_std.append(lasso_score.std())\n",
    "    \n",
    "# create plot\n",
    "plt.errorbar(c_values, lasso_cvs, yerr = lasso_std)\n",
    "plt.title('Cross Validation Score vs C values \\nfor Lasso Regression')\n",
    "plt.xlabel('C value')\n",
    "plt.ylabel('Cross Validation Score')\n",
    "plt.show()"
   ]
  },
  {
   "cell_type": "markdown",
   "metadata": {},
   "source": [
    "It looks like we don't have clear trend for the vest C value neither for Ridge, not for Lasso model.\n",
    "\n",
    "Prediction results for all models are the same if we don't consider small changes in accuracy scores. If we compare the performance of the models, I would say that the ridge technique gave better results after configuration tuning. I could not find any optimal C values for better results. In conclusion, I got more satisfying results with Ridge technique and this model can be considered as a winner.\n",
    "\n",
    "## Pure Ridge Classifier\n",
    "To compare the performance of the Ridge technique, I'll apply pure Ridge Classifier."
   ]
  },
  {
   "cell_type": "code",
   "execution_count": 30,
   "metadata": {},
   "outputs": [
    {
     "name": "stdout",
     "output_type": "stream",
     "text": [
      "Accuracy score:  0.8448844884488449 \n",
      "\n",
      "10 folds cross-validation Accuracy: 0.85 (+/- 0.13)\n"
     ]
    },
    {
     "data": {
      "image/png": "[encoded data removed]",
      "text/plain": [
       "<Figure size 360x360 with 2 Axes>"
      ]
     },
     "metadata": {
      "needs_background": "light"
     },
     "output_type": "display_data"
    }
   ],
   "source": [
    "# ridge classifier\n",
    "ridge = linear_model.RidgeClassifier(alpha = 100, fit_intercept = False)\n",
    "\n",
    "X = df.drop('target', axis = 1)\n",
    "Y = df.target\n",
    "\n",
    "#fit the model\n",
    "ridge.fit(X,Y)\n",
    "\n",
    "print('Accuracy score: ', ridge.score(X, Y), '\\n')\n",
    "\n",
    "score = cross_val_score(ridge, X, Y, cv = 10)\n",
    "print(\"10 folds cross-validation Accuracy: %0.2f (+/- %0.2f)\" % (score.mean(), score.std() * 2))\n",
    "\n",
    "# plot the confusion matrix\n",
    "cm_ridge = confusion_matrix(Y, ridge.predict(X))\n",
    "\n",
    "f, ax = plt.subplots(figsize =(5,5))\n",
    "sns.heatmap(cm_lrc, annot = True,linewidths=0.5,cmap = 'YlGnBu',fmt = \".0f\",ax=ax)\n",
    "plt.title(\"Confusion Matrix for Ridge Classifier\")\n",
    "plt.xlabel(\"Predicted Y values\")\n",
    "plt.ylabel(\"Actual Y values\")\n",
    "plt.show()"
   ]
  },
  {
   "cell_type": "code",
   "execution_count": null,
   "metadata": {},
   "outputs": [],
   "source": []
  }
 ],
 "metadata": {
  "kernelspec": {
   "display_name": "Python 3",
   "language": "python",
   "name": "python3"
  },
  "language_info": {
   "codemirror_mode": {
    "name": "ipython",
    "version": 3
   },
   "file_extension": ".py",
   "mimetype": "text/x-python",
   "name": "python",
   "nbconvert_exporter": "python",
   "pygments_lexer": "ipython3",
   "version": "3.6.6"
  }
 },
 "nbformat": 4,
 "nbformat_minor": 2
}
