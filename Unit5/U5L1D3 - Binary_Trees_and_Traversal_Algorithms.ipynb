{
 "cells": [
  {
   "cell_type": "markdown",
   "metadata": {},
   "source": [
    "# Binary Tree\n",
    "Tree represents the way of data storing that has a hierarchical structure. It is a non-linear data structures where the nodes connected by edges. Tree has following proporties.\n",
    "* root\n",
    "* parent nodes\n",
    "* child nodes"
   ]
  },
  {
   "cell_type": "code",
   "execution_count": 31,
   "metadata": {},
   "outputs": [
    {
     "name": "stdout",
     "output_type": "stream",
     "text": [
      "5\n",
      "8\n",
      "9\n",
      "13\n",
      "17\n",
      "18\n",
      "20\n",
      "25\n",
      "29\n",
      "31\n",
      "37\n",
      "38\n"
     ]
    }
   ],
   "source": [
    "# create root\n",
    "class Node():\n",
    "    def __init__(self, data):\n",
    "        self.left = None\n",
    "        self.right = None\n",
    "        self.data = data\n",
    "        \n",
    "    # insert data into the tree\n",
    "    def insertValue(self, data):\n",
    "        # compare new value with parent node\n",
    "        if self.data:\n",
    "            if data < self.data:\n",
    "                if self.left is None:\n",
    "                    self.left = Node(data)\n",
    "                else:\n",
    "                    self.left.insertValue(data)\n",
    "            elif data > self.data:\n",
    "                if self.right is None:\n",
    "                    self.right = Node(data)\n",
    "                else:\n",
    "                    self.right.insertValue(data)\n",
    "        else:\n",
    "            self.data = data\n",
    "    \n",
    "    # print the tree\n",
    "    def Print(self):\n",
    "        if self.left:\n",
    "            self.left.Print()\n",
    "        print(self.data)\n",
    "        if self.right:\n",
    "            self.right.Print()\n",
    "            \n",
    "\n",
    "            \n",
    "# insert values into nodes\n",
    "root = Node(38)\n",
    "\n",
    "root.insertValue(13)\n",
    "root.insertValue(29)\n",
    "root.insertValue(17)\n",
    "root.insertValue(5)\n",
    "root.insertValue(8)\n",
    "root.insertValue(37)\n",
    "root.insertValue(31)\n",
    "root.insertValue(18)\n",
    "root.insertValue(25)\n",
    "root.insertValue(9)\n",
    "root.insertValue(20)\n",
    "root.Print()"
   ]
  },
  {
   "cell_type": "markdown",
   "metadata": {},
   "source": [
    "# Breadth-first Traversal\n",
    "In this traversal method, the left subtree is visited first, then the root and later the right sub-tree. "
   ]
  },
  {
   "cell_type": "code",
   "execution_count": 32,
   "metadata": {},
   "outputs": [
    {
     "name": "stdout",
     "output_type": "stream",
     "text": [
      "[5, 8, 9, 13, 17, 18, 20, 25, 29, 31, 37, 38]\n"
     ]
    }
   ],
   "source": [
    "# create root\n",
    "class Node():\n",
    "    def __init__(self, data):\n",
    "        self.left = None\n",
    "        self.right = None\n",
    "        self.data = data\n",
    "        \n",
    "    # insert data into the tree\n",
    "    def insertValue(self, data):\n",
    "        # compare new value with parent node\n",
    "        if self.data:\n",
    "            if data < self.data:\n",
    "                if self.left is None:\n",
    "                    self.left = Node(data)\n",
    "                else:\n",
    "                    self.left.insertValue(data)\n",
    "            elif data > self.data:\n",
    "                if self.right is None:\n",
    "                    self.right = Node(data)\n",
    "                else:\n",
    "                    self.right.insertValue(data)\n",
    "        else:\n",
    "            self.data = data\n",
    "            \n",
    "    # breadth-first traversal\n",
    "    def breadthFirstTraversal(self, root):\n",
    "        res = []\n",
    "        if root:\n",
    "            res = self.breadthFirstTraversal(root.left)\n",
    "            res.append(root.data)\n",
    "            res = res + self.breadthFirstTraversal(root.right)\n",
    "        return res\n",
    "\n",
    "\n",
    "            \n",
    "# insert values into nodes\n",
    "root = Node(38)\n",
    "\n",
    "root.insertValue(13)\n",
    "root.insertValue(29)\n",
    "root.insertValue(17)\n",
    "root.insertValue(5)\n",
    "root.insertValue(8)\n",
    "root.insertValue(37)\n",
    "root.insertValue(31)\n",
    "root.insertValue(18)\n",
    "root.insertValue(25)\n",
    "root.insertValue(9)\n",
    "root.insertValue(20)\n",
    "print(root.breadthFirstTraversal(root))"
   ]
  },
  {
   "cell_type": "code",
   "execution_count": null,
   "metadata": {},
   "outputs": [],
   "source": []
  }
 ],
 "metadata": {
  "kernelspec": {
   "display_name": "Python 3",
   "language": "python",
   "name": "python3"
  },
  "language_info": {
   "codemirror_mode": {
    "name": "ipython",
    "version": 3
   },
   "file_extension": ".py",
   "mimetype": "text/x-python",
   "name": "python",
   "nbconvert_exporter": "python",
   "pygments_lexer": "ipython3",
   "version": "3.6.8"
  }
 },
 "nbformat": 4,
 "nbformat_minor": 2
}
