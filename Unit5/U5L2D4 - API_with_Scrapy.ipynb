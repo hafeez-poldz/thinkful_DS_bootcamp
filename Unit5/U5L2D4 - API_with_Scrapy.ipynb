{
 "cells": [
  {
   "cell_type": "markdown",
   "metadata": {},
   "source": [
    "# Scraping Coinmarketcap\n",
    "\n",
    "I'll will scrape the URL: https://coinmarketcap.com/all/views/all/. This website contains information about cryptocurrencies such as their current prices, circulation supply, volume, etc."
   ]
  },
  {
   "cell_type": "code",
   "execution_count": 1,
   "metadata": {},
   "outputs": [],
   "source": [
    "# import libraries\n",
    "import pandas as pd\n",
    "import numpy as np\n",
    "import re\n",
    "import scrapy\n",
    "from scrapy.crawler import CrawlerProcess\n",
    "import matplotlib.pyplot as plt\n",
    "import seaborn as sns"
   ]
  },
  {
   "cell_type": "code",
   "execution_count": 2,
   "metadata": {},
   "outputs": [
    {
     "name": "stdout",
     "output_type": "stream",
     "text": [
      "Done!\n"
     ]
    }
   ],
   "source": [
    "# create a spider\n",
    "class coinSpider(scrapy.Spider):\n",
    "    # naming the spider\n",
    "    name = \"coinSpider\"\n",
    "    \n",
    "    # URL to start with.\n",
    "    start_url = ['https://coinmarketcap.com/all/views/all/']\n",
    "\n",
    "    # XPath to parse the response\n",
    "    def parse(self, response):\n",
    "        # iterate over every <tr> element in the tbody section.\n",
    "        for row in response.xpath('.//tbody/tr'):\n",
    "            yield {\n",
    "                # This is the code to choose what we want to extract\n",
    "                # You can modify this with other Xpath expressions to extract other information from the site\n",
    "                'name': row.xpath('td[2]/a/text()').extract_first(),\n",
    "                'price': row.xpath('td[5]/a/text()').extract_first(),\n",
    "                'supply': row.xpath('td[6]/span/text()').extract_first(),\n",
    "                'volume': row.xpath('td[7]/a/text()').extract_first()\n",
    "                  }\n",
    "\n",
    "# defining parameters for crawler\n",
    "process = CrawlerProcess({\n",
    "    'FEED_FORMAT': 'json',         # store data in JSON format\n",
    "    'FEED_URI': 'coins_market.json',  # same the storage file\n",
    "    'LOG_ENABLED': False           # turn off logging\n",
    "})\n",
    "\n",
    "# start the crawler with spider.\n",
    "process.crawl(coinSpider)\n",
    "process.start()\n",
    "print('Done!')"
   ]
  },
  {
   "cell_type": "code",
   "execution_count": 3,
   "metadata": {},
   "outputs": [
    {
     "name": "stdout",
     "output_type": "stream",
     "text": [
      "(2141, 4)\n"
     ]
    },
    {
     "data": {
      "text/html": [
       "<div>\n",
       "<style scoped>\n",
       "    .dataframe tbody tr th:only-of-type {\n",
       "        vertical-align: middle;\n",
       "    }\n",
       "\n",
       "    .dataframe tbody tr th {\n",
       "        vertical-align: top;\n",
       "    }\n",
       "\n",
       "    .dataframe thead th {\n",
       "        text-align: right;\n",
       "    }\n",
       "</style>\n",
       "<table border=\"1\" class=\"dataframe\">\n",
       "  <thead>\n",
       "    <tr style=\"text-align: right;\">\n",
       "      <th></th>\n",
       "      <th>name</th>\n",
       "      <th>price</th>\n",
       "      <th>supply</th>\n",
       "      <th>volume</th>\n",
       "    </tr>\n",
       "  </thead>\n",
       "  <tbody>\n",
       "    <tr>\n",
       "      <th>0</th>\n",
       "      <td>Bitcoin</td>\n",
       "      <td>$5356.81</td>\n",
       "      <td>17,674,775</td>\n",
       "      <td>$13,745,871,947</td>\n",
       "    </tr>\n",
       "    <tr>\n",
       "      <th>1</th>\n",
       "      <td>Ethereum</td>\n",
       "      <td>$161.89</td>\n",
       "      <td>105,878,855</td>\n",
       "      <td>$6,249,981,697</td>\n",
       "    </tr>\n",
       "    <tr>\n",
       "      <th>2</th>\n",
       "      <td>XRP</td>\n",
       "      <td>$0.310485</td>\n",
       "      <td>42,004,966,728</td>\n",
       "      <td>$1,213,735,325</td>\n",
       "    </tr>\n",
       "    <tr>\n",
       "      <th>3</th>\n",
       "      <td>Bitcoin Cash</td>\n",
       "      <td>$262.05</td>\n",
       "      <td>17,757,225</td>\n",
       "      <td>$1,659,791,847</td>\n",
       "    </tr>\n",
       "    <tr>\n",
       "      <th>4</th>\n",
       "      <td>Litecoin</td>\n",
       "      <td>$74.33</td>\n",
       "      <td>61,570,158</td>\n",
       "      <td>$2,988,790,999</td>\n",
       "    </tr>\n",
       "  </tbody>\n",
       "</table>\n",
       "</div>"
      ],
      "text/plain": [
       "           name      price          supply           volume\n",
       "0       Bitcoin   $5356.81      17,674,775  $13,745,871,947\n",
       "1      Ethereum    $161.89     105,878,855   $6,249,981,697\n",
       "2           XRP  $0.310485  42,004,966,728   $1,213,735,325\n",
       "3  Bitcoin Cash    $262.05      17,757,225   $1,659,791,847\n",
       "4      Litecoin     $74.33      61,570,158   $2,988,790,999"
      ]
     },
     "execution_count": 3,
     "metadata": {},
     "output_type": "execute_result"
    }
   ],
   "source": [
    "\n",
    "# Checking whether we got data \n",
    "coins_df=pd.read_json(r'C:\\Users\\hafeez_poldz\\Desktop\\Thinkful\\Unit 5\\coins_market.json', orient='records')\n",
    "print(coins_df.shape)\n",
    "coins_df.head()"
   ]
  },
  {
   "cell_type": "markdown",
   "metadata": {},
   "source": [
    "## Data Cleaning"
   ]
  },
  {
   "cell_type": "code",
   "execution_count": 4,
   "metadata": {},
   "outputs": [],
   "source": [
    "coins_df.price = coins_df.price.apply(lambda x: x.replace('$','')).astype('float')\n",
    "coins_df.volume = coins_df.volume.apply(lambda x: x.replace('$',''))\n",
    "coins_df.supply = coins_df.supply.apply(lambda x: x.replace('?',''))"
   ]
  },
  {
   "cell_type": "code",
   "execution_count": 5,
   "metadata": {},
   "outputs": [
    {
     "data": {
      "text/html": [
       "<div>\n",
       "<style scoped>\n",
       "    .dataframe tbody tr th:only-of-type {\n",
       "        vertical-align: middle;\n",
       "    }\n",
       "\n",
       "    .dataframe tbody tr th {\n",
       "        vertical-align: top;\n",
       "    }\n",
       "\n",
       "    .dataframe thead th {\n",
       "        text-align: right;\n",
       "    }\n",
       "</style>\n",
       "<table border=\"1\" class=\"dataframe\">\n",
       "  <thead>\n",
       "    <tr style=\"text-align: right;\">\n",
       "      <th></th>\n",
       "      <th>name</th>\n",
       "      <th>price</th>\n",
       "      <th>supply</th>\n",
       "      <th>volume</th>\n",
       "    </tr>\n",
       "  </thead>\n",
       "  <tbody>\n",
       "    <tr>\n",
       "      <th>0</th>\n",
       "      <td>Bitcoin</td>\n",
       "      <td>5356.810000</td>\n",
       "      <td>17,674,775</td>\n",
       "      <td>13,745,871,947</td>\n",
       "    </tr>\n",
       "    <tr>\n",
       "      <th>1</th>\n",
       "      <td>Ethereum</td>\n",
       "      <td>161.890000</td>\n",
       "      <td>105,878,855</td>\n",
       "      <td>6,249,981,697</td>\n",
       "    </tr>\n",
       "    <tr>\n",
       "      <th>2</th>\n",
       "      <td>XRP</td>\n",
       "      <td>0.310485</td>\n",
       "      <td>42,004,966,728</td>\n",
       "      <td>1,213,735,325</td>\n",
       "    </tr>\n",
       "    <tr>\n",
       "      <th>3</th>\n",
       "      <td>Bitcoin Cash</td>\n",
       "      <td>262.050000</td>\n",
       "      <td>17,757,225</td>\n",
       "      <td>1,659,791,847</td>\n",
       "    </tr>\n",
       "    <tr>\n",
       "      <th>4</th>\n",
       "      <td>Litecoin</td>\n",
       "      <td>74.330000</td>\n",
       "      <td>61,570,158</td>\n",
       "      <td>2,988,790,999</td>\n",
       "    </tr>\n",
       "  </tbody>\n",
       "</table>\n",
       "</div>"
      ],
      "text/plain": [
       "           name        price          supply          volume\n",
       "0       Bitcoin  5356.810000      17,674,775  13,745,871,947\n",
       "1      Ethereum   161.890000     105,878,855   6,249,981,697\n",
       "2           XRP     0.310485  42,004,966,728   1,213,735,325\n",
       "3  Bitcoin Cash   262.050000      17,757,225   1,659,791,847\n",
       "4      Litecoin    74.330000      61,570,158   2,988,790,999"
      ]
     },
     "execution_count": 5,
     "metadata": {},
     "output_type": "execute_result"
    }
   ],
   "source": [
    "coins_df.head()"
   ]
  },
  {
   "cell_type": "code",
   "execution_count": 6,
   "metadata": {},
   "outputs": [
    {
     "name": "stdout",
     "output_type": "stream",
     "text": [
      "              price\n",
      "count  2.141000e+03\n",
      "mean   3.030046e+01\n",
      "std    5.734435e+02\n",
      "min    4.500000e-09\n",
      "5%     4.200000e-05\n",
      "25%    1.128000e-03\n",
      "50%    7.564000e-03\n",
      "75%    5.350500e-02\n",
      "95%    1.340000e+00\n",
      "100%   1.981167e+04\n",
      "max    1.981167e+04\n"
     ]
    },
    {
     "data": {
      "image/png": "[encoded data removed]",
      "text/plain": [
       "<Figure size 1008x432 with 2 Axes>"
      ]
     },
     "metadata": {
      "needs_background": "light"
     },
     "output_type": "display_data"
    }
   ],
   "source": [
    "# price distribution\n",
    "fig, (ax1, ax2) = plt.subplots(ncols = 2, figsize = (14,6))\n",
    "_ = sns.boxplot(y = ['price'], data = coins_df, ax = ax1)\n",
    "_.set(ylabel = 'Price', title = 'Boxplot: Price')\n",
    "_ = sns.distplot(coins_df['price'], hist = True, kde = True, ax = ax2, color = 'r', hist_kws={'edgecolor':'black'}, bins = 20)\n",
    "_.set(xlabel = 'Cryptocurrency Price', ylabel = 'Density', title = 'Distribution of Price')\n",
    "print(coins_df.describe(percentiles = [0.05, .25, 0.5, 0.75, 0.95, 1]))"
   ]
  },
  {
   "cell_type": "code",
   "execution_count": 7,
   "metadata": {},
   "outputs": [
    {
     "data": {
      "image/png": "[encoded data removed]",
      "text/plain": [
       "<Figure size 432x288 with 1 Axes>"
      ]
     },
     "metadata": {
      "needs_background": "light"
     },
     "output_type": "display_data"
    }
   ],
   "source": [
    "_ = sns.distplot(np.log(coins_df['price']))\n",
    "_.set(title = 'Normalized Price Distribution')\n",
    "plt.show()"
   ]
  },
  {
   "cell_type": "code",
   "execution_count": null,
   "metadata": {},
   "outputs": [],
   "source": []
  }
 ],
 "metadata": {
  "kernelspec": {
   "display_name": "Python 3",
   "language": "python",
   "name": "python3"
  },
  "language_info": {
   "codemirror_mode": {
    "name": "ipython",
    "version": 3
   },
   "file_extension": ".py",
   "mimetype": "text/x-python",
   "name": "python",
   "nbconvert_exporter": "python",
   "pygments_lexer": "ipython3",
   "version": "3.6.8"
  }
 },
 "nbformat": 4,
 "nbformat_minor": 2
}
