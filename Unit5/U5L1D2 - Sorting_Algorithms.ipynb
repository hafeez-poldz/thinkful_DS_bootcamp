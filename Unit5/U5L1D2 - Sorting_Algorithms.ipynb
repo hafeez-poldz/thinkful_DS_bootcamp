{
 "cells": [
  {
   "cell_type": "markdown",
   "metadata": {},
   "source": [
    "# Sorting Algorithms\n",
    "In this notebook I'll define functions to sort values in a generated list and compare the efficiency of sorting algoritms by their runtime. "
   ]
  },
  {
   "cell_type": "markdown",
   "metadata": {},
   "source": [
    "### Generating Random Lists"
   ]
  },
  {
   "cell_type": "code",
   "execution_count": 1,
   "metadata": {},
   "outputs": [],
   "source": [
    "import time\n",
    "import random\n",
    "import numpy as np\n",
    "\n",
    "# set seed\n",
    "random.seed(a=42)\n",
    "\n",
    "# create default lists\n",
    "short_list = list(random.sample(range(1000000), 10))\n",
    "long_list = list(random.sample(range(1000000), 1000))"
   ]
  },
  {
   "cell_type": "markdown",
   "metadata": {},
   "source": [
    "### 1. Selection Sort\n",
    "`Selection Sort` is used to sort a list of elements. During each iteration the algorithm is taking the smallest element and swaps it with the element in the corresponding position to the left."
   ]
  },
  {
   "cell_type": "code",
   "execution_count": 2,
   "metadata": {},
   "outputs": [],
   "source": [
    "def selectionSort(lst):\n",
    "    for i in range(len(lst)):\n",
    "        min_idx = i\n",
    "        for j in range(i+1, len(lst)):\n",
    "            if lst[min_idx] > lst[j]:\n",
    "                min_idx= j\n",
    "                \n",
    "       # Swap the found minimum element with minPosition       \n",
    "        temp = lst[i]\n",
    "        lst[i] = lst[min_idx]\n",
    "        lst[min_idx] = temp\n",
    "\n",
    "    return lst"
   ]
  },
  {
   "cell_type": "code",
   "execution_count": 3,
   "metadata": {},
   "outputs": [
    {
     "name": "stdout",
     "output_type": "stream",
     "text": [
      "Short list --- 0.0 seconds ---\n",
      "Long list --- 0.028922080993652344 seconds ---\n"
     ]
    }
   ],
   "source": [
    "# test on short list\n",
    "# start timer\n",
    "start_time = time.time()\n",
    "start_time1 = time.time()\n",
    "\n",
    "# Run our insertion sort.\n",
    "selectionSort(short_list)\n",
    "\n",
    "# Print time to show runtime.\n",
    "print(\"Short list --- %s seconds ---\" % (time.time() - start_time))\n",
    "selectionSort(long_list)\n",
    "print(\"Long list --- %s seconds ---\" % (time.time() - start_time1))"
   ]
  },
  {
   "cell_type": "markdown",
   "metadata": {},
   "source": [
    "### 2. Quick Sort\n",
    "`QuickSort` takes last element as pivot, places the pivot element at its correct position in sorted array, and places all smaller (smaller than pivot) to left of pivot and all greater elements to right of pivot."
   ]
  },
  {
   "cell_type": "code",
   "execution_count": 4,
   "metadata": {},
   "outputs": [],
   "source": [
    "def partition(lst, start, end):\n",
    "    i = start-1\n",
    "    pivot = lst[end]\n",
    "    for idx in range(start, end):\n",
    "        if lst[idx] <= pivot: # compare with pivot\n",
    "            i = i+1\n",
    "            lst[i], lst[idx] = lst[idx], lst[i] # swap\n",
    "    lst[i+1], lst[end] = lst[end], lst[i+1] # swap with the last element\n",
    "    return i+1\n",
    "\n",
    "def quickSort(lst, start, end):\n",
    "    if start < end:\n",
    "        split = partition(lst, start, end) # partition the list\n",
    "        quickSort(lst, start, split-1)\n",
    "        quickSort(lst, split+1, end)"
   ]
  },
  {
   "cell_type": "code",
   "execution_count": 5,
   "metadata": {},
   "outputs": [
    {
     "name": "stdout",
     "output_type": "stream",
     "text": [
      "Short list --- 0.0 seconds ---\n",
      "Long list --- 0.0728299617767334 seconds ---\n"
     ]
    }
   ],
   "source": [
    "# test on short list\n",
    "# start timer\n",
    "start = 0\n",
    "end1 = len(short_list)-1\n",
    "end2 = len(long_list)-1\n",
    "start_time = time.time()\n",
    "start_time1 = time.time()\n",
    "\n",
    "# Run our insertion sort.\n",
    "quickSort(short_list, start, end1)\n",
    "\n",
    "# Print time to show runtime.\n",
    "print(\"Short list --- %s seconds ---\" % (time.time() - start_time))\n",
    "quickSort(long_list, start, end2)\n",
    "print(\"Long list --- %s seconds ---\" % (time.time() - start_time1))"
   ]
  },
  {
   "cell_type": "markdown",
   "metadata": {},
   "source": [
    "### 3. Heap Sort\n",
    "`Heap Sort` is a special case of a binary tree data structure where we compare the root node with its children and arranged accordingly. The key at the root node is greater than or equal to its children if the heap is a <b>max heap</b>, and is less than or equal to its children if the heap is a <b>min heap</b>. "
   ]
  },
  {
   "cell_type": "code",
   "execution_count": 6,
   "metadata": {},
   "outputs": [],
   "source": [
    "def heapify(lst, n, i): \n",
    "    largest = i # initialize largest as root \n",
    "    l = 2 * i + 1     # left = 2*i + 1 \n",
    "    r = 2 * i + 2     # right = 2*i + 2 \n",
    "  \n",
    "    # see if left child of root exists and is \n",
    "    # greater than root \n",
    "    if l < n and lst[i] < lst[l]: \n",
    "        largest = l \n",
    "  \n",
    "    # see if right child of root exists and is \n",
    "    # greater than root \n",
    "    if r < n and lst[largest] < lst[r]: \n",
    "        largest = r \n",
    "  \n",
    "    # change root, if needed \n",
    "    if largest != i: \n",
    "        lst[i], lst[largest] = lst[largest], lst[i] # swap \n",
    "  \n",
    "        # heapify the root. \n",
    "        heapify(lst, n, largest) \n",
    "\n",
    "        \n",
    "        \n",
    "# the main function to sort a list of given size \n",
    "def heapSort(lst): \n",
    "    n = len(lst) \n",
    "  \n",
    "    # Build a maxheap. \n",
    "    for i in range(n, -1, -1): \n",
    "        heapify(lst, n, i) \n",
    "  \n",
    "    # one by one extract elements \n",
    "    for i in range(n-1, 0, -1): \n",
    "        lst[i], lst[0] = lst[0], lst[i] # swap \n",
    "        heapify(lst, i, 0) "
   ]
  },
  {
   "cell_type": "code",
   "execution_count": 7,
   "metadata": {},
   "outputs": [
    {
     "name": "stdout",
     "output_type": "stream",
     "text": [
      "Short list --- 0.0 seconds ---\n",
      "Long list --- 0.004983663558959961 seconds ---\n"
     ]
    }
   ],
   "source": [
    "# test on short list\n",
    "# start timer\n",
    "start = 0\n",
    "end1 = len(short_list)-1\n",
    "end2 = len(long_list)-1\n",
    "start_time = time.time()\n",
    "start_time1 = time.time()\n",
    "\n",
    "# Run our insertion sort.\n",
    "heapSort(short_list)\n",
    "\n",
    "# Print time to show runtime.\n",
    "print(\"Short list --- %s seconds ---\" % (time.time() - start_time))\n",
    "heapSort(long_list)\n",
    "print(\"Long list --- %s seconds ---\" % (time.time() - start_time1))"
   ]
  },
  {
   "cell_type": "code",
   "execution_count": null,
   "metadata": {},
   "outputs": [],
   "source": []
  }
 ],
 "metadata": {
  "kernelspec": {
   "display_name": "Python 3",
   "language": "python",
   "name": "python3"
  },
  "language_info": {
   "codemirror_mode": {
    "name": "ipython",
    "version": 3
   },
   "file_extension": ".py",
   "mimetype": "text/x-python",
   "name": "python",
   "nbconvert_exporter": "python",
   "pygments_lexer": "ipython3",
   "version": "3.6.8"
  }
 },
 "nbformat": 4,
 "nbformat_minor": 2
}
