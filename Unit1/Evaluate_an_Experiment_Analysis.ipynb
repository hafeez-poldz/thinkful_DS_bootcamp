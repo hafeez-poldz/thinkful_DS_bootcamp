{
 "cells": [
  {
   "cell_type": "markdown",
   "metadata": {},
   "source": [
    "# Challenge: Evaluate an experiment analysis\n",
    "**1. The Sith Lords are concerned that their recruiting slogan, \"Give In to Your Anger,\" isn't very effective. Darth Vader develops an alternative slogan, \"Together We Can Rule the Galaxy.\" They compare the slogans on two groups of 50 captured droids each. In one group, Emperor Palpatine delivers the \"Anger\" slogan. In the other, Darth Vader presents the \"Together\" slogan. 20 droids convert to the Dark Side after hearing Palpatine's slogan, while only 5 droids convert after hearing Vader's. The Sith's data scientist concludes that \"Anger\" is a more effective slogan and should continue to be used.**\n",
    "\n",
    "### Evaluation: \n",
    "Given that we have 2 groups of droids and conversion results. However, we do not have information about the similarity of groups. As we know, the droids in \"Star Wars\" are sentient beings. They have the capacity to feel, perceive, and experience the world objectively. It means, if they knew who are the authors of slogans, it could give rise to prejudice in droids. Are these droid influenced by the reputation of Emperor Palpatine? Do they hate Darth Vader? On the other hand, if droids had no clue about the authors and they have chosen their side simply because they find the \"Anger\" slogan more motivational or inspiring, then the Sith's data scientist's conclusion could be satisfactory. Was it a blind test?"
   ]
  },
  {
   "cell_type": "markdown",
   "metadata": {},
   "source": [
    "**2. In the past, the Jedi have had difficulty with public relations. They send two envoys, Jar Jar Binks and Mace Windu, to four friendly and four unfriendly planets respectively, with the goal of promoting favorable feelings toward the Jedi. Upon their return, the envoys learn that Jar Jar was much more effective than Windu: Over 75% of the people surveyed said their attitudes had become more favorable after speaking with Jar Jar, while only 65% said their attitudes had become more favorable after speaking with Windu. This makes Windu angry, because he is sure that he had a better success rate than Jar Jar on every planet. The Jedi choose Jar Jar to be their representative in the future.***\n",
    "\n",
    "### Evaluation:\n",
    "The Jedi's decision is biased. They sent Jar Jar to friendly planets. The notion 'friendly' is not measurable but we can assume that if more than half of population of these planets welcome Jedi, they are friendly. We can define 'unfriendly' as if less than 50% of the population of given planets like Jedi. If we had previous sympathy rate data of planets, we could calculate the sympathy increase rate and Jedi could make a wiser decision. Windu attracted an unfriendly population with his speech and made them friendly, while Jar Jar made the friendly population more(?) friendly. Let say the populations of unfriendly planets on average have 35% sympathy rate, and the populations of friendly planets have 55% of that. Given that Windy performed 85% increase towards populations' sympathy, while Jar Jar performed only about 36% effectiveness. \n",
    "To conclude, Jedi, in order to decide who is better in PR, should take the **friendliness/sympathy increase ratio** into consideration rather overall populations' **friendliness/sympathy rate**"
   ]
  },
  {
   "cell_type": "markdown",
   "metadata": {},
   "source": [
    "**3. A company with work sites in five different countries has sent you data on employee satisfaction rates for workers in Human Resources and workers in Information Technology. Most HR workers are concentrated in three of the countries, while IT workers are equally distributed across worksites. The company requests a report on satisfaction for each job type. You calculate average job satisfaction for HR and for IT and present the report.**\n",
    "\n",
    "### Evaluation:\n",
    "There is a sign of Simpson Paradox. \n",
    "The results could be biased with the metric chosen as a measure of central tendency to calculate average job satisfaction for HR and IT departments. Overall, the results for both departments could be acceptable and the management could conclude that the workers are satisfied. But if I dig deeper and calculate the average job satisfaction of workers of each department for each country separately, there is a chance that I'll get different results. Subgroups' results might show the opposite trend. Here, countries are our third variable (lurking variable). So before interpreting my results, I need to confirm the groups are similar. \n"
   ]
  },
  {
   "cell_type": "markdown",
   "metadata": {},
   "source": [
    "**4. When people install the Happy Days Fitness Tracker app, they are asked to \"opt in\" to a data collection scheme where their level of physical activity data is automatically sent to the company for product research purposes. During your interview with the company, they tell you that the app is very effective because after installing the app, the data show that people's activity levels rise steadily.**\n",
    "\n",
    "### Evaluation:\n",
    "\n",
    "If \"opt-in\" is not mandatory, we need installation/opt-in ratio information in order to count on the results of the effectiveness of our app. If people who opt-in is a small percentage of app users, our conclusion can be biased. Moreover, we need to understand whether a rise in people's activity level is due to the app or their own incentives."
   ]
  },
  {
   "cell_type": "markdown",
   "metadata": {},
   "source": [
    "**5. To prevent cheating, a teacher writes three versions of a test. She stacks the three versions together, first all copies of Version A, then all copies of Version B, then all copies of Version C. As students arrive for the exam, each student takes a test. When grading the test, the teacher finds that students who took Version B scored higher than students who took either Version A or Version C. She concludes from this that Version B is easier, and discards it.**\n",
    "\n",
    "### Evaluation:\n",
    "Correlation is not causation. To conclude that Version B was easier, we should have similar groups. We do not know what grade the individuals in each group usually score. What if a random distribution of test versions is biased? What if most of bright students got Version B at random. And poor students received Version A & C? Of course, Version B students will do better than the rest of the class on average."
   ]
  },
  {
   "cell_type": "code",
   "execution_count": null,
   "metadata": {},
   "outputs": [],
   "source": []
  }
 ],
 "metadata": {
  "kernelspec": {
   "display_name": "Python 3",
   "language": "python",
   "name": "python3"
  },
  "language_info": {
   "codemirror_mode": {
    "name": "ipython",
    "version": 3
   },
   "file_extension": ".py",
   "mimetype": "text/x-python",
   "name": "python",
   "nbconvert_exporter": "python",
   "pygments_lexer": "ipython3",
   "version": "3.6.6"
  }
 },
 "nbformat": 4,
 "nbformat_minor": 2
}
