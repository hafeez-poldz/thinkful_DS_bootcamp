{
 "cells": [
  {
   "cell_type": "markdown",
   "metadata": {},
   "source": [
    "# DRILL: Make a quick research proposal\n",
    "\n",
    "**To prevent cheating, a teacher writes three versions of a test. She stacks the three versions together, first all copies of Version A, then all copies of Version B, then all copies of Version C. As students arrive for the exam, each student takes a test. When grading the test, the teacher finds that students who took Version B scored higher than students who took either Version A or Version C. She concludes from this that Version B is easier, and discards it.**\n",
    "\n",
    "## Research Proposal\n",
    "### The problem\n",
    "The teacher concludes that Version B is easier, and she discards it. We do not have enough data to decide that Version B is easier than Version A & C. Her conclusion could be biased and unfair.\n",
    "\n",
    "### The potential solution\n",
    "The teacher's randomization method was stacking all three versions together, first all copies of Version A, then B, and then C. \n",
    "Versions are kind of alphabetically sorted. Students arrival time was random, however, the arrival time of best/successful students could overlap. To eliminate this factor, the teacher should unstack all three versions, mix them, and put together. When grading the test, if the students who took Version B again scored higher than students who took either version A or C, she should figure out which students took Version B this time (again best/successful students or less successful students). If less successful students scored higher with Version B, she can conclude that Version B is easier and discard it. \n",
    "\n",
    "Another solution is to give Version A & C to students who took Version B and check the results. If they scored again higher than the previous group of students who took those versions of the tests, then she should conclude that not the Version B is easier, but this random group of students is more prepared than the rest. \n",
    "\n",
    "\n"
   ]
  },
  {
   "cell_type": "code",
   "execution_count": null,
   "metadata": {},
   "outputs": [],
   "source": []
  }
 ],
 "metadata": {
  "kernelspec": {
   "display_name": "Python 3",
   "language": "python",
   "name": "python3"
  },
  "language_info": {
   "codemirror_mode": {
    "name": "ipython",
    "version": 3
   },
   "file_extension": ".py",
   "mimetype": "text/x-python",
   "name": "python",
   "nbconvert_exporter": "python",
   "pygments_lexer": "ipython3",
   "version": "3.6.6"
  }
 },
 "nbformat": 4,
 "nbformat_minor": 2
}
