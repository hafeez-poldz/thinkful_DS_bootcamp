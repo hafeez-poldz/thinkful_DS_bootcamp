{
 "cells": [
  {
   "cell_type": "markdown",
   "metadata": {},
   "source": [
    "# DRILL: Getting Testy...\n",
    "## 1. Does a new supplement help people sleep better?\n",
    "\n",
    "**Two versions:** control and test groups. <br>\n",
    "**Sample:** the patients involved in the experiment. all patients who get the supplement are in the test group <br>\n",
    "**Hypothesis:** a new supplement helps people sleep better. <br>\n",
    "**Key Metrics:** we may need information about the gender, age, sleep duration and deepness of the patients, to make sure the groups are similar. <br>\n",
    "**Outcome:** if the two groups appeared similar in age, gender, and anything else we measured, but sleep deepness rates were higher for the test group patients, we can conclude that the supplement helps people sleep better. \n",
    "\n",
    "\n"
   ]
  },
  {
   "cell_type": "markdown",
   "metadata": {},
   "source": [
    "## 2.  Will new uniforms help a gym's business?\n",
    "**Two versions:** previous uniform and new uniform. <br>\n",
    "**Sample:** number of customers for a given period. We can divide the sample into 2 time periods removing trends and seasonality. for example: last 6 months with old uniforms, next 6 months with new uniforms. <br>\n",
    "**Hypothesis:** new uniforms helps a gym's business.<br> \n",
    "**Key Metrics:** again we may need information about customers' age, gender, number of visits per customer per week/month, the number of customers per month. <br>\n",
    "**Outcome** If the two samples have similar age and gender distribution, but there is an increase in the number of total visits per month or number of visits per customer per week/month has boosted, we can say that the new uniform has a positive impact to the gym's business."
   ]
  },
  {
   "cell_type": "markdown",
   "metadata": {},
   "source": [
    "## 3. Will a new homepage improve my online exotic pet rental business?\n",
    "**Two versions:** old home page and new home page. <br>\n",
    "**Sample:** all website visitors will be randomly redirect either to the old home page or to the new one.<br>\n",
    "**Hypothesis:** a new home page improves the online exotic pet rental business.<br>\n",
    "**Key metrics:** we may need demographics, devices the visitors use (mobile, desktop etc.), browser they prefer, bounce rate, clicks, conversion rate, time spent on homepage per session. <br>\n",
    "**Outcome:** if two groups have similar demographics, but bounce rate is lower for the test group followed by higher conversion rate compared to control group, then our hypothesis is true. However, if the new home page has higher bounce rate, meaning visitors do not find the website interesting, conversion rate also will be lower than the old home page. Depending on results, we can switch our focus from one metric to another one. In this case bounce rate and conversion rate could be reliable key metrics for comparison of two groups."
   ]
  },
  {
   "cell_type": "markdown",
   "metadata": {},
   "source": [
    "## 4. If I put 'please read' in the email subject will more people read my emails?\n",
    "**Two versions:** we should have another version of email subject for the control group. \"we have news for you\" & \"please read\". <br>\n",
    "**Sample:** we would send one of the two versions of emails to a subset of subscribers. All subscribers represent our sample. All subscribers who receive the email with the subject \"please read\" represent our test group. <br>\n",
    "**Hypothesis:** 'please read' is not an attractive email subject for subscribers. <br>\n",
    "**Key metrics:** to make sure that groups are similar we may need demographics of subscribers if available. As a reliable key metric, we need to track the number of clicks for each version of the email. As a secondary outcome factor, we may need to track the effect how quickly people open the email after receiving it. <br>\n",
    "**Outcome:** if demographics are similar for both groups, but click rates were lower for the 'please read' version of the email subject, we would conclude that changing the subject from \"we have news for you\" to \"please read\" is not a good idea. "
   ]
  },
  {
   "cell_type": "code",
   "execution_count": null,
   "metadata": {},
   "outputs": [],
   "source": []
  }
 ],
 "metadata": {
  "kernelspec": {
   "display_name": "Python 3",
   "language": "python",
   "name": "python3"
  },
  "language_info": {
   "codemirror_mode": {
    "name": "ipython",
    "version": 3
   },
   "file_extension": ".py",
   "mimetype": "text/x-python",
   "name": "python",
   "nbconvert_exporter": "python",
   "pygments_lexer": "ipython3",
   "version": "3.6.6"
  }
 },
 "nbformat": 4,
 "nbformat_minor": 2
}
