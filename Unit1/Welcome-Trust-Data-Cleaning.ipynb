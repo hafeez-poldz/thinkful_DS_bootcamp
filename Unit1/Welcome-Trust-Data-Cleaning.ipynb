{
 "cells": [
  {
   "cell_type": "code",
   "execution_count": 185,
   "metadata": {},
   "outputs": [],
   "source": [
    "# import libraries\n",
    "import pandas as pd\n",
    "import numpy as np\n",
    "import matplotlib.pyplot as plt\n",
    "import seaborn as sns\n",
    "%matplotlib inline"
   ]
  },
  {
   "cell_type": "markdown",
   "metadata": {},
   "source": [
    "# 1. Exploratory Data Analysis (EDA)"
   ]
  },
  {
   "cell_type": "code",
   "execution_count": 186,
   "metadata": {},
   "outputs": [
    {
     "data": {
      "text/html": [
       "<div>\n",
       "<style scoped>\n",
       "    .dataframe tbody tr th:only-of-type {\n",
       "        vertical-align: middle;\n",
       "    }\n",
       "\n",
       "    .dataframe tbody tr th {\n",
       "        vertical-align: top;\n",
       "    }\n",
       "\n",
       "    .dataframe thead th {\n",
       "        text-align: right;\n",
       "    }\n",
       "</style>\n",
       "<table border=\"1\" class=\"dataframe\">\n",
       "  <thead>\n",
       "    <tr style=\"text-align: right;\">\n",
       "      <th></th>\n",
       "      <th>PMID/PMCID</th>\n",
       "      <th>Publisher</th>\n",
       "      <th>Journal title</th>\n",
       "      <th>Article title</th>\n",
       "      <th>COST (£) charged to Wellcome (inc VAT when charged)</th>\n",
       "    </tr>\n",
       "  </thead>\n",
       "  <tbody>\n",
       "    <tr>\n",
       "      <th>0</th>\n",
       "      <td>NaN</td>\n",
       "      <td>CUP</td>\n",
       "      <td>Psychological Medicine</td>\n",
       "      <td>Reduced parahippocampal cortical thickness in ...</td>\n",
       "      <td>£0.00</td>\n",
       "    </tr>\n",
       "    <tr>\n",
       "      <th>1</th>\n",
       "      <td>PMC3679557</td>\n",
       "      <td>ACS</td>\n",
       "      <td>Biomacromolecules</td>\n",
       "      <td>Structural characterization of a Model Gram-ne...</td>\n",
       "      <td>£2381.04</td>\n",
       "    </tr>\n",
       "    <tr>\n",
       "      <th>2</th>\n",
       "      <td>23043264  PMC3506128</td>\n",
       "      <td>ACS</td>\n",
       "      <td>J Med Chem</td>\n",
       "      <td>Fumaroylamino-4,5-epoxymorphinans and related ...</td>\n",
       "      <td>£642.56</td>\n",
       "    </tr>\n",
       "    <tr>\n",
       "      <th>3</th>\n",
       "      <td>23438330 PMC3646402</td>\n",
       "      <td>ACS</td>\n",
       "      <td>J Med Chem</td>\n",
       "      <td>Orvinols with mixed kappa/mu opioid receptor a...</td>\n",
       "      <td>£669.64</td>\n",
       "    </tr>\n",
       "    <tr>\n",
       "      <th>4</th>\n",
       "      <td>23438216 PMC3601604</td>\n",
       "      <td>ACS</td>\n",
       "      <td>J Org Chem</td>\n",
       "      <td>Regioselective opening of myo-inositol orthoes...</td>\n",
       "      <td>£685.88</td>\n",
       "    </tr>\n",
       "  </tbody>\n",
       "</table>\n",
       "</div>"
      ],
      "text/plain": [
       "              PMID/PMCID Publisher           Journal title  \\\n",
       "0                    NaN       CUP  Psychological Medicine   \n",
       "1             PMC3679557       ACS       Biomacromolecules   \n",
       "2  23043264  PMC3506128        ACS              J Med Chem   \n",
       "3    23438330 PMC3646402       ACS              J Med Chem   \n",
       "4   23438216 PMC3601604        ACS              J Org Chem   \n",
       "\n",
       "                                       Article title  \\\n",
       "0  Reduced parahippocampal cortical thickness in ...   \n",
       "1  Structural characterization of a Model Gram-ne...   \n",
       "2  Fumaroylamino-4,5-epoxymorphinans and related ...   \n",
       "3  Orvinols with mixed kappa/mu opioid receptor a...   \n",
       "4  Regioselective opening of myo-inositol orthoes...   \n",
       "\n",
       "  COST (£) charged to Wellcome (inc VAT when charged)  \n",
       "0                                              £0.00   \n",
       "1                                           £2381.04   \n",
       "2                                            £642.56   \n",
       "3                                            £669.64   \n",
       "4                                            £685.88   "
      ]
     },
     "execution_count": 186,
     "metadata": {},
     "output_type": "execute_result"
    }
   ],
   "source": [
    "df = pd.read_csv(r'C:\\Users\\hafeez_poldz\\Desktop\\Thinkful\\Unit 1\\Datas\\Welcome\\WELLCOME_APCspend2013_forThinkful.csv', \n",
    "                 encoding  = 'ISO-8859-1')\n",
    "df.head()"
   ]
  },
  {
   "cell_type": "code",
   "execution_count": 187,
   "metadata": {},
   "outputs": [
    {
     "name": "stdout",
     "output_type": "stream",
     "text": [
      "PMID/PMCID                                             199\n",
      "Publisher                                                0\n",
      "Journal title                                            1\n",
      "Article title                                            0\n",
      "COST (£) charged to Wellcome (inc VAT when charged)      0\n",
      "dtype: int64\n",
      "<class 'pandas.core.frame.DataFrame'>\n",
      "RangeIndex: 2127 entries, 0 to 2126\n",
      "Data columns (total 5 columns):\n",
      "PMID/PMCID                                             1928 non-null object\n",
      "Publisher                                              2127 non-null object\n",
      "Journal title                                          2126 non-null object\n",
      "Article title                                          2127 non-null object\n",
      "COST (£) charged to Wellcome (inc VAT when charged)    2127 non-null object\n",
      "dtypes: object(5)\n",
      "memory usage: 83.2+ KB\n",
      "None\n"
     ]
    }
   ],
   "source": [
    "print(df.isnull().sum())\n",
    "print(df.info())"
   ]
  },
  {
   "cell_type": "markdown",
   "metadata": {},
   "source": [
    "Our dataset has 2127 rows and 5 columns entitled:\n",
    "    - PMID/PMCID: PubMed ID\n",
    "    - Publisher: The name of the publisher, as reported by the instituion\n",
    "    - Journal title: The name of journal\n",
    "    - Article title: The title of the article \n",
    "    - COST (£) charged to Wellcome (inc VAT when charged: Publishing fee\n",
    "\n",
    "In general, 2127 articles are devoted to Welcome Trust. If we look at Journal title and Article title columns, we can see that the the total number of articles per journal also represents the popularity the journal."
   ]
  },
  {
   "cell_type": "markdown",
   "metadata": {},
   "source": [
    "# 2. Data Cleaning & Manipulation\n",
    "The data type of all columns is object. To make some calculation, we need to clean the data and manipulate it. "
   ]
  },
  {
   "cell_type": "code",
   "execution_count": 188,
   "metadata": {},
   "outputs": [
    {
     "data": {
      "text/plain": [
       "Journal title\n",
       "plos one                           199\n",
       "journal of biological chemistry     53\n",
       "neuroimage                          29\n",
       "nucleic acids research              26\n",
       "plos pathogens                      24\n",
       "Name: Article title, dtype: int64"
      ]
     },
     "execution_count": 188,
     "metadata": {},
     "output_type": "execute_result"
    }
   ],
   "source": [
    "# standartize the Journal titles \n",
    "df['Journal title'] = df['Journal title'].str.lower()\n",
    "df['Journal title'] = df['Journal title'].str.replace('and', '&')\n",
    "df['Journal title'] = df['Journal title'].str.replace('for', 'of')\n",
    "df['Journal title'] = df['Journal title'].str.replace('.', '')\n",
    "df['Journal title'] = df['Journal title'].str.replace('plosone', 'plos one')\n",
    "df['Journal title'] = df['Journal title'].str.replace('development', 'developmental')\n",
    "df['Journal title'] = df['Journal title'].str.replace('behaviour', 'behavior')\n",
    "df['Journal title'] = df['Journal title'].str.replace('jnl', 'journal')\n",
    "df['Journal title'] = df['Journal title'].str.rstrip()\n",
    "df.rename(columns = {'COST (£) charged to Wellcome (inc VAT when charged)':'Cost'}, inplace = True)\n",
    "\n",
    "df['PMID/PMCID'].drop_duplicates(inplace = True)\n",
    "#df['Journal title'].value_counts().head()\n",
    "total_articles = df.groupby('Journal title')['Article title'].count().sort_values(ascending = False)\n",
    "total_articles.head()"
   ]
  },
  {
   "cell_type": "markdown",
   "metadata": {},
   "source": [
    "Seems the most common journal is Plos One which has devoted 199 articles to Welcome Trust. Now we need to calculate mean, median and standard deviation of the open-access cost per article for each journal. Before we need to clean the Cost column."
   ]
  },
  {
   "cell_type": "code",
   "execution_count": 189,
   "metadata": {},
   "outputs": [
    {
     "name": "stdout",
     "output_type": "stream",
     "text": [
      "object\n",
      "1674$\n",
      "1375.8$\n",
      "2010$\n",
      "1204.38$\n",
      "1254.6$\n",
      "1476$\n",
      "671.04$\n",
      "1440$\n",
      "1460.3$\n",
      "1476.47$\n",
      "1570.87$\n",
      "1600.25$\n",
      "1600.25$\n"
     ]
    }
   ],
   "source": [
    "print(df.Cost.dtype)\n",
    "\n",
    "# check for other currencies except '£'\n",
    "for currency in df.Cost:\n",
    "    if currency[0] !='£':\n",
    "        print(currency)"
   ]
  },
  {
   "cell_type": "code",
   "execution_count": 190,
   "metadata": {},
   "outputs": [
    {
     "data": {
      "text/plain": [
       "'we can convert $ to £ using the average rate for the GBP/USD currency conversion on 31 December 2013 (31/12/2013)'"
      ]
     },
     "execution_count": 190,
     "metadata": {},
     "output_type": "execute_result"
    }
   ],
   "source": [
    "\"\"\"we can convert $ to £ using the average rate for the GBP/USD currency conversion on 31 December 2013 (31/12/2013)\"\"\"   \n",
    "# converted = []\n",
    "# for symbol in df.Cost.str[:]:\n",
    "#    if symbol[0] != '£':\n",
    "#        converted.append(float(symbol.replace('$',''))/1.6528)\n",
    "#    else:\n",
    "#        converted.append(float(symbol.replace('£','')))\n",
    "# df.Cost = converted"
   ]
  },
  {
   "cell_type": "code",
   "execution_count": 191,
   "metadata": {},
   "outputs": [],
   "source": [
    "# remove £ and $ signs from Cost columns\n",
    "df['Cost'] = df['Cost'].str.replace('£', '')\n",
    "df['Cost'] = df['Cost'].str.replace('$', '')\n",
    "\n",
    "# df.Cost.apply(lambda x: x.replace('£',''))\n",
    "# df.Cost.apply(lambda x: x.replace('$',''))"
   ]
  },
  {
   "cell_type": "code",
   "execution_count": 192,
   "metadata": {},
   "outputs": [
    {
     "data": {
      "text/plain": [
       "0       0.00\n",
       "1    2381.04\n",
       "2     642.56\n",
       "3     669.64\n",
       "4     685.88\n",
       "Name: Cost, dtype: object"
      ]
     },
     "execution_count": 192,
     "metadata": {},
     "output_type": "execute_result"
    }
   ],
   "source": [
    "df.Cost.head()"
   ]
  },
  {
   "cell_type": "code",
   "execution_count": 197,
   "metadata": {},
   "outputs": [],
   "source": [
    "# convert Cost column to float\n",
    "df['Cost'] = df['Cost'].astype(float)"
   ]
  },
  {
   "cell_type": "code",
   "execution_count": 198,
   "metadata": {
    "scrolled": true
   },
   "outputs": [
    {
     "name": "stdout",
     "output_type": "stream",
     "text": [
      "                Cost\n",
      "count    2127.000000\n",
      "mean    24067.339972\n",
      "std    146860.665559\n",
      "min         0.000000\n",
      "5%        736.205000\n",
      "25%      1280.000000\n",
      "50%      1884.010000\n",
      "75%      2321.305000\n",
      "95%      3780.000000\n",
      "100%   999999.000000\n",
      "max    999999.000000\n"
     ]
    },
    {
     "data": {
      "image/png": "[encoded data removed]",
      "text/plain": [
       "<Figure size 1008x432 with 2 Axes>"
      ]
     },
     "metadata": {
      "needs_background": "light"
     },
     "output_type": "display_data"
    }
   ],
   "source": [
    "# check for outliers\n",
    "fig, (ax1, ax2) = plt.subplots(ncols = 2, figsize = (14,6))\n",
    "_ = sns.boxplot(y = ['Cost'], data = df, ax = ax1)\n",
    "_ = sns.distplot(df['Cost'], ax = ax2)\n",
    "print(df.describe(percentiles = [0.05, .25, 0.5, 0.75, 0.95, 1]))"
   ]
  },
  {
   "cell_type": "markdown",
   "metadata": {},
   "source": [
    "Boxplot shows that our data has few extreme outliers. We'll use winsorizing method to remove outliers for further calculations. It will reduce the influnce of the outliers to our end results. Our strategy is to set all outliers to a specified percentile of the data."
   ]
  },
  {
   "cell_type": "code",
   "execution_count": 199,
   "metadata": {},
   "outputs": [
    {
     "data": {
      "text/html": [
       "<div>\n",
       "<style scoped>\n",
       "    .dataframe tbody tr th:only-of-type {\n",
       "        vertical-align: middle;\n",
       "    }\n",
       "\n",
       "    .dataframe tbody tr th {\n",
       "        vertical-align: top;\n",
       "    }\n",
       "\n",
       "    .dataframe thead th {\n",
       "        text-align: right;\n",
       "    }\n",
       "</style>\n",
       "<table border=\"1\" class=\"dataframe\">\n",
       "  <thead>\n",
       "    <tr style=\"text-align: right;\">\n",
       "      <th></th>\n",
       "      <th>Cost</th>\n",
       "    </tr>\n",
       "  </thead>\n",
       "  <tbody>\n",
       "    <tr>\n",
       "      <th>count</th>\n",
       "      <td>1910.000000</td>\n",
       "    </tr>\n",
       "    <tr>\n",
       "      <th>mean</th>\n",
       "      <td>1824.256241</td>\n",
       "    </tr>\n",
       "    <tr>\n",
       "      <th>std</th>\n",
       "      <td>615.393518</td>\n",
       "    </tr>\n",
       "    <tr>\n",
       "      <th>min</th>\n",
       "      <td>741.350000</td>\n",
       "    </tr>\n",
       "    <tr>\n",
       "      <th>5%</th>\n",
       "      <td>850.000000</td>\n",
       "    </tr>\n",
       "    <tr>\n",
       "      <th>25%</th>\n",
       "      <td>1331.885000</td>\n",
       "    </tr>\n",
       "    <tr>\n",
       "      <th>50%</th>\n",
       "      <td>1882.970000</td>\n",
       "    </tr>\n",
       "    <tr>\n",
       "      <th>75%</th>\n",
       "      <td>2291.302500</td>\n",
       "    </tr>\n",
       "    <tr>\n",
       "      <th>95%</th>\n",
       "      <td>2925.339000</td>\n",
       "    </tr>\n",
       "    <tr>\n",
       "      <th>100%</th>\n",
       "      <td>3750.050000</td>\n",
       "    </tr>\n",
       "    <tr>\n",
       "      <th>max</th>\n",
       "      <td>3750.050000</td>\n",
       "    </tr>\n",
       "  </tbody>\n",
       "</table>\n",
       "</div>"
      ],
      "text/plain": [
       "              Cost\n",
       "count  1910.000000\n",
       "mean   1824.256241\n",
       "std     615.393518\n",
       "min     741.350000\n",
       "5%      850.000000\n",
       "25%    1331.885000\n",
       "50%    1882.970000\n",
       "75%    2291.302500\n",
       "95%    2925.339000\n",
       "100%   3750.050000\n",
       "max    3750.050000"
      ]
     },
     "execution_count": 199,
     "metadata": {},
     "output_type": "execute_result"
    }
   ],
   "source": [
    "# calculate 5th and 95th percentiles\n",
    "p = np.percentile(df['Cost'], [5, 95])\n",
    "\n",
    "# filter Cost columns from outliers\n",
    "new_df = df[(df['Cost'] > p[0]) & (df['Cost'] < p[1])]\n",
    "new_df.describe(percentiles = [.05, 0.25, 0.5, 0.75, 0.95, 1])\n"
   ]
  },
  {
   "cell_type": "code",
   "execution_count": 200,
   "metadata": {},
   "outputs": [
    {
     "name": "stdout",
     "output_type": "stream",
     "text": [
      "              Cost\n",
      "count  1910.000000\n",
      "mean   1824.256241\n",
      "std     615.393518\n",
      "min     741.350000\n",
      "5%      850.000000\n",
      "25%    1331.885000\n",
      "50%    1882.970000\n",
      "75%    2291.302500\n",
      "95%    2925.339000\n",
      "100%   3750.050000\n",
      "max    3750.050000\n"
     ]
    },
    {
     "data": {
      "image/png": "[encoded data removed]",
      "text/plain": [
       "<Figure size 1008x432 with 2 Axes>"
      ]
     },
     "metadata": {
      "needs_background": "light"
     },
     "output_type": "display_data"
    }
   ],
   "source": [
    "# check for outliers\n",
    "fig, (ax1, ax2) = plt.subplots(ncols = 2, figsize = (14,6))\n",
    "_ = sns.boxplot(y = ['Cost'], data = new_df, ax = ax1)\n",
    "_.set(ylabel = 'Cost', title = 'Boxplot: Cost')\n",
    "_ = sns.distplot(new_df['Cost'], hist = True, kde = False, ax = ax2, color = 'r', hist_kws={'edgecolor':'black'}, bins = 20)\n",
    "_.set(xlabel = 'Cost of Article', ylabel = 'Density', title = 'Distribution of Cost')\n",
    "print(new_df.describe(percentiles = [0.05, .25, 0.5, 0.75, 0.95, 1]))"
   ]
  },
  {
   "cell_type": "markdown",
   "metadata": {},
   "source": [
    "Now we removed outliers and our data is cleaner and ready for calculation.\n",
    "\n",
    "# 3. Mean, Median & Standard Deviation"
   ]
  },
  {
   "cell_type": "code",
   "execution_count": 201,
   "metadata": {},
   "outputs": [
    {
     "data": {
      "text/html": [
       "<div>\n",
       "<style scoped>\n",
       "    .dataframe tbody tr th:only-of-type {\n",
       "        vertical-align: middle;\n",
       "    }\n",
       "\n",
       "    .dataframe tbody tr th {\n",
       "        vertical-align: top;\n",
       "    }\n",
       "\n",
       "    .dataframe thead th {\n",
       "        text-align: right;\n",
       "    }\n",
       "</style>\n",
       "<table border=\"1\" class=\"dataframe\">\n",
       "  <thead>\n",
       "    <tr style=\"text-align: right;\">\n",
       "      <th></th>\n",
       "      <th>mean</th>\n",
       "      <th>median</th>\n",
       "      <th>std</th>\n",
       "      <th>count</th>\n",
       "    </tr>\n",
       "    <tr>\n",
       "      <th>Journal title</th>\n",
       "      <th></th>\n",
       "      <th></th>\n",
       "      <th></th>\n",
       "      <th></th>\n",
       "    </tr>\n",
       "  </thead>\n",
       "  <tbody>\n",
       "    <tr>\n",
       "      <th>plos one</th>\n",
       "      <td>954.0</td>\n",
       "      <td>897.0</td>\n",
       "      <td>163.0</td>\n",
       "      <td>183</td>\n",
       "    </tr>\n",
       "    <tr>\n",
       "      <th>journal of biological chemistry</th>\n",
       "      <td>1446.0</td>\n",
       "      <td>1315.0</td>\n",
       "      <td>382.0</td>\n",
       "      <td>51</td>\n",
       "    </tr>\n",
       "    <tr>\n",
       "      <th>neuroimage</th>\n",
       "      <td>2215.0</td>\n",
       "      <td>2326.0</td>\n",
       "      <td>267.0</td>\n",
       "      <td>29</td>\n",
       "    </tr>\n",
       "    <tr>\n",
       "      <th>nucleic acids research</th>\n",
       "      <td>1167.0</td>\n",
       "      <td>852.0</td>\n",
       "      <td>443.0</td>\n",
       "      <td>25</td>\n",
       "    </tr>\n",
       "    <tr>\n",
       "      <th>plos genetics</th>\n",
       "      <td>1643.0</td>\n",
       "      <td>1713.0</td>\n",
       "      <td>153.0</td>\n",
       "      <td>22</td>\n",
       "    </tr>\n",
       "  </tbody>\n",
       "</table>\n",
       "</div>"
      ],
      "text/plain": [
       "                                   mean  median    std  count\n",
       "Journal title                                                \n",
       "plos one                          954.0   897.0  163.0    183\n",
       "journal of biological chemistry  1446.0  1315.0  382.0     51\n",
       "neuroimage                       2215.0  2326.0  267.0     29\n",
       "nucleic acids research           1167.0   852.0  443.0     25\n",
       "plos genetics                    1643.0  1713.0  153.0     22"
      ]
     },
     "execution_count": 201,
     "metadata": {},
     "output_type": "execute_result"
    }
   ],
   "source": [
    "# calculate mean, median and standard deviation for each journal\n",
    "agg_cost_per_article = new_df.groupby('Journal title')['Cost'].agg(['mean', 'median', 'std','count']).round().sort_values(\n",
    "    by = 'count', ascending = False)\n",
    "agg_cost_per_article.head()"
   ]
  },
  {
   "cell_type": "markdown",
   "metadata": {},
   "source": [
    "After removing outliers from the data, the total number of articles per most common journals is changed. Now we can conclude that the most common Journal is 'Plos One' followed by 'Journal of Biological Chemistry'. Plos One also is reasonably cheaper than other most common journals."
   ]
  },
  {
   "cell_type": "code",
   "execution_count": null,
   "metadata": {},
   "outputs": [],
   "source": []
  }
 ],
 "metadata": {
  "kernelspec": {
   "display_name": "Python 3",
   "language": "python",
   "name": "python3"
  },
  "language_info": {
   "codemirror_mode": {
    "name": "ipython",
    "version": 3
   },
   "file_extension": ".py",
   "mimetype": "text/x-python",
   "name": "python",
   "nbconvert_exporter": "python",
   "pygments_lexer": "ipython3",
   "version": "3.6.6"
  }
 },
 "nbformat": 4,
 "nbformat_minor": 2
}
