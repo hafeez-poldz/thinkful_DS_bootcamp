{
 "cells": [
  {
   "cell_type": "markdown",
   "metadata": {},
   "source": [
    "# DRILL: Am I Biased?\n",
    "#### 1. **You're testing advertising emails for a bathing suit company and you test one version of the email in February and the other in May.**\n",
    "**Answer:** Is my target country below equator or above? This can be the first bias. Obviously, people need new bathing suits in summer (open pools, beaches). For the countries below the equator, February is a hot time period of the year and it is the last month of the summer. This means that the summer season is ending and the weather is getting cooler. People would not buy or are not interested in bathing suits. However, May is the last month of the spring for the countries above the equator (second bias) and summer is just starting. This a perfect time to advertise new bathing suits. <br>\n",
    "***Bias***: Seasonality\n"
   ]
  },
  {
   "cell_type": "markdown",
   "metadata": {},
   "source": [
    "#### 2. You open a clinic to treat anxiety and find that the people who visit show a higher rate of anxiety than the general population.\n",
    "**Answer:** Crime level of the area where I opened my clinic, the financial situation of people living in this area, what kind of job they are doing and how stressful is their jobs. These and more social-economic factors could describe the reason why people who visit my clinic show a higher rate of anxiety than the general population. <br>\n",
    "***Bias:*** social-economic factors"
   ]
  },
  {
   "cell_type": "markdown",
   "metadata": {},
   "source": [
    "#### 3. You launch a new ad billboard based campaign and see an increase in website visits in the first week.\n",
    "**Answer:** Are those website visitors from the same city where I launched my new ad bilboard based campaign? There could be no correlation between my bilboard ad campaign and increasing number of my website visitors. "
   ]
  },
  {
   "cell_type": "markdown",
   "metadata": {},
   "source": [
    "#### 4. You launch a loyalty program but see no change in visits in the first week.\n",
    "**Answer:** Design of the loyalty program must consider the few rational aspects: price, offer, service, location and time.\n",
    "There are also some emotional drivers for the loyalty programs as respect, recognition, reward. These all together should deliver an engaging experience. If my loyalty program delivers nothing for the first week, probably I failed with the time. Or do I really understand my customers' emotional engagements with my business? According to Loyalty Deciphered, millennials comprise the largest proportion of consumers with high emotional engagement. So I my loyalty program targeting the right audience? (gender, age group, etc)."
   ]
  },
  {
   "cell_type": "code",
   "execution_count": null,
   "metadata": {},
   "outputs": [],
   "source": []
  }
 ],
 "metadata": {
  "kernelspec": {
   "display_name": "Python 3",
   "language": "python",
   "name": "python3"
  },
  "language_info": {
   "codemirror_mode": {
    "name": "ipython",
    "version": 3
   },
   "file_extension": ".py",
   "mimetype": "text/x-python",
   "name": "python",
   "nbconvert_exporter": "python",
   "pygments_lexer": "ipython3",
   "version": "3.6.6"
  }
 },
 "nbformat": 4,
 "nbformat_minor": 2
}
