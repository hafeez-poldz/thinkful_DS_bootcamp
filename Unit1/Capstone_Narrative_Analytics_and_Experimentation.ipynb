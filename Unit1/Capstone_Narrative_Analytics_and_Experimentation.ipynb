{
 "cells": [
  {
   "cell_type": "markdown",
   "metadata": {},
   "source": [
    "# Thinkful Data Science Unit 1 Capstone Project"
   ]
  },
  {
   "cell_type": "markdown",
   "metadata": {},
   "source": [
    "For this capstone project I analyse the results of **A/B test run by eCommerce company**. <br>\n",
    "***Goal:*** help company to decide should they apply new home page or keep the old version of webpage. <br>\n",
    "***Success metric:*** Our success metric is conversions. <br>\n",
    "***Secondary metric:*** I'll pick days of the week as a secondary success metric. I'll analyze if conversion rate in a specific day of the week is statistically significant or not."
   ]
  },
  {
   "cell_type": "markdown",
   "metadata": {},
   "source": [
    "# 1. Exploratory Data Analysis (EDA)"
   ]
  },
  {
   "cell_type": "code",
   "execution_count": 1,
   "metadata": {},
   "outputs": [],
   "source": [
    "# import libraries\n",
    "import pandas as pd\n",
    "import numpy as np\n",
    "import matplotlib.pyplot as plt\n",
    "import seaborn as sns\n",
    "import warnings\n",
    "warnings.filterwarnings('ignore')\n",
    "%matplotlib inline\n",
    "from scipy import stats\n",
    "import statsmodels.api as sm"
   ]
  },
  {
   "cell_type": "code",
   "execution_count": 2,
   "metadata": {},
   "outputs": [
    {
     "name": "stdout",
     "output_type": "stream",
     "text": [
      "(294478, 5)\n"
     ]
    },
    {
     "data": {
      "text/html": [
       "<div>\n",
       "<style scoped>\n",
       "    .dataframe tbody tr th:only-of-type {\n",
       "        vertical-align: middle;\n",
       "    }\n",
       "\n",
       "    .dataframe tbody tr th {\n",
       "        vertical-align: top;\n",
       "    }\n",
       "\n",
       "    .dataframe thead th {\n",
       "        text-align: right;\n",
       "    }\n",
       "</style>\n",
       "<table border=\"1\" class=\"dataframe\">\n",
       "  <thead>\n",
       "    <tr style=\"text-align: right;\">\n",
       "      <th></th>\n",
       "      <th>user_id</th>\n",
       "      <th>timestamp</th>\n",
       "      <th>group</th>\n",
       "      <th>landing_page</th>\n",
       "      <th>converted</th>\n",
       "    </tr>\n",
       "  </thead>\n",
       "  <tbody>\n",
       "    <tr>\n",
       "      <th>0</th>\n",
       "      <td>851104</td>\n",
       "      <td>2017-01-21 22:11:48.556739</td>\n",
       "      <td>control</td>\n",
       "      <td>old_page</td>\n",
       "      <td>0</td>\n",
       "    </tr>\n",
       "    <tr>\n",
       "      <th>1</th>\n",
       "      <td>804228</td>\n",
       "      <td>2017-01-12 08:01:45.159739</td>\n",
       "      <td>control</td>\n",
       "      <td>old_page</td>\n",
       "      <td>0</td>\n",
       "    </tr>\n",
       "    <tr>\n",
       "      <th>2</th>\n",
       "      <td>661590</td>\n",
       "      <td>2017-01-11 16:55:06.154213</td>\n",
       "      <td>treatment</td>\n",
       "      <td>new_page</td>\n",
       "      <td>0</td>\n",
       "    </tr>\n",
       "    <tr>\n",
       "      <th>3</th>\n",
       "      <td>853541</td>\n",
       "      <td>2017-01-08 18:28:03.143765</td>\n",
       "      <td>treatment</td>\n",
       "      <td>new_page</td>\n",
       "      <td>0</td>\n",
       "    </tr>\n",
       "    <tr>\n",
       "      <th>4</th>\n",
       "      <td>864975</td>\n",
       "      <td>2017-01-21 01:52:26.210827</td>\n",
       "      <td>control</td>\n",
       "      <td>old_page</td>\n",
       "      <td>1</td>\n",
       "    </tr>\n",
       "    <tr>\n",
       "      <th>5</th>\n",
       "      <td>936923</td>\n",
       "      <td>2017-01-10 15:20:49.083499</td>\n",
       "      <td>control</td>\n",
       "      <td>old_page</td>\n",
       "      <td>0</td>\n",
       "    </tr>\n",
       "    <tr>\n",
       "      <th>6</th>\n",
       "      <td>679687</td>\n",
       "      <td>2017-01-19 03:26:46.940749</td>\n",
       "      <td>treatment</td>\n",
       "      <td>new_page</td>\n",
       "      <td>1</td>\n",
       "    </tr>\n",
       "    <tr>\n",
       "      <th>7</th>\n",
       "      <td>719014</td>\n",
       "      <td>2017-01-17 01:48:29.539573</td>\n",
       "      <td>control</td>\n",
       "      <td>old_page</td>\n",
       "      <td>0</td>\n",
       "    </tr>\n",
       "    <tr>\n",
       "      <th>8</th>\n",
       "      <td>817355</td>\n",
       "      <td>2017-01-04 17:58:08.979471</td>\n",
       "      <td>treatment</td>\n",
       "      <td>new_page</td>\n",
       "      <td>1</td>\n",
       "    </tr>\n",
       "    <tr>\n",
       "      <th>9</th>\n",
       "      <td>839785</td>\n",
       "      <td>2017-01-15 18:11:06.610965</td>\n",
       "      <td>treatment</td>\n",
       "      <td>new_page</td>\n",
       "      <td>1</td>\n",
       "    </tr>\n",
       "  </tbody>\n",
       "</table>\n",
       "</div>"
      ],
      "text/plain": [
       "   user_id                   timestamp      group landing_page  converted\n",
       "0   851104  2017-01-21 22:11:48.556739    control     old_page          0\n",
       "1   804228  2017-01-12 08:01:45.159739    control     old_page          0\n",
       "2   661590  2017-01-11 16:55:06.154213  treatment     new_page          0\n",
       "3   853541  2017-01-08 18:28:03.143765  treatment     new_page          0\n",
       "4   864975  2017-01-21 01:52:26.210827    control     old_page          1\n",
       "5   936923  2017-01-10 15:20:49.083499    control     old_page          0\n",
       "6   679687  2017-01-19 03:26:46.940749  treatment     new_page          1\n",
       "7   719014  2017-01-17 01:48:29.539573    control     old_page          0\n",
       "8   817355  2017-01-04 17:58:08.979471  treatment     new_page          1\n",
       "9   839785  2017-01-15 18:11:06.610965  treatment     new_page          1"
      ]
     },
     "execution_count": 2,
     "metadata": {},
     "output_type": "execute_result"
    }
   ],
   "source": [
    "# read the data\n",
    "df = pd.read_csv(r'C:\\Users\\hafeez_poldz\\Desktop\\Thinkful\\Unit 1\\Datas\\eCommerce_AB_test\\ab_test_data.csv')\n",
    "\n",
    "# take a look at the data\n",
    "print(df.shape)\n",
    "df.head(10)"
   ]
  },
  {
   "cell_type": "markdown",
   "metadata": {},
   "source": [
    "Our dataset has 294478 rows and 5 columns described below:\n",
    " - user_id: unique ID per webpage visitor\n",
    " - timestamp: date & time when user visited the webpage\n",
    " - group: control and treatment (test) groups\n",
    " - landing_page: what page the user visited. old_page or new_page. Obviously, the control group was redirected to the old page, while the treatment group was turned to the new page.\n",
    " - converted: is a binary indicator if the users were converted."
   ]
  },
  {
   "cell_type": "code",
   "execution_count": 3,
   "metadata": {},
   "outputs": [
    {
     "name": "stdout",
     "output_type": "stream",
     "text": [
      "number of unbalanced values: 3893\n",
      "number of missing values: user_id         0\n",
      "timestamp       0\n",
      "group           0\n",
      "landing_page    0\n",
      "converted       0\n",
      "dtype: int64\n"
     ]
    }
   ],
   "source": [
    "# number of times the groups and landing pages don't line up\n",
    "print('number of unbalanced values: {}'.format(((df.group=='treatment') & (df.landing_page=='old_page')).sum() + \n",
    "      ((df.group == 'control') & (df.landing_page == 'new_page')).sum()))\n",
    "\n",
    "# any missing values?\n",
    "print('number of missing values: {}'.format(df.isnull().sum()))"
   ]
  },
  {
   "cell_type": "code",
   "execution_count": 4,
   "metadata": {},
   "outputs": [
    {
     "name": "stdout",
     "output_type": "stream",
     "text": [
      "duplicate user ids: 3894\n"
     ]
    }
   ],
   "source": [
    "# number of duplicate user ids\n",
    "print('duplicate user ids: {}'.format(len(df.user_id) - df.user_id.nunique()))"
   ]
  },
  {
   "cell_type": "markdown",
   "metadata": {},
   "source": [
    "# 2. Data Cleaning & Manipulation\n",
    "\n",
    "There are 3893 times our control and test groups don't line up with landing pages. And also we have duplicate 3894 user ids. Let's clean the data for precise results."
   ]
  },
  {
   "cell_type": "code",
   "execution_count": 5,
   "metadata": {},
   "outputs": [
    {
     "data": {
      "text/html": [
       "<div>\n",
       "<style scoped>\n",
       "    .dataframe tbody tr th:only-of-type {\n",
       "        vertical-align: middle;\n",
       "    }\n",
       "\n",
       "    .dataframe tbody tr th {\n",
       "        vertical-align: top;\n",
       "    }\n",
       "\n",
       "    .dataframe thead th {\n",
       "        text-align: right;\n",
       "    }\n",
       "</style>\n",
       "<table border=\"1\" class=\"dataframe\">\n",
       "  <thead>\n",
       "    <tr style=\"text-align: right;\">\n",
       "      <th></th>\n",
       "      <th>user_id</th>\n",
       "      <th>timestamp</th>\n",
       "      <th>group</th>\n",
       "      <th>landing_page</th>\n",
       "      <th>converted</th>\n",
       "      <th>date</th>\n",
       "      <th>unbalanced</th>\n",
       "    </tr>\n",
       "  </thead>\n",
       "  <tbody>\n",
       "    <tr>\n",
       "      <th>0</th>\n",
       "      <td>851104</td>\n",
       "      <td>2017-01-21 22:11:48.556739</td>\n",
       "      <td>control</td>\n",
       "      <td>old_page</td>\n",
       "      <td>0</td>\n",
       "      <td>2017-01-21</td>\n",
       "      <td>False</td>\n",
       "    </tr>\n",
       "    <tr>\n",
       "      <th>1</th>\n",
       "      <td>804228</td>\n",
       "      <td>2017-01-12 08:01:45.159739</td>\n",
       "      <td>control</td>\n",
       "      <td>old_page</td>\n",
       "      <td>0</td>\n",
       "      <td>2017-01-12</td>\n",
       "      <td>False</td>\n",
       "    </tr>\n",
       "    <tr>\n",
       "      <th>2</th>\n",
       "      <td>661590</td>\n",
       "      <td>2017-01-11 16:55:06.154213</td>\n",
       "      <td>treatment</td>\n",
       "      <td>new_page</td>\n",
       "      <td>0</td>\n",
       "      <td>2017-01-11</td>\n",
       "      <td>False</td>\n",
       "    </tr>\n",
       "    <tr>\n",
       "      <th>3</th>\n",
       "      <td>853541</td>\n",
       "      <td>2017-01-08 18:28:03.143765</td>\n",
       "      <td>treatment</td>\n",
       "      <td>new_page</td>\n",
       "      <td>0</td>\n",
       "      <td>2017-01-08</td>\n",
       "      <td>False</td>\n",
       "    </tr>\n",
       "    <tr>\n",
       "      <th>4</th>\n",
       "      <td>864975</td>\n",
       "      <td>2017-01-21 01:52:26.210827</td>\n",
       "      <td>control</td>\n",
       "      <td>old_page</td>\n",
       "      <td>1</td>\n",
       "      <td>2017-01-21</td>\n",
       "      <td>False</td>\n",
       "    </tr>\n",
       "  </tbody>\n",
       "</table>\n",
       "</div>"
      ],
      "text/plain": [
       "   user_id                  timestamp      group landing_page  converted  \\\n",
       "0   851104 2017-01-21 22:11:48.556739    control     old_page          0   \n",
       "1   804228 2017-01-12 08:01:45.159739    control     old_page          0   \n",
       "2   661590 2017-01-11 16:55:06.154213  treatment     new_page          0   \n",
       "3   853541 2017-01-08 18:28:03.143765  treatment     new_page          0   \n",
       "4   864975 2017-01-21 01:52:26.210827    control     old_page          1   \n",
       "\n",
       "         date  unbalanced  \n",
       "0  2017-01-21       False  \n",
       "1  2017-01-12       False  \n",
       "2  2017-01-11       False  \n",
       "3  2017-01-08       False  \n",
       "4  2017-01-21       False  "
      ]
     },
     "execution_count": 5,
     "metadata": {},
     "output_type": "execute_result"
    }
   ],
   "source": [
    "# remove timestamp from datetime (we will need it later)\n",
    "df['timestamp'] = pd.to_datetime(df['timestamp'], errors = 'coerce')\n",
    "df['date'] = df['timestamp'].dt.date\n",
    "#df.rename(columns = {'timestamp':'date'}, inplace = True)\n",
    "# which rows are unbalanced?\n",
    "df['unbalanced'] = ((df.group == 'treatment') & (df.landing_page == 'old_page') | \n",
    "                    ((df.group == 'control') & (df.landing_page == 'new_page')))\n",
    "\n",
    "# new dataset with correct rows\n",
    "new_df = df.query('unbalanced == False')\n",
    "new_df.head()"
   ]
  },
  {
   "cell_type": "code",
   "execution_count": 6,
   "metadata": {},
   "outputs": [
    {
     "name": "stdout",
     "output_type": "stream",
     "text": [
      "(290585, 7)\n",
      "duplicate user ids: 1\n"
     ]
    }
   ],
   "source": [
    "print(new_df.shape)\n",
    "\n",
    "# check the number of duplicate user ids\n",
    "print('duplicate user ids: {}'.format(len(new_df.user_id) - new_df.user_id.nunique()))"
   ]
  },
  {
   "cell_type": "code",
   "execution_count": 7,
   "metadata": {
    "scrolled": true
   },
   "outputs": [
    {
     "name": "stdout",
     "output_type": "stream",
     "text": [
      "duplicate user ids: 0\n",
      "Experiment lasted 23 days\n",
      "<class 'pandas.core.frame.DataFrame'>\n",
      "Int64Index: 290585 entries, 0 to 294477\n",
      "Data columns (total 7 columns):\n",
      "user_id         290585 non-null int64\n",
      "timestamp       290585 non-null datetime64[ns]\n",
      "group           290585 non-null object\n",
      "landing_page    290585 non-null object\n",
      "converted       290585 non-null int64\n",
      "date            290585 non-null object\n",
      "unbalanced      290585 non-null bool\n",
      "dtypes: bool(1), datetime64[ns](1), int64(2), object(3)\n",
      "memory usage: 15.8+ MB\n"
     ]
    }
   ],
   "source": [
    "# remove duplicated user id\n",
    "new_df.user_id.drop_duplicates(inplace = True)\n",
    "\n",
    "# check it again\n",
    "print('duplicate user ids: {}'.format(len(new_df.user_id) - new_df.user_id.nunique()))\n",
    "print('Experiment lasted {} days'.format(new_df.date.nunique()))\n",
    "new_df.info()"
   ]
  },
  {
   "cell_type": "markdown",
   "metadata": {},
   "source": [
    "Now our dataset looks much cleaner. Let's answer few questions"
   ]
  },
  {
   "cell_type": "markdown",
   "metadata": {},
   "source": [
    "# 3. Null-hypothesis Significance Testing\n",
    "\n",
    "The calculation results show that the new landing page does not meet our expectations. The test group is a little bit larger than control group, however conversion rate of control group is higher than that of test group.\n",
    "\n",
    "***Hypothesis:*** new landing page is better than old one <br>\n",
    "***Null-hypothesis:*** new landing page is not better in leading to conversion rate"
   ]
  },
  {
   "cell_type": "code",
   "execution_count": 8,
   "metadata": {},
   "outputs": [
    {
     "name": "stdout",
     "output_type": "stream",
     "text": [
      "test group size: 145311\n",
      "control group size: 145274\n",
      "test group proportion: 0.5001\n",
      "test conversion rate: 0.11880724790277405\n",
      "control conversion rate: 0.1203863045004612\n"
     ]
    },
    {
     "data": {
      "text/plain": [
       "Ttest_indResult(statistic=-1.3116069027036805, pvalue=0.18965383906859376)"
      ]
     },
     "execution_count": 8,
     "metadata": {},
     "output_type": "execute_result"
    }
   ],
   "source": [
    "# size of each group\n",
    "print('test group size: {}'.format(len(new_df[new_df.group == 'treatment'])))\n",
    "print('control group size: {}'.format(len(new_df[new_df.group == 'control'])))\n",
    "\n",
    "# test group proportion\n",
    "print('test group proportion: {}'.format(round(len(new_df[new_df.group == 'treatment'])/len(new_df.group), 4)))\n",
    "\n",
    "# conversion rate for each group\n",
    "print('test conversion rate: {}'.format(new_df[new_df.group == 'treatment'].converted.mean()))\n",
    "print('control conversion rate: {}'.format(new_df[new_df.group == 'control'].converted.mean()))\n",
    "\n",
    "# are the test and control groups significantly different?\n",
    "stats.ttest_ind(new_df[new_df.group == 'treatment'].converted, new_df[new_df.group == 'control'].converted)"
   ]
  },
  {
   "cell_type": "markdown",
   "metadata": {},
   "source": [
    "Results show that the groups are not significantly different, and indications do not seem great. The test conversion rate seems lower than the old landing page. Let's check the reason behind that."
   ]
  },
  {
   "cell_type": "code",
   "execution_count": 9,
   "metadata": {},
   "outputs": [
    {
     "data": {
      "image/png": "[encoded data removed]",
      "text/plain": [
       "<Figure size 432x288 with 1 Axes>"
      ]
     },
     "metadata": {
      "needs_background": "light"
     },
     "output_type": "display_data"
    },
    {
     "name": "stdout",
     "output_type": "stream",
     "text": [
      "Ttest_indResult(statistic=-1.8123288054674913, pvalue=0.0699579338988825)\n",
      "Ttest_indResult(statistic=0.05182821974845549, pvalue=0.9586663564605943)\n",
      "Ttest_indResult(statistic=-0.6795024407954999, pvalue=0.49683133482307695)\n",
      "Ttest_indResult(statistic=0.33111903181744556, pvalue=0.7405597598504309)\n",
      "Ttest_indResult(statistic=2.3999515991310387, pvalue=0.01641085244784032)\n",
      "Ttest_indResult(statistic=-0.4836129647924235, pvalue=0.628668638020595)\n",
      "Ttest_indResult(statistic=0.7611804663738991, pvalue=0.446562930057432)\n",
      "Ttest_indResult(statistic=-0.9315635899845935, pvalue=0.3515792521983202)\n",
      "Ttest_indResult(statistic=-1.261388402374626, pvalue=0.20719113309271808)\n",
      "Ttest_indResult(statistic=-0.0026642818202597274, pvalue=0.9978742538059032)\n",
      "Ttest_indResult(statistic=-0.28071255594768935, pvalue=0.7789352633524722)\n",
      "Ttest_indResult(statistic=-0.2056136446252576, pvalue=0.837095874040602)\n",
      "Ttest_indResult(statistic=0.4909032980527966, pvalue=0.6235093367111435)\n",
      "Ttest_indResult(statistic=-0.8094922831773846, pvalue=0.41824647028626705)\n",
      "Ttest_indResult(statistic=0.4369071658956722, pvalue=0.6621858156795764)\n",
      "Ttest_indResult(statistic=-1.4468255388280735, pvalue=0.14797003344175097)\n",
      "Ttest_indResult(statistic=1.445201350915974, pvalue=0.14842480715695958)\n",
      "Ttest_indResult(statistic=-1.0178087858982594, pvalue=0.3087876929639064)\n",
      "Ttest_indResult(statistic=-0.8500557494800433, pvalue=0.3953094968293003)\n",
      "Ttest_indResult(statistic=-0.005102928348269819, pvalue=0.9959285470042827)\n",
      "Ttest_indResult(statistic=-0.6557398855583756, pvalue=0.5120179205036728)\n",
      "Ttest_indResult(statistic=-0.4678178596106672, pvalue=0.6399226098635871)\n",
      "Ttest_indResult(statistic=-1.311670708102873, pvalue=0.18965417024438827)\n"
     ]
    }
   ],
   "source": [
    "# compare conversion rates by date\n",
    "fig = new_df[new_df.group == 'treatment'][['date','converted']].groupby('date').mean().plot()\n",
    "new_df[new_df.group == 'control'][['date', 'converted']].groupby('date').mean().plot(ax = fig)\n",
    "plt.legend(['test', 'control'])\n",
    "plt.title('Comparing Conversion Rate by Date')\n",
    "plt.xticks(rotation = 60)\n",
    "plt.show()\n",
    "\n",
    "# generating a test statistic to compare test and control on date\n",
    "for date in new_df.date.unique():\n",
    "    dated_data = new_df[new_df.date == date]\n",
    "    print(stats.ttest_ind(dated_data[dated_data.group == 'treatment'].converted,\n",
    "                         dated_data[dated_data.group == 'control'].converted))\n"
   ]
  },
  {
   "cell_type": "code",
   "execution_count": 10,
   "metadata": {},
   "outputs": [
    {
     "data": {
      "image/png": "[encoded data removed]",
      "text/plain": [
       "<Figure size 432x288 with 1 Axes>"
      ]
     },
     "metadata": {
      "needs_background": "light"
     },
     "output_type": "display_data"
    }
   ],
   "source": [
    "# create day column\n",
    "new_df['day'] = new_df['timestamp'].dt.day\n",
    "\n",
    "# mean conversion rate of old and new pages of individual day\n",
    "cr_by_day = pd.DataFrame()\n",
    "old_page = new_df.query('landing_page==\"old_page\"')\n",
    "new_page = new_df.query('landing_page==\"new_page\"')\n",
    "cr_by_day['old_rate']=old_page.groupby('day')['converted'].mean()\n",
    "cr_by_day['new_rate']=new_page.groupby('day')['converted'].mean()\n",
    "cr_by_day.reset_index(inplace=True)\n",
    "\n",
    "# regression plot to see if there is increase in conversion rate as time goes on\n",
    "_ = sns.regplot(x = 'day', y = 'old_rate', data = cr_by_day, color = 'red')\n",
    "_ = sns.regplot(x = 'day', y = 'new_rate', data = cr_by_day, color = 'grey')\n",
    "_.set(xlabel = 'Day of January', ylabel = 'Conversion Rate', title = 'Conversion Rate by Days of the Month')\n",
    "plt.show()\n"
   ]
  },
  {
   "cell_type": "markdown",
   "metadata": {},
   "source": [
    "From the regression plot we can conclude that there is a very slow increase in conversion rate as time goes on. And the regression line for the new landing page is under the regression line of the old page. This could be interpreted as the old page performs better than the new page."
   ]
  },
  {
   "cell_type": "code",
   "execution_count": 29,
   "metadata": {},
   "outputs": [
    {
     "name": "stdout",
     "output_type": "stream",
     "text": [
      "z-score: -1.31, p-value: 0.09\n"
     ]
    }
   ],
   "source": [
    "# calculate z-value\n",
    "convert_old = (new_df.query('landing_page==\"old_page\"')['converted']==1).sum()\n",
    "convert_new = (new_df.query('landing_page==\"new_page\"')['converted']==1).sum()\n",
    "n_old = (new_df['landing_page']=='old_page').sum()\n",
    "n_new=(new_df['landing_page']=='new_page').sum()\n",
    "\n",
    "z_score, p_value = sm.stats.proportions_ztest([convert_new, convert_old], [n_new, n_old], alternative='smaller')\n",
    "print('z-score: {}, p-value: {}'.format(round(z_score, 2), round(p_value, 2)))"
   ]
  },
  {
   "cell_type": "code",
   "execution_count": 31,
   "metadata": {},
   "outputs": [
    {
     "name": "stdout",
     "output_type": "stream",
     "text": [
      "MannwhitneyuResult(statistic=10538288235.5, pvalue=0.09482668243543424)\n"
     ]
    }
   ],
   "source": [
    "# Mann-Whitney U-test\n",
    "print(stats.mannwhitneyu(new_df[new_df.group == 'treatment'].converted, new_df[new_df.group == 'control'].converted))"
   ]
  },
  {
   "cell_type": "markdown",
   "metadata": {},
   "source": [
    "# Conclusion\n",
    "The critical z-score values when using a 95% confidence level are -1.96 and +1.96 standard deviations. The p-value associated with a 95% confidence level is 0.05. When z-score is between -1.96 and +1.96, the p-value will be larger than 0.05, and we cannot reject your null hypothsis. In our case the z-score is -1.31 and the p-value is 0.09, meaning that the z-score is less than the critical value 1.96. and the p-value is larger than alpha (0.05). Consequently, we fail to reject null-hypothesis. "
   ]
  }
 ],
 "metadata": {
  "kernelspec": {
   "display_name": "Python 3",
   "language": "python",
   "name": "python3"
  },
  "language_info": {
   "codemirror_mode": {
    "name": "ipython",
    "version": 3
   },
   "file_extension": ".py",
   "mimetype": "text/x-python",
   "name": "python",
   "nbconvert_exporter": "python",
   "pygments_lexer": "ipython3",
   "version": "3.6.6"
  }
 },
 "nbformat": 4,
 "nbformat_minor": 2
}
