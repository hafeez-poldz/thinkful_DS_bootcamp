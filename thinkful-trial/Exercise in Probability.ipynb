{
 "cells": [
  {
   "cell_type": "code",
   "execution_count": 4,
   "metadata": {},
   "outputs": [
    {
     "name": "stdout",
     "output_type": "stream",
     "text": [
      "probability of HTTH = 0.0625\n",
      "probability of HHHH = 0.0625\n",
      "probability of TTHH = 0.0625\n"
     ]
    }
   ],
   "source": [
    "# probability of flipping a balanced coin four times and getting each pattern: HTTH, HHHH and TTHH\n",
    "\n",
    "p = 0.5\n",
    "print(\"probability of HTTH = {}\".format(p*p*p*p))\n",
    "print(\"probability of HHHH = {}\".format(p*p*p*p))\n",
    "print(\"probability of TTHH = {}\".format(p*p*p*p))"
   ]
  },
  {
   "cell_type": "code",
   "execution_count": 5,
   "metadata": {},
   "outputs": [
    {
     "name": "stdout",
     "output_type": "stream",
     "text": [
      "answer is: 24/45\n"
     ]
    }
   ],
   "source": [
    "# If a list of people has 24 women and 21 men, then the probability of choosing a man from the list is 21/45. \n",
    "# What is the probability of not choosing a man?\n",
    "\n",
    "print('answer is: 24/45')"
   ]
  },
  {
   "cell_type": "code",
   "execution_count": 18,
   "metadata": {},
   "outputs": [
    {
     "name": "stdout",
     "output_type": "stream",
     "text": [
      "Probability of Bernice's flight crash is: 0.0005\n"
     ]
    }
   ],
   "source": [
    "# The probability that Bernice will travel by plane sometime in the next year is 10%. \n",
    "# The probability of a plane crash at any time is .005%. \n",
    "# What is the probability that Bernice will be in a plane crash sometime in the next year?\n",
    "\n",
    "p_travel = 10\n",
    "p_crash = 0.005\n",
    "print(\"Probability of Bernice's flight crash is: {}\".format(p_crash/p_travel))"
   ]
  },
  {
   "cell_type": "code",
   "execution_count": 20,
   "metadata": {},
   "outputs": [
    {
     "name": "stdout",
     "output_type": "stream",
     "text": [
      "The more time spent on website, the higher probability that users complete the survey\n"
     ]
    }
   ],
   "source": [
    "# Each time a user clicks on a link on the website, there is a 5% chance that the user will be asked \n",
    "# to complete a short survey about their behavior on the website. \n",
    "# The data scientist uses the survey data to conclude that, on average, users spend 15 minutes surfing the company website \n",
    "# before moving on to other things.\n",
    "\n",
    "print('The more time spent on website, the higher probability that users complete the survey')"
   ]
  },
  {
   "cell_type": "code",
   "execution_count": null,
   "metadata": {},
   "outputs": [],
   "source": []
  }
 ],
 "metadata": {
  "kernelspec": {
   "display_name": "Python 3",
   "language": "python",
   "name": "python3"
  },
  "language_info": {
   "codemirror_mode": {
    "name": "ipython",
    "version": 3
   },
   "file_extension": ".py",
   "mimetype": "text/x-python",
   "name": "python",
   "nbconvert_exporter": "python",
   "pygments_lexer": "ipython3",
   "version": "3.6.6"
  }
 },
 "nbformat": 4,
 "nbformat_minor": 2
}
