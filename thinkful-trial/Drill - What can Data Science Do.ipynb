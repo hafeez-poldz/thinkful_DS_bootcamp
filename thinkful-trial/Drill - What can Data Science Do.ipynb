{
 "cells": [
  {
   "cell_type": "code",
   "execution_count": 51,
   "metadata": {},
   "outputs": [],
   "source": [
    "import numpy as np\n",
    "import pandas as pd\n",
    "import matplotlib.pyplot as plt\n",
    "import seaborn as sns"
   ]
  },
  {
   "cell_type": "markdown",
   "metadata": {},
   "source": [
    "**question 1**. what products should be featured in new ads campaigns of our e-commerce company?\n",
    "\n"
   ]
  },
  {
   "cell_type": "code",
   "execution_count": 183,
   "metadata": {},
   "outputs": [],
   "source": [
    "np.random.seed(42)\n",
    "\n",
    "# create dataframe \n",
    "index = ['widgets', 'doodads', 'fizzbangs']\n",
    "df = pd.DataFrame(columns = ['page_views', 'website_sessions', 'conversions', 'price', 'cost'], index = index)\n",
    "df['page_views'] = np.random.randint(100, 1000, size = 3)\n",
    "df['website_sessions'] = np.random.randint(50, 100, size = 3)\n",
    "df['conversions'] = np.random.randint(0, 20, size = 3)\n",
    "df['price'] = np.random.randint(50, 100, size = 3)\n",
    "df['cost'] = np.random.randint(15, 30, size = 3)"
   ]
  },
  {
   "cell_type": "code",
   "execution_count": 184,
   "metadata": {},
   "outputs": [
    {
     "data": {
      "text/html": [
       "<div>\n",
       "<style scoped>\n",
       "    .dataframe tbody tr th:only-of-type {\n",
       "        vertical-align: middle;\n",
       "    }\n",
       "\n",
       "    .dataframe tbody tr th {\n",
       "        vertical-align: top;\n",
       "    }\n",
       "\n",
       "    .dataframe thead th {\n",
       "        text-align: right;\n",
       "    }\n",
       "</style>\n",
       "<table border=\"1\" class=\"dataframe\">\n",
       "  <thead>\n",
       "    <tr style=\"text-align: right;\">\n",
       "      <th></th>\n",
       "      <th>page_views</th>\n",
       "      <th>website_sessions</th>\n",
       "      <th>conversions</th>\n",
       "      <th>price</th>\n",
       "      <th>cost</th>\n",
       "    </tr>\n",
       "  </thead>\n",
       "  <tbody>\n",
       "    <tr>\n",
       "      <th>widgets</th>\n",
       "      <td>202</td>\n",
       "      <td>64</td>\n",
       "      <td>6</td>\n",
       "      <td>60</td>\n",
       "      <td>22</td>\n",
       "    </tr>\n",
       "    <tr>\n",
       "      <th>doodads</th>\n",
       "      <td>535</td>\n",
       "      <td>92</td>\n",
       "      <td>18</td>\n",
       "      <td>73</td>\n",
       "      <td>22</td>\n",
       "    </tr>\n",
       "    <tr>\n",
       "      <th>fizzbangs</th>\n",
       "      <td>960</td>\n",
       "      <td>57</td>\n",
       "      <td>10</td>\n",
       "      <td>85</td>\n",
       "      <td>17</td>\n",
       "    </tr>\n",
       "  </tbody>\n",
       "</table>\n",
       "</div>"
      ],
      "text/plain": [
       "           page_views  website_sessions  conversions  price  cost\n",
       "widgets           202                64            6     60    22\n",
       "doodads           535                92           18     73    22\n",
       "fizzbangs         960                57           10     85    17"
      ]
     },
     "execution_count": 184,
     "metadata": {},
     "output_type": "execute_result"
    }
   ],
   "source": [
    "df.head()"
   ]
  },
  {
   "cell_type": "code",
   "execution_count": 185,
   "metadata": {},
   "outputs": [
    {
     "name": "stdout",
     "output_type": "stream",
     "text": [
      "Widgets: Page/Session 3.0\n",
      "Doodads: Page/Session 6.0\n",
      "Fizzbags: Page/Session 17.0\n",
      "Widgets: Session/Conversion 11.0\n",
      "Doodads: Session/Conversion 5.0\n",
      "Fizzbangs: Session/Conversion 6.0\n",
      "Widgets Profit $228 \n",
      "Doodads Profit $918 \n",
      "Fizzbangs Profit $680 \n"
     ]
    }
   ],
   "source": [
    "# page views per session\n",
    "print('Widgets: Page/Session {}'.format(round(df.loc['widgets', 'page_views']/df.loc['widgets','website_sessions'])))\n",
    "print('Doodads: Page/Session {}'.format(round(df.loc['doodads', 'page_views']/df.loc['doodads','website_sessions'])))\n",
    "print('Fizzbags: Page/Session {}'.format(round(df.loc['fizzbangs', 'page_views']/df.loc['fizzbangs','website_sessions'])))\n",
    "\n",
    "# sessions per conversion\n",
    "print('Widgets: Session/Conversion {}'.format(round(df.iloc[0, 1]/df.iloc[0, 2])))\n",
    "print('Doodads: Session/Conversion {}'.format(round(df.iloc[1, 1]/df.iloc[1 ,2])))\n",
    "print('Fizzbangs: Session/Conversion {}'.format(round(df.iloc[2, 1]/df.iloc[2, 2])))\n",
    "\n",
    "# total profit\n",
    "print('Widgets Profit ${} '.format(df.iloc[0, 2]*(df.iloc[0, 3]-df.iloc[0, 4])))\n",
    "print('Doodads Profit ${} '.format(df.iloc[1, 2]*(df.iloc[1, 3]-df.iloc[1, 4])))\n",
    "print('Fizzbangs Profit ${} '.format(df.iloc[2, 2]*(df.iloc[2, 3]-df.iloc[2, 4])))"
   ]
  },
  {
   "cell_type": "markdown",
   "metadata": {},
   "source": [
    "**answer**: Our calculation gives us few ideas:\n",
    "\n",
    "1. Widgets have the lowest page/session and highest session/conversions. This means visitors on average do not spend the time to explore these products. Something is wrong with widgets because buyers on average make more sessions to decide whether to purchase or not.\n",
    "\n",
    "2. Compared to widgets and fizzbangs, doodads are selling well. They have the highest conversion rate and fewest sessions per conversion. Visitors make confident purchase decisions. Moreover, profit from doodads is 4 times higher than from widgets while they cost the same.\n",
    "\n",
    "3. Fizzbangs probably the most interesting products on the website. Visitors like to browse them and the session/conversion rate is very good. Because the price of fizzbangs is the highest, it might have some effect on their conversion rate. \n",
    "\n",
    "What marketing/advertisement team can do:\n",
    "1. Fizzbangs have the highest price and the lowest cost. The marketing team can work on price to increase the conversion rate. \n",
    "2. Check the product quality/ of widgets. People tend to buy them, but something is not right with these products.\n",
    "3. Doodads are the best to feature in new advertisement campaigns to boost the profit. \n",
    "\n",
    "\n",
    " \n"
   ]
  },
  {
   "cell_type": "markdown",
   "metadata": {},
   "source": [
    "**question 2**: why Signups have slowed?\n",
    "\n",
    "**answer**: as our onboarding funnel has three steps and to get users signed up they need to complete all three steps. To find a reason why people do not sign up as before we need to answer few questions.\n",
    "\n",
    "1. In which step they give up mostly. \n",
    "2. What is the average duration users spend to complete each step.\n",
    "3. Does the average duration for each step change over 3 years? \n",
    "\n",
    "Also,\n",
    "4. Is there any correlation between marketing spendings and number of sign-ups? \n",
    "5. If yes, is it negative or positive?  \n",
    "6. Have marketing spendings changed over 3 years?"
   ]
  },
  {
   "cell_type": "markdown",
   "metadata": {},
   "source": [
    "**question 3**: what could be better ranking system given price information, session information and aviability information\n",
    "\n",
    "**answer**: when customers search for hotels, they usually have opportunity to filter their search results. \n",
    "What should be the better ranking by default?\n",
    "1. ranking based on combination of aviability and price could be better option than price alone. \n",
    "2. session information is very significant as it gives us more information about the quality, range of services of particular hotel and how that hotel represents itself in our booking platform. The combination of session and price in this case can give us better ranking results.\n",
    "3. the more information we have, the better search result we can show to potential customers. "
   ]
  },
  {
   "cell_type": "markdown",
   "metadata": {},
   "source": [
    "**question 4**: why people don't use our product? Should we worry?\n",
    "\n",
    "**answer**: we have login data and session duration per logged in user for the last 3 years, what can we get from it?\n",
    "\n",
    "1. check trends, seasonality (noises) for those years\n",
    "2. remove noises from our data to see if there is an anomaly. \n",
    "3. how the average session duration changed over three years?  If the average time spent on our platform decreased over 3 years, churn might be atypical and management needs to take some action. "
   ]
  },
  {
   "cell_type": "code",
   "execution_count": null,
   "metadata": {},
   "outputs": [],
   "source": []
  }
 ],
 "metadata": {
  "kernelspec": {
   "display_name": "Python 3",
   "language": "python",
   "name": "python3"
  },
  "language_info": {
   "codemirror_mode": {
    "name": "ipython",
    "version": 3
   },
   "file_extension": ".py",
   "mimetype": "text/x-python",
   "name": "python",
   "nbconvert_exporter": "python",
   "pygments_lexer": "ipython3",
   "version": "3.6.6"
  }
 },
 "nbformat": 4,
 "nbformat_minor": 2
}
