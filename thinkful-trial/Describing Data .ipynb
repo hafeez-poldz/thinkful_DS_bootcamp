{
 "cells": [
  {
   "cell_type": "code",
   "execution_count": 85,
   "metadata": {},
   "outputs": [
    {
     "name": "stdout",
     "output_type": "stream",
     "text": [
      "     Name  Age\n",
      "0    Greg   14\n",
      "1  Marcia   12\n",
      "2   Peter   11\n",
      "3     Jan   10\n",
      "4   Bobby    8\n",
      "5   Cindy    6\n",
      "6  Oliver    8\n"
     ]
    }
   ],
   "source": [
    "import pandas as pd \n",
    "import numpy as np \n",
    "\n",
    "data = np.array([['Greg', 14], ['Marcia', 12], ['Peter', 11], ['Jan', 10], ['Bobby', 8],\n",
    "['Cindy', 6], ['Oliver', 8]])\n",
    "\n",
    "df = pd.DataFrame(data, columns = ['Name', 'Age'])\n",
    "df['Age'] = pd.to_numeric(df['Age'])\n",
    "\n",
    "print(df)"
   ]
  },
  {
   "cell_type": "code",
   "execution_count": 68,
   "metadata": {},
   "outputs": [
    {
     "name": "stdout",
     "output_type": "stream",
     "text": [
      "Mean: 9.857142857142858, Median: 10.0, Mode: 0    8\n",
      "dtype: int64\n"
     ]
    }
   ],
   "source": [
    "# measure of central tendency\n",
    "age_mean = df.Age.mean()\n",
    "age_median = df.Age.median()\n",
    "age_mode = df.Age.mode()\n",
    "\n",
    "print('Mean: {}, Median: {}, Mode: {}'.format(age_mean, age_median, age_mode))\n",
    "# in this case, the mean is very useful measure of central tendency as it's very close to the values of median and mode."
   ]
  },
  {
   "cell_type": "code",
   "execution_count": 69,
   "metadata": {},
   "outputs": [
    {
     "name": "stdout",
     "output_type": "stream",
     "text": [
      "Variance : 6.408163265306122, Std: 2.734262327610589, Standard Error: 1.0334540197243192\n"
     ]
    }
   ],
   "source": [
    "# measure of variance\n",
    "\n",
    "age_var = np.var(df.Age)\n",
    "age_std = np.std(df.Age, ddof = 1 )\n",
    "age_se = age_std / np.sqrt(len(df.Age))\n",
    "\n",
    "print('Variance : {}, Std: {}, Standard Error: {}'.format(age_var, age_std, age_se))\n",
    "# The mean and median are close, so standard deviation is good to pick as a measure of variace"
   ]
  },
  {
   "cell_type": "code",
   "execution_count": 70,
   "metadata": {},
   "outputs": [
    {
     "name": "stdout",
     "output_type": "stream",
     "text": [
      "Mean: 10.0, Median: 10.0, Mode: 0    8\n",
      "dtype: int64\n"
     ]
    }
   ],
   "source": [
    "# Cindy has a birthday\n",
    "df.loc[5,'Age'] = 7\n",
    "\n",
    "# updating estimates of centarl tendency\n",
    "updated_mean = df.Age.mean()\n",
    "updated_median = df.Age.median()\n",
    "updated_mode = df.Age.mode()\n",
    "print('Mean: {}, Median: {}, Mode: {}'.format(updated_mean, updated_median, updated_mode))\n",
    "\n",
    "# only the mean of the dataset changed. the median and mode are the same as before"
   ]
  },
  {
   "cell_type": "code",
   "execution_count": 71,
   "metadata": {},
   "outputs": [
    {
     "name": "stdout",
     "output_type": "stream",
     "text": [
      "Variance : 5.428571428571429, Std: 2.516611478423583, Standard Error: 1.0334540197243192\n"
     ]
    }
   ],
   "source": [
    "# updated estimates of variance\n",
    "\n",
    "updated_var = np.var(df.Age)\n",
    "updated_std = np.std(df.Age, ddof = 1 )\n",
    "updated_se = age_std / np.sqrt(len(df.Age))\n",
    "\n",
    "print('Variance : {}, Std: {}, Standard Error: {}'.format(updated_var, updated_std, updated_se))\n",
    "\n",
    "# small changes in variance and standard deviation is observed. Standard Error is the same as before"
   ]
  },
  {
   "cell_type": "code",
   "execution_count": 72,
   "metadata": {},
   "outputs": [],
   "source": [
    "# replacing Oliver(8) with Jessica(1)\n",
    "\n",
    "df.loc[6:6, 'Name':'Age'] = 'Jessica', 1"
   ]
  },
  {
   "cell_type": "code",
   "execution_count": 73,
   "metadata": {},
   "outputs": [
    {
     "name": "stdout",
     "output_type": "stream",
     "text": [
      "Mean: 9.0, Median: 10.0, Mode: 0     1\n",
      "1     7\n",
      "2     8\n",
      "3    10\n",
      "4    11\n",
      "5    12\n",
      "6    14\n",
      "dtype: int64\n"
     ]
    }
   ],
   "source": [
    "# new estimates of central tendency with Jessica(1)\n",
    "\n",
    "updated2_mean = df.Age.mean()\n",
    "updated2_median = df.Age.median()\n",
    "updated2_mode = df.Age.mode()\n",
    "print('Mean: {}, Median: {}, Mode: {}'.format(updated2_mean, updated2_median, updated2_mode))\n",
    "\n",
    "# The mean is still good. All values are unique, so mode cannot be useful as a measure of central tendency as well as the median\n",
    "# falling farther from the min value of the dataset than mean."
   ]
  },
  {
   "cell_type": "code",
   "execution_count": 74,
   "metadata": {},
   "outputs": [
    {
     "name": "stdout",
     "output_type": "stream",
     "text": [
      "Variance : 15.428571428571429, Std: 4.242640687119285, Standard Error: 1.0334540197243192\n"
     ]
    }
   ],
   "source": [
    "# new estimates of variance with Jessica(1)\n",
    "\n",
    "updated2_var = np.var(df.Age)\n",
    "updated2_std = np.std(df.Age, ddof = 1 )\n",
    "updated2_se = age_std / np.sqrt(len(df.Age))\n",
    "\n",
    "print('Variance : {}, Std: {}, Standard Error: {}'.format(updated2_var, updated2_std, updated2_se))\n",
    "# Variance tripled and standard deviation doubled. Only Standard error kept the same "
   ]
  },
  {
   "cell_type": "code",
   "execution_count": 83,
   "metadata": {},
   "outputs": [
    {
     "name": "stdout",
     "output_type": "stream",
     "text": [
      "the answer is:  20.0\n"
     ]
    }
   ],
   "source": [
    "# the Brady Bunch is general entertainment show. So we should exclude SciPhi Phanatic fans (narrow interest) and\n",
    "# work with the rest 3 as they are more general\n",
    "\n",
    "magazines = np.array([['TV Guide', 20], ['Entertainment Weekly', 23], ['Pop Culture Today', 17]])\n",
    "data = pd.DataFrame(magazines, columns = ['Magazine', 'Fans %'])\n",
    "data['Fans %'] = pd.to_numeric(data['Fans %'])\n",
    "mean = np.mean(data['Fans %'])\n",
    "print('the answer is: ', mean)"
   ]
  },
  {
   "cell_type": "code",
   "execution_count": null,
   "metadata": {},
   "outputs": [],
   "source": []
  }
 ],
 "metadata": {
  "kernelspec": {
   "display_name": "Python 3",
   "language": "python",
   "name": "python3"
  },
  "language_info": {
   "codemirror_mode": {
    "name": "ipython",
    "version": 3
   },
   "file_extension": ".py",
   "mimetype": "text/x-python",
   "name": "python",
   "nbconvert_exporter": "python",
   "pygments_lexer": "ipython3",
   "version": "3.6.6"
  }
 },
 "nbformat": 4,
 "nbformat_minor": 2
}
